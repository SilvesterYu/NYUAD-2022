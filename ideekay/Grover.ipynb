{
 "cells": [
  {
   "cell_type": "code",
   "execution_count": 1,
   "id": "20e71b8e-bb27-48ae-998e-d678381c1165",
   "metadata": {},
   "outputs": [],
   "source": [
    "import matplotlib.pyplot as plt\n",
    "import numpy as np\n",
    "\n",
    "# importing Qiskit\n",
    "from qiskit import IBMQ, Aer, assemble, transpile\n",
    "from qiskit import QuantumCircuit, ClassicalRegister, QuantumRegister\n",
    "from qiskit.providers.ibmq import least_busy\n",
    "\n",
    "# import basic plot tools\n",
    "from qiskit.visualization import plot_histogram"
   ]
  },
  {
   "cell_type": "code",
   "execution_count": 2,
   "id": "b5ca4ee8-86b1-44b9-91c9-20d971318332",
   "metadata": {},
   "outputs": [],
   "source": [
    "import random"
   ]
  },
  {
   "cell_type": "code",
   "execution_count": 3,
   "id": "4e13430d-344a-4cc1-bc51-ee29fd7735d7",
   "metadata": {},
   "outputs": [],
   "source": [
    "n = 3\n",
    "grover_circuit = QuantumCircuit(n)"
   ]
  },
  {
   "cell_type": "code",
   "execution_count": 4,
   "id": "b256eab4-917b-47e5-8711-89c1813972fc",
   "metadata": {},
   "outputs": [],
   "source": [
    "def initialize_s(qc, qubits):\n",
    "    \"\"\"Apply a H-gate to 'qubits' in qc\"\"\"\n",
    "    for q in qubits:\n",
    "        qc.h(q)\n",
    "    return qc"
   ]
  },
  {
   "cell_type": "code",
   "execution_count": 5,
   "id": "1b2af2fb-8db2-41e6-bd20-9626fd7ae046",
   "metadata": {},
   "outputs": [
    {
     "data": {
      "image/png": "[encoded data removed]",
      "text/plain": [
       "<Figure size 146.797x204.68 with 1 Axes>"
      ]
     },
     "execution_count": 5,
     "metadata": {},
     "output_type": "execute_result"
    }
   ],
   "source": [
    "grover_circuit = initialize_s(grover_circuit, [0,1,2])\n",
    "grover_circuit.draw(output='mpl')"
   ]
  },
  {
   "cell_type": "code",
   "execution_count": 6,
   "id": "17edea29-ae5e-4b0b-b00a-0b8e01d59a3f",
   "metadata": {},
   "outputs": [],
   "source": [
    "qc = QuantumCircuit(3)\n",
    "qc.cz(0, 2)\n",
    "qc.cz(1, 2)\n",
    "oracle_ex3 = qc.to_gate()\n",
    "oracle_ex3.name = \"Oracle\""
   ]
  },
  {
   "cell_type": "code",
   "execution_count": 7,
   "id": "00793d3e-4a1b-4e05-960b-149c6f065674",
   "metadata": {},
   "outputs": [
    {
     "name": "stdout",
     "output_type": "stream",
     "text": [
      "1 0 1 0\n"
     ]
    },
    {
     "data": {
      "image/png": "[encoded data removed]",
      "text/plain": [
       "<Figure size 929.397x204.68 with 1 Axes>"
      ]
     },
     "execution_count": 7,
     "metadata": {},
     "output_type": "execute_result"
    }
   ],
   "source": [
    "qc = QuantumCircuit(3)\n",
    "\n",
    "from random import randint\n",
    "\n",
    "j=randint(0, 1)\n",
    "k=randint(0, 1)\n",
    "l=randint(0, 1)\n",
    "m=randint(0, 1)\n",
    "print(j,k,l,m)\n",
    "if j==1:\n",
    "    qc.x(0)\n",
    "if k==1:\n",
    "    qc.z(0)\n",
    "if l==1:\n",
    "    qc.x(2)\n",
    "if m==1:\n",
    "    qc.z(2)\n",
    "qc.barrier()\n",
    "qc.cz(0, 2)\n",
    "qc.barrier()\n",
    "if m==1:\n",
    "    qc.z(2)\n",
    "if l==1:\n",
    "    qc.x(2)\n",
    "if l==1:\n",
    "    qc.z(0)\n",
    "if k==1:\n",
    "    qc.z(0)\n",
    "if j==1:\n",
    "    qc.x(0)\n",
    "qc.barrier()\n",
    "\n",
    "if j==1:\n",
    "    qc.x(1)\n",
    "if k==1:\n",
    "    qc.z(1)\n",
    "if l==1:\n",
    "    qc.x(2)\n",
    "if m==1:\n",
    "    qc.z(2)\n",
    "qc.barrier()\n",
    "qc.cz(1, 2)\n",
    "qc.barrier()\n",
    "if m==1:\n",
    "    qc.z(2)\n",
    "if l==1:\n",
    "    qc.x(2)\n",
    "if l==1:\n",
    "    qc.z(1)\n",
    "if k==1:\n",
    "    qc.z(1)\n",
    "if j==1:\n",
    "    qc.x(1)\n",
    "qc.barrier()\n",
    "    \n",
    "    \n",
    "qc.draw(output='mpl')"
   ]
  },
  {
   "cell_type": "code",
   "execution_count": 8,
   "id": "2367ec1d-1347-4024-abfd-057e55a895d1",
   "metadata": {},
   "outputs": [],
   "source": [
    "def diffuser(nqubits):\n",
    "    qc = QuantumCircuit(nqubits)\n",
    "    # Apply transformation |s> -> |00..0> (H-gates)\n",
    "    for qubit in range(nqubits):\n",
    "        qc.h(qubit)\n",
    "    # Apply transformation |00..0> -> |11..1> (X-gates)\n",
    "    for qubit in range(nqubits):\n",
    "        qc.x(qubit)\n",
    "    # Do multi-controlled-Z gate\n",
    "    qc.h(nqubits-1)\n",
    "    qc.mct(list(range(nqubits-1)), nqubits-1)  # multi-controlled-toffoli\n",
    "    qc.h(nqubits-1)\n",
    "    # Apply transformation |11..1> -> |00..0>\n",
    "    for qubit in range(nqubits):\n",
    "        qc.x(qubit)\n",
    "    # Apply transformation |00..0> -> |s>\n",
    "    for qubit in range(nqubits):\n",
    "        qc.h(qubit)\n",
    "    # We will return the diffuser as a gate\n",
    "    U_s = qc.to_gate()\n",
    "    U_s.name = \"Diffuser\"\n",
    "    return U_s"
   ]
  },
  {
   "cell_type": "code",
   "execution_count": 13,
   "id": "4ec9089b-7409-4ecc-ab9a-851094dcbbd3",
   "metadata": {},
   "outputs": [
    {
     "ename": "CircuitError",
     "evalue": "'The amount of qubit(3)/clbit(0) arguments does not match the gate expectation (9).'",
     "output_type": "error",
     "traceback": [
      "\u001b[0;31m---------------------------------------------------------------------------\u001b[0m",
      "\u001b[0;31mCircuitError\u001b[0m                              Traceback (most recent call last)",
      "\u001b[0;32m/tmp/ipykernel_954/3793431356.py\u001b[0m in \u001b[0;36m<module>\u001b[0;34m\u001b[0m\n\u001b[1;32m      3\u001b[0m \u001b[0mgrover_circuit\u001b[0m \u001b[0;34m=\u001b[0m \u001b[0minitialize_s\u001b[0m\u001b[0;34m(\u001b[0m\u001b[0mgrover_circuit\u001b[0m\u001b[0;34m,\u001b[0m \u001b[0;34m[\u001b[0m\u001b[0;36m0\u001b[0m\u001b[0;34m,\u001b[0m\u001b[0;36m1\u001b[0m\u001b[0;34m,\u001b[0m\u001b[0;36m2\u001b[0m\u001b[0;34m]\u001b[0m\u001b[0;34m)\u001b[0m\u001b[0;34m\u001b[0m\u001b[0;34m\u001b[0m\u001b[0m\n\u001b[1;32m      4\u001b[0m \u001b[0mgrover_circuit\u001b[0m\u001b[0;34m.\u001b[0m\u001b[0mappend\u001b[0m\u001b[0;34m(\u001b[0m\u001b[0mqc\u001b[0m\u001b[0;34m,\u001b[0m \u001b[0;34m[\u001b[0m\u001b[0;36m0\u001b[0m\u001b[0;34m,\u001b[0m\u001b[0;36m1\u001b[0m\u001b[0;34m,\u001b[0m\u001b[0;36m2\u001b[0m\u001b[0;34m]\u001b[0m\u001b[0;34m)\u001b[0m\u001b[0;34m\u001b[0m\u001b[0;34m\u001b[0m\u001b[0m\n\u001b[0;32m----> 5\u001b[0;31m \u001b[0mgrover_circuit\u001b[0m\u001b[0;34m.\u001b[0m\u001b[0mappend\u001b[0m\u001b[0;34m(\u001b[0m\u001b[0mdiffuser\u001b[0m\u001b[0;34m(\u001b[0m\u001b[0mn\u001b[0m\u001b[0;34m)\u001b[0m\u001b[0;34m,\u001b[0m \u001b[0;34m[\u001b[0m\u001b[0;36m0\u001b[0m\u001b[0;34m,\u001b[0m\u001b[0;36m1\u001b[0m\u001b[0;34m,\u001b[0m\u001b[0;36m2\u001b[0m\u001b[0;34m]\u001b[0m\u001b[0;34m)\u001b[0m\u001b[0;34m\u001b[0m\u001b[0;34m\u001b[0m\u001b[0m\n\u001b[0m\u001b[1;32m      6\u001b[0m \u001b[0;31m#grover_circuit.measure_all()\u001b[0m\u001b[0;34m\u001b[0m\u001b[0;34m\u001b[0m\u001b[0m\n\u001b[1;32m      7\u001b[0m \u001b[0mgrover_circuit\u001b[0m\u001b[0;34m.\u001b[0m\u001b[0mmeasure_all\u001b[0m\u001b[0;34m(\u001b[0m\u001b[0;34m)\u001b[0m\u001b[0;34m\u001b[0m\u001b[0;34m\u001b[0m\u001b[0m\n",
      "\u001b[0;32m/opt/conda/lib/python3.9/site-packages/qiskit/circuit/quantumcircuit.py\u001b[0m in \u001b[0;36mappend\u001b[0;34m(self, instruction, qargs, cargs)\u001b[0m\n\u001b[1;32m   1228\u001b[0m             \u001b[0mrequester\u001b[0m \u001b[0;34m=\u001b[0m \u001b[0mself\u001b[0m\u001b[0;34m.\u001b[0m\u001b[0m_resolve_classical_resource\u001b[0m\u001b[0;34m\u001b[0m\u001b[0;34m\u001b[0m\u001b[0m\n\u001b[1;32m   1229\u001b[0m         \u001b[0minstructions\u001b[0m \u001b[0;34m=\u001b[0m \u001b[0mInstructionSet\u001b[0m\u001b[0;34m(\u001b[0m\u001b[0mresource_requester\u001b[0m\u001b[0;34m=\u001b[0m\u001b[0mrequester\u001b[0m\u001b[0;34m)\u001b[0m\u001b[0;34m\u001b[0m\u001b[0;34m\u001b[0m\u001b[0m\n\u001b[0;32m-> 1230\u001b[0;31m         \u001b[0;32mfor\u001b[0m \u001b[0mqarg\u001b[0m\u001b[0;34m,\u001b[0m \u001b[0mcarg\u001b[0m \u001b[0;32min\u001b[0m \u001b[0minstruction\u001b[0m\u001b[0;34m.\u001b[0m\u001b[0mbroadcast_arguments\u001b[0m\u001b[0;34m(\u001b[0m\u001b[0mexpanded_qargs\u001b[0m\u001b[0;34m,\u001b[0m \u001b[0mexpanded_cargs\u001b[0m\u001b[0;34m)\u001b[0m\u001b[0;34m:\u001b[0m\u001b[0;34m\u001b[0m\u001b[0;34m\u001b[0m\u001b[0m\n\u001b[0m\u001b[1;32m   1231\u001b[0m             \u001b[0minstructions\u001b[0m\u001b[0;34m.\u001b[0m\u001b[0madd\u001b[0m\u001b[0;34m(\u001b[0m\u001b[0mappender\u001b[0m\u001b[0;34m(\u001b[0m\u001b[0minstruction\u001b[0m\u001b[0;34m,\u001b[0m \u001b[0mqarg\u001b[0m\u001b[0;34m,\u001b[0m \u001b[0mcarg\u001b[0m\u001b[0;34m)\u001b[0m\u001b[0;34m,\u001b[0m \u001b[0mqarg\u001b[0m\u001b[0;34m,\u001b[0m \u001b[0mcarg\u001b[0m\u001b[0;34m)\u001b[0m\u001b[0;34m\u001b[0m\u001b[0;34m\u001b[0m\u001b[0m\n\u001b[1;32m   1232\u001b[0m         \u001b[0;32mreturn\u001b[0m \u001b[0minstructions\u001b[0m\u001b[0;34m\u001b[0m\u001b[0;34m\u001b[0m\u001b[0m\n",
      "\u001b[0;32m/opt/conda/lib/python3.9/site-packages/qiskit/circuit/gate.py\u001b[0m in \u001b[0;36mbroadcast_arguments\u001b[0;34m(self, qargs, cargs)\u001b[0m\n\u001b[1;32m    198\u001b[0m         \"\"\"\n\u001b[1;32m    199\u001b[0m         \u001b[0;32mif\u001b[0m \u001b[0mlen\u001b[0m\u001b[0;34m(\u001b[0m\u001b[0mqargs\u001b[0m\u001b[0;34m)\u001b[0m \u001b[0;34m!=\u001b[0m \u001b[0mself\u001b[0m\u001b[0;34m.\u001b[0m\u001b[0mnum_qubits\u001b[0m \u001b[0;32mor\u001b[0m \u001b[0mcargs\u001b[0m\u001b[0;34m:\u001b[0m\u001b[0;34m\u001b[0m\u001b[0;34m\u001b[0m\u001b[0m\n\u001b[0;32m--> 200\u001b[0;31m             raise CircuitError(\n\u001b[0m\u001b[1;32m    201\u001b[0m                 \u001b[0;34mf\"The amount of qubit({len(qargs)})/clbit({len(cargs)}) arguments does\"\u001b[0m\u001b[0;34m\u001b[0m\u001b[0;34m\u001b[0m\u001b[0m\n\u001b[1;32m    202\u001b[0m                 \u001b[0;34mf\" not match the gate expectation ({self.num_qubits}).\"\u001b[0m\u001b[0;34m\u001b[0m\u001b[0;34m\u001b[0m\u001b[0m\n",
      "\u001b[0;31mCircuitError\u001b[0m: 'The amount of qubit(3)/clbit(0) arguments does not match the gate expectation (9).'"
     ]
    }
   ],
   "source": [
    "n = 3\n",
    "grover_circuit = QuantumCircuit(n)\n",
    "grover_circuit = initialize_s(grover_circuit, [0,1,2])\n",
    "grover_circuit.append(qc, [0,1,2])\n",
    "grover_circuit.append(diffuser(n), [0,1,2])\n",
    "#grover_circuit.measure_all()\n",
    "grover_circuit.measure_all()\n",
    "grover_circuit.draw(output='mpl')\n"
   ]
  },
  {
   "cell_type": "code",
   "execution_count": 14,
   "id": "36054cc1-a4cd-44ed-94f7-13dccc286afd",
   "metadata": {},
   "outputs": [
    {
     "ename": "QiskitError",
     "evalue": "'No counts for experiment \"0\"'",
     "output_type": "error",
     "traceback": [
      "\u001b[0;31m---------------------------------------------------------------------------\u001b[0m",
      "\u001b[0;31mQiskitError\u001b[0m                               Traceback (most recent call last)",
      "\u001b[0;32m/tmp/ipykernel_954/371875125.py\u001b[0m in \u001b[0;36m<module>\u001b[0;34m\u001b[0m\n\u001b[1;32m      3\u001b[0m \u001b[0mqobj\u001b[0m \u001b[0;34m=\u001b[0m \u001b[0massemble\u001b[0m\u001b[0;34m(\u001b[0m\u001b[0mtranspiled_grover_circuit\u001b[0m\u001b[0;34m)\u001b[0m\u001b[0;34m\u001b[0m\u001b[0;34m\u001b[0m\u001b[0m\n\u001b[1;32m      4\u001b[0m \u001b[0mresults\u001b[0m \u001b[0;34m=\u001b[0m \u001b[0maer_sim\u001b[0m\u001b[0;34m.\u001b[0m\u001b[0mrun\u001b[0m\u001b[0;34m(\u001b[0m\u001b[0mqobj\u001b[0m\u001b[0;34m)\u001b[0m\u001b[0;34m.\u001b[0m\u001b[0mresult\u001b[0m\u001b[0;34m(\u001b[0m\u001b[0;34m)\u001b[0m\u001b[0;34m\u001b[0m\u001b[0;34m\u001b[0m\u001b[0m\n\u001b[0;32m----> 5\u001b[0;31m \u001b[0mcounts\u001b[0m \u001b[0;34m=\u001b[0m \u001b[0mresults\u001b[0m\u001b[0;34m.\u001b[0m\u001b[0mget_counts\u001b[0m\u001b[0;34m(\u001b[0m\u001b[0;34m)\u001b[0m\u001b[0;34m\u001b[0m\u001b[0;34m\u001b[0m\u001b[0m\n\u001b[0m\u001b[1;32m      6\u001b[0m \u001b[0mplot_histogram\u001b[0m\u001b[0;34m(\u001b[0m\u001b[0mcounts\u001b[0m\u001b[0;34m)\u001b[0m\u001b[0;34m\u001b[0m\u001b[0;34m\u001b[0m\u001b[0m\n",
      "\u001b[0;32m/opt/conda/lib/python3.9/site-packages/qiskit/result/result.py\u001b[0m in \u001b[0;36mget_counts\u001b[0;34m(self, experiment)\u001b[0m\n\u001b[1;32m    298\u001b[0m                 \u001b[0mdict_list\u001b[0m\u001b[0;34m.\u001b[0m\u001b[0mappend\u001b[0m\u001b[0;34m(\u001b[0m\u001b[0mstatevector\u001b[0m\u001b[0;34m.\u001b[0m\u001b[0mStatevector\u001b[0m\u001b[0;34m(\u001b[0m\u001b[0mvec\u001b[0m\u001b[0;34m)\u001b[0m\u001b[0;34m.\u001b[0m\u001b[0mprobabilities_dict\u001b[0m\u001b[0;34m(\u001b[0m\u001b[0mdecimals\u001b[0m\u001b[0;34m=\u001b[0m\u001b[0;36m15\u001b[0m\u001b[0;34m)\u001b[0m\u001b[0;34m)\u001b[0m\u001b[0;34m\u001b[0m\u001b[0;34m\u001b[0m\u001b[0m\n\u001b[1;32m    299\u001b[0m             \u001b[0;32melse\u001b[0m\u001b[0;34m:\u001b[0m\u001b[0;34m\u001b[0m\u001b[0;34m\u001b[0m\u001b[0m\n\u001b[0;32m--> 300\u001b[0;31m                 \u001b[0;32mraise\u001b[0m \u001b[0mQiskitError\u001b[0m\u001b[0;34m(\u001b[0m\u001b[0;34mf'No counts for experiment \"{repr(key)}\"'\u001b[0m\u001b[0;34m)\u001b[0m\u001b[0;34m\u001b[0m\u001b[0;34m\u001b[0m\u001b[0m\n\u001b[0m\u001b[1;32m    301\u001b[0m \u001b[0;34m\u001b[0m\u001b[0m\n\u001b[1;32m    302\u001b[0m         \u001b[0;31m# Return first item of dict_list if size is 1\u001b[0m\u001b[0;34m\u001b[0m\u001b[0;34m\u001b[0m\u001b[0m\n",
      "\u001b[0;31mQiskitError\u001b[0m: 'No counts for experiment \"0\"'"
     ]
    }
   ],
   "source": [
    "aer_sim = Aer.get_backend('aer_simulator')\n",
    "transpiled_grover_circuit = transpile(grover_circuit, aer_sim)\n",
    "qobj = assemble(transpiled_grover_circuit)\n",
    "results = aer_sim.run(qobj).result()\n",
    "counts = results.get_counts()\n",
    "plot_histogram(counts)"
   ]
  },
  {
   "cell_type": "code",
   "execution_count": 28,
   "id": "9f9b2949-393e-4d2e-a809-65fab7e19659",
   "metadata": {},
   "outputs": [
    {
     "data": {
      "text/html": [
       "<pre style=\"word-wrap: normal;white-space: pre;background: #fff0;line-height: 1.1;font-family: &quot;Courier New&quot;,Courier,monospace\">                    \n",
       "q_0: ───────■───────\n",
       "            │       \n",
       "q_1: ───────■───────\n",
       "            │       \n",
       "q_2: ───────■───────\n",
       "            │       \n",
       "q_3: ───────■───────\n",
       "            │       \n",
       "q_4: ───────■───────\n",
       "            │       \n",
       "q_5: ───────■───────\n",
       "            │       \n",
       "q_6: ───────■───────\n",
       "            │       \n",
       "q_7: ───────■───────\n",
       "     ┌───┐┌─┴─┐┌───┐\n",
       "q_8: ┤ H ├┤ X ├┤ H ├\n",
       "     └───┘└───┘└───┘</pre>"
      ],
      "text/plain": [
       "                    \n",
       "q_0: ───────■───────\n",
       "            │       \n",
       "q_1: ───────■───────\n",
       "            │       \n",
       "q_2: ───────■───────\n",
       "            │       \n",
       "q_3: ───────■───────\n",
       "            │       \n",
       "q_4: ───────■───────\n",
       "            │       \n",
       "q_5: ───────■───────\n",
       "            │       \n",
       "q_6: ───────■───────\n",
       "            │       \n",
       "q_7: ───────■───────\n",
       "     ┌───┐┌─┴─┐┌───┐\n",
       "q_8: ┤ H ├┤ X ├┤ H ├\n",
       "     └───┘└───┘└───┘"
      ]
     },
     "execution_count": 28,
     "metadata": {},
     "output_type": "execute_result"
    }
   ],
   "source": [
    "qc =QuantumCircuit(9)\n",
    "qc.h(8)\n",
    "qc.mcx([0,1,2,3,4,5,6,7],8)\n",
    "qc.h(8)\n",
    "qc.draw()\n"
   ]
  },
  {
   "cell_type": "code",
   "execution_count": 32,
   "id": "5fb47dd5-4aec-42c9-a655-0c418301c42c",
   "metadata": {},
   "outputs": [],
   "source": [
    "qc_trans = transpile(qc)"
   ]
  },
  {
   "cell_type": "code",
   "execution_count": 39,
   "id": "e6ad9af1-373e-4630-8848-57dcf2104cb8",
   "metadata": {},
   "outputs": [],
   "source": [
    "def H(qc,i,j,k):\n",
    "    if j==1:\n",
    "        qc.x(i)\n",
    "    if k==1:\n",
    "        qc.z(i)\n",
    "    qc.h(i)\n",
    "    if k==1:\n",
    "        qc.x(i)\n",
    "    if j==1:\n",
    "        qc.z(i)\n",
    "\n",
    "    return qc\n",
    "   \n",
    "    "
   ]
  },
  {
   "cell_type": "code",
   "execution_count": 41,
   "id": "6f48d18a-ca76-451c-863f-2cad87e085cd",
   "metadata": {},
   "outputs": [],
   "source": [
    "def cnot(qc,c,t,j,k,l,m):\n",
    "    if j==1:\n",
    "        qc.x(c)\n",
    "    if k==1:\n",
    "        qc.z(c)\n",
    "    if l==1:\n",
    "        qc.x(t)\n",
    "    if m==1:\n",
    "        qc.z(t)\n",
    "    qc.barrier()\n",
    "    qc.cx(c,t)\n",
    "    qc.barrier()\n",
    "    if m==1:\n",
    "        qc.z(t)\n",
    "    if m==1:\n",
    "        qc.z(c)\n",
    "    if k==1:\n",
    "        qc.z(c)\n",
    "    if l==1:\n",
    "        qc.x(t)\n",
    "    if j==1:\n",
    "        qc.x(t)\n",
    "    if j==1:\n",
    "        qc.x(c)\n",
    "    \n",
    "\n",
    "    return qc\n",
    "    \n",
    "    "
   ]
  },
  {
   "cell_type": "code",
   "execution_count": 42,
   "id": "97cb5b9d-388f-4e45-8cbe-421a7ed93eca",
   "metadata": {},
   "outputs": [],
   "source": [
    "def CZ(qc,c,t,j,k,l,m):\n",
    "    if j==1:\n",
    "        qc.x(0)\n",
    "    if k==1:\n",
    "        qc.z(0)\n",
    "    if l==1:\n",
    "        qc.x(2)\n",
    "    if m==1:\n",
    "        qc.z(2)\n",
    "    qc.barrier()\n",
    "    qc.cz(0, 2)\n",
    "    qc.barrier()\n",
    "    if m==1:\n",
    "        qc.z(2)\n",
    "    if l==1:\n",
    "        qc.x(2)\n",
    "    if l==1:\n",
    "        qc.z(0)\n",
    "    if k==1:\n",
    "        qc.z(0)\n",
    "    if j==1:\n",
    "        qc.x(0)\n",
    "    qc.barrier()"
   ]
  },
  {
   "cell_type": "code",
   "execution_count": null,
   "id": "f6cd722d-8145-48fa-8090-e88ad0ee4f09",
   "metadata": {},
   "outputs": [],
   "source": [
    "def QRNG(n):\n",
    "    qc=QuantumCircuit(n,n)\n",
    "    qc.h(0:n)\n",
    "    qc.measure_all()\n",
    "    "
   ]
  }
 ],
 "metadata": {
  "kernelspec": {
   "display_name": "Python 3 (ipykernel)",
   "language": "python",
   "name": "python3"
  },
  "language_info": {
   "codemirror_mode": {
    "name": "ipython",
    "version": 3
   },
   "file_extension": ".py",
   "mimetype": "text/x-python",
   "name": "python",
   "nbconvert_exporter": "python",
   "pygments_lexer": "ipython3",
   "version": "3.9.7"
  }
 },
 "nbformat": 4,
 "nbformat_minor": 5
}
