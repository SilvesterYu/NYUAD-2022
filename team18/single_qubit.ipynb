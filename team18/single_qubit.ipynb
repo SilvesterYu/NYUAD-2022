{
 "cells": [
  {
   "cell_type": "code",
   "execution_count": 77,
   "id": "40cab1c5-2a6c-495d-8a9d-8fca1a739f12",
   "metadata": {},
   "outputs": [
    {
     "name": "stderr",
     "output_type": "stream",
     "text": [
      "ibmqfactory.load_account:WARNING:2022-03-31 06:35:52,971: Credentials are already in use. The existing account in the session will be replaced.\n"
     ]
    }
   ],
   "source": [
    "import numpy as np\n",
    "\n",
    "# Importing standard Qiskit libraries\n",
    "from qiskit import QuantumCircuit, transpile, Aer, IBMQ\n",
    "from qiskit.tools.jupyter import *\n",
    "from qiskit.visualization import *\n",
    "from ibm_quantum_widgets import *\n",
    "from qiskit.providers.aer import QasmSimulator\n",
    "\n",
    "# Loading your IBM Quantum account(s)\n",
    "provider = IBMQ.load_account()"
   ]
  },
  {
   "cell_type": "code",
   "execution_count": 78,
   "id": "97fd2d34-1730-4c05-a112-996a75bfa115",
   "metadata": {},
   "outputs": [
    {
     "name": "stdout",
     "output_type": "stream",
     "text": [
      "0\n",
      "1\n",
      "2\n",
      "1\n",
      "3\n",
      "1\n",
      "1\n",
      "1\n",
      "1\n",
      "1\n",
      "3\n"
     ]
    }
   ],
   "source": [
    "# single qubit gates with no parameters\n",
    "sgle_noparam = [\"i\",\"x\",\"y\",\"z\",\"h\",\"s\",\"sdg\",\"t\",\"tdg\",\"sx\",\"sxdg\"]\n",
    "for gate in sgle_noparam:\n",
    "    circuit = QuantumCircuit(1)\n",
    "    getattr(circuit, gate)(0)\n",
    "    print(transpile(circuit, basis_gates=([\"id\", \"rz\", \"sx\", \"x\", \"cx\"])).size())"
   ]
  },
  {
   "cell_type": "code",
   "execution_count": 80,
   "id": "77acd4e3-e351-40bd-9154-cd89ca92d5cd",
   "metadata": {},
   "outputs": [
    {
     "name": "stdout",
     "output_type": "stream",
     "text": [
      "1\n",
      "5\n",
      "4\n",
      "1\n"
     ]
    }
   ],
   "source": [
    "# single qubit gates with parameters\n",
    "sgle_1_param = [\"p\",\"rx\",\"ry\",\"rz\"]\n",
    "import numpy as np\n",
    "\n",
    "for gate in sgle_1_param:\n",
    "    param = random.uniform(-np.pi, np.pi)\n",
    "    circuit = QuantumCircuit(1)\n",
    "    getattr(circuit, gate)(param,0)\n",
    "    print(transpile(circuit, basis_gates=([\"id\", \"rz\", \"sx\", \"x\", \"cx\"])).size())"
   ]
  },
  {
   "cell_type": "code",
   "execution_count": null,
   "id": "bfa05255-0503-437f-b690-7919e2295ac9",
   "metadata": {},
   "outputs": [],
   "source": [
    "sgle_2_param= [\"u2\", \"u\", \"u3\"]\n"
   ]
  }
 ],
 "metadata": {
  "kernelspec": {
   "display_name": "Qiskit v0.34.2 (ipykernel)",
   "language": "python",
   "name": "python3"
  },
  "language_info": {
   "codemirror_mode": {
    "name": "ipython",
    "version": 3
   },
   "file_extension": ".py",
   "mimetype": "text/x-python",
   "name": "python",
   "nbconvert_exporter": "python",
   "pygments_lexer": "ipython3",
   "version": "3.8.12"
  },
  "widgets": {
   "application/vnd.jupyter.widget-state+json": {
    "state": {
     "14d422bb2683460289003ee41a1c010a": {
      "model_module": "@jupyter-widgets/controls",
      "model_module_version": "1.5.0",
      "model_name": "DescriptionStyleModel",
      "state": {
       "description_width": ""
      }
     },
     "1e990bdbd1404bbfb4ca691cc998768a": {
      "model_module": "@jupyter-widgets/controls",
      "model_module_version": "1.5.0",
      "model_name": "GridBoxModel",
      "state": {
       "children": [
        "IPY_MODEL_688564435ccf4c8c89888530c23d687e"
       ],
       "layout": "IPY_MODEL_840c0ef513694eb9af7a6dc8ff1ecd94"
      }
     },
     "1ec1c3acb6cc473ca1d3529fc82fbe37": {
      "model_module": "@jupyter-widgets/controls",
      "model_module_version": "1.5.0",
      "model_name": "DescriptionStyleModel",
      "state": {
       "description_width": ""
      }
     },
     "29e57ded15a14a5e93b6eb5037c07b8d": {
      "model_module": "@jupyter-widgets/base",
      "model_module_version": "1.2.0",
      "model_name": "LayoutModel",
      "state": {
       "margin": "0px 0px 0px 37px",
       "width": "600px"
      }
     },
     "2de77e52d9454314a2a777b913674949": {
      "model_module": "@jupyter-widgets/controls",
      "model_module_version": "1.5.0",
      "model_name": "DescriptionStyleModel",
      "state": {
       "description_width": ""
      }
     },
     "370aa810023e4050874820e87910ab04": {
      "model_module": "@jupyter-widgets/controls",
      "model_module_version": "1.5.0",
      "model_name": "DescriptionStyleModel",
      "state": {
       "description_width": ""
      }
     },
     "3d1ed1ebf0c74ad0a3aa0345531c7a6f": {
      "model_module": "@jupyter-widgets/controls",
      "model_module_version": "1.5.0",
      "model_name": "DescriptionStyleModel",
      "state": {
       "description_width": ""
      }
     },
     "41a0ff9d2e964ac491ea953e48660829": {
      "model_module": "@jupyter-widgets/controls",
      "model_module_version": "1.5.0",
      "model_name": "HTMLModel",
      "state": {
       "layout": "IPY_MODEL_ae94385637f64884bb8e0e73aa27491f",
       "style": "IPY_MODEL_14d422bb2683460289003ee41a1c010a",
       "value": "<p style='font-family: IBM Plex Sans, Arial, Helvetica, sans-serif; font-size: 20px; font-weight: medium;'>Circuit Properties</p>"
      }
     },
     "5400f5cc66a54148bb04396ea446dece": {
      "model_module": "@jupyter-widgets/base",
      "model_module_version": "1.2.0",
      "model_name": "LayoutModel",
      "state": {
       "grid_area": "right",
       "padding": "0px 0px 0px 0px",
       "width": "70px"
      }
     },
     "5677b3f8069d42a6855811a46e9c8caf": {
      "model_module": "@jupyter-widgets/controls",
      "model_module_version": "1.5.0",
      "model_name": "HTMLModel",
      "state": {
       "layout": "IPY_MODEL_a3e1b72e52e74aa89832527e7e57875f",
       "style": "IPY_MODEL_1ec1c3acb6cc473ca1d3529fc82fbe37",
       "value": "<h5>Status</h5>"
      }
     },
     "688564435ccf4c8c89888530c23d687e": {
      "model_module": "@jupyter-widgets/controls",
      "model_module_version": "1.5.0",
      "model_name": "ButtonModel",
      "state": {
       "button_style": "primary",
       "description": "Clear",
       "layout": "IPY_MODEL_5400f5cc66a54148bb04396ea446dece",
       "style": "IPY_MODEL_96b48f366ff04f6eb9fef465e996940c"
      }
     },
     "840c0ef513694eb9af7a6dc8ff1ecd94": {
      "model_module": "@jupyter-widgets/base",
      "model_module_version": "1.2.0",
      "model_name": "LayoutModel",
      "state": {
       "grid_template_areas": "\n                                       \". . . . right \"\n                                        ",
       "grid_template_columns": "20% 20% 20% 20% 20%",
       "width": "100%"
      }
     },
     "8f90c4156587444481958af38a049029": {
      "model_module": "@jupyter-widgets/controls",
      "model_module_version": "1.5.0",
      "model_name": "DescriptionStyleModel",
      "state": {
       "description_width": ""
      }
     },
     "90eac9ca8aba451bb66d5aff985af4ed": {
      "model_module": "@jupyter-widgets/controls",
      "model_module_version": "1.5.0",
      "model_name": "HBoxModel",
      "state": {
       "children": [
        "IPY_MODEL_eb624b3d5eaf4fde95fb3cc6b72fd426",
        "IPY_MODEL_c1242001955d4873a8bec863be213547",
        "IPY_MODEL_5677b3f8069d42a6855811a46e9c8caf",
        "IPY_MODEL_e24299789d124c67b5e66802f4bea23c",
        "IPY_MODEL_a7cbbe93eb8e4ecb941d08aefdd68625"
       ],
       "layout": "IPY_MODEL_29e57ded15a14a5e93b6eb5037c07b8d"
      }
     },
     "96b48f366ff04f6eb9fef465e996940c": {
      "model_module": "@jupyter-widgets/controls",
      "model_module_version": "1.5.0",
      "model_name": "ButtonStyleModel",
      "state": {}
     },
     "a3e1b72e52e74aa89832527e7e57875f": {
      "model_module": "@jupyter-widgets/base",
      "model_module_version": "1.2.0",
      "model_name": "LayoutModel",
      "state": {
       "width": "95px"
      }
     },
     "a7cbbe93eb8e4ecb941d08aefdd68625": {
      "model_module": "@jupyter-widgets/controls",
      "model_module_version": "1.5.0",
      "model_name": "HTMLModel",
      "state": {
       "layout": "IPY_MODEL_eb734fb6e7c94e579ec59a08adde0424",
       "style": "IPY_MODEL_2de77e52d9454314a2a777b913674949",
       "value": "<h5>Message</h5>"
      }
     },
     "ade82029d1d94706970716c4af629f2c": {
      "model_module": "@jupyter-widgets/base",
      "model_module_version": "1.2.0",
      "model_name": "LayoutModel",
      "state": {
       "width": "190px"
      }
     },
     "ae94385637f64884bb8e0e73aa27491f": {
      "model_module": "@jupyter-widgets/base",
      "model_module_version": "1.2.0",
      "model_name": "LayoutModel",
      "state": {
       "margin": "0px 0px 10px 0px"
      }
     },
     "b7aa8e37bda3420ea7cbb5708cdd2571": {
      "model_module": "@jupyter-widgets/base",
      "model_module_version": "1.2.0",
      "model_name": "LayoutModel",
      "state": {
       "width": "70px"
      }
     },
     "c1242001955d4873a8bec863be213547": {
      "model_module": "@jupyter-widgets/controls",
      "model_module_version": "1.5.0",
      "model_name": "HTMLModel",
      "state": {
       "layout": "IPY_MODEL_e72badfd371742cdb89a0181cf9e119a",
       "style": "IPY_MODEL_3d1ed1ebf0c74ad0a3aa0345531c7a6f",
       "value": "<h5>Backend</h5>"
      }
     },
     "e24299789d124c67b5e66802f4bea23c": {
      "model_module": "@jupyter-widgets/controls",
      "model_module_version": "1.5.0",
      "model_name": "HTMLModel",
      "state": {
       "layout": "IPY_MODEL_b7aa8e37bda3420ea7cbb5708cdd2571",
       "style": "IPY_MODEL_370aa810023e4050874820e87910ab04",
       "value": "<h5>Queue</h5>"
      }
     },
     "e72badfd371742cdb89a0181cf9e119a": {
      "model_module": "@jupyter-widgets/base",
      "model_module_version": "1.2.0",
      "model_name": "LayoutModel",
      "state": {
       "width": "145px"
      }
     },
     "eb624b3d5eaf4fde95fb3cc6b72fd426": {
      "model_module": "@jupyter-widgets/controls",
      "model_module_version": "1.5.0",
      "model_name": "HTMLModel",
      "state": {
       "layout": "IPY_MODEL_ade82029d1d94706970716c4af629f2c",
       "style": "IPY_MODEL_8f90c4156587444481958af38a049029",
       "value": "<h5>Job ID</h5>"
      }
     },
     "eb734fb6e7c94e579ec59a08adde0424": {
      "model_module": "@jupyter-widgets/base",
      "model_module_version": "1.2.0",
      "model_name": "LayoutModel",
      "state": {}
     }
    },
    "version_major": 2,
    "version_minor": 0
   }
  }
 },
 "nbformat": 4,
 "nbformat_minor": 5
}
