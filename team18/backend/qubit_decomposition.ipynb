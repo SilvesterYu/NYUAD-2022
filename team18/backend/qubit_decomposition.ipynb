{
 "cells": [
  {
   "cell_type": "code",
   "execution_count": 1,
   "id": "b042851c",
   "metadata": {},
   "outputs": [
    {
     "name": "stdout",
     "output_type": "stream",
     "text": [
      "Requirement already satisfied: qiskit in /opt/conda/lib/python3.8/site-packages (0.34.2)\n",
      "Requirement already satisfied: qiskit-aer==0.10.3 in /opt/conda/lib/python3.8/site-packages (from qiskit) (0.10.3)\n",
      "Requirement already satisfied: qiskit-ignis==0.7.0 in /opt/conda/lib/python3.8/site-packages (from qiskit) (0.7.0)\n",
      "Requirement already satisfied: qiskit-ibmq-provider==0.18.3 in /opt/conda/lib/python3.8/site-packages (from qiskit) (0.18.3)\n",
      "Requirement already satisfied: qiskit-terra==0.19.2 in /opt/conda/lib/python3.8/site-packages (from qiskit) (0.19.2)\n",
      "Requirement already satisfied: numpy>=1.16.3 in /opt/conda/lib/python3.8/site-packages (from qiskit-aer==0.10.3->qiskit) (1.22.3)\n",
      "Requirement already satisfied: scipy>=1.0 in /opt/conda/lib/python3.8/site-packages (from qiskit-aer==0.10.3->qiskit) (1.8.0)\n",
      "Requirement already satisfied: websocket-client>=1.0.1 in /opt/conda/lib/python3.8/site-packages (from qiskit-ibmq-provider==0.18.3->qiskit) (1.3.1)\n",
      "Requirement already satisfied: requests-ntlm>=1.1.0 in /opt/conda/lib/python3.8/site-packages (from qiskit-ibmq-provider==0.18.3->qiskit) (1.1.0)\n",
      "Requirement already satisfied: requests>=2.19 in /opt/conda/lib/python3.8/site-packages (from qiskit-ibmq-provider==0.18.3->qiskit) (2.27.1)\n",
      "Requirement already satisfied: python-dateutil>=2.8.0 in /opt/conda/lib/python3.8/site-packages (from qiskit-ibmq-provider==0.18.3->qiskit) (2.8.2)\n",
      "Requirement already satisfied: urllib3>=1.21.1 in /opt/conda/lib/python3.8/site-packages (from qiskit-ibmq-provider==0.18.3->qiskit) (1.26.8)\n",
      "Requirement already satisfied: setuptools>=40.1.0 in /opt/conda/lib/python3.8/site-packages (from qiskit-ignis==0.7.0->qiskit) (60.9.3)\n",
      "Requirement already satisfied: retworkx>=0.8.0 in /opt/conda/lib/python3.8/site-packages (from qiskit-ignis==0.7.0->qiskit) (0.11.0)\n",
      "Requirement already satisfied: symengine>=0.8 in /opt/conda/lib/python3.8/site-packages (from qiskit-terra==0.19.2->qiskit) (0.9.2)\n",
      "Requirement already satisfied: tweedledum<2.0,>=1.1 in /opt/conda/lib/python3.8/site-packages (from qiskit-terra==0.19.2->qiskit) (1.1.1)\n",
      "Requirement already satisfied: psutil>=5 in /opt/conda/lib/python3.8/site-packages (from qiskit-terra==0.19.2->qiskit) (5.9.0)\n",
      "Requirement already satisfied: dill>=0.3 in /opt/conda/lib/python3.8/site-packages (from qiskit-terra==0.19.2->qiskit) (0.3.4)\n",
      "Requirement already satisfied: sympy>=1.3 in /opt/conda/lib/python3.8/site-packages (from qiskit-terra==0.19.2->qiskit) (1.10)\n",
      "Requirement already satisfied: stevedore>=3.0.0 in /opt/conda/lib/python3.8/site-packages (from qiskit-terra==0.19.2->qiskit) (3.5.0)\n",
      "Requirement already satisfied: python-constraint>=1.4 in /opt/conda/lib/python3.8/site-packages (from qiskit-terra==0.19.2->qiskit) (1.4.0)\n",
      "Requirement already satisfied: ply>=3.10 in /opt/conda/lib/python3.8/site-packages (from qiskit-terra==0.19.2->qiskit) (3.11)\n",
      "Requirement already satisfied: six>=1.5 in /opt/conda/lib/python3.8/site-packages (from python-dateutil>=2.8.0->qiskit-ibmq-provider==0.18.3->qiskit) (1.16.0)\n",
      "Requirement already satisfied: certifi>=2017.4.17 in /opt/conda/lib/python3.8/site-packages (from requests>=2.19->qiskit-ibmq-provider==0.18.3->qiskit) (2021.10.8)\n",
      "Requirement already satisfied: idna<4,>=2.5 in /opt/conda/lib/python3.8/site-packages (from requests>=2.19->qiskit-ibmq-provider==0.18.3->qiskit) (3.3)\n",
      "Requirement already satisfied: charset-normalizer~=2.0.0 in /opt/conda/lib/python3.8/site-packages (from requests>=2.19->qiskit-ibmq-provider==0.18.3->qiskit) (2.0.12)\n",
      "Requirement already satisfied: cryptography>=1.3 in /opt/conda/lib/python3.8/site-packages (from requests-ntlm>=1.1.0->qiskit-ibmq-provider==0.18.3->qiskit) (36.0.1)\n",
      "Requirement already satisfied: ntlm-auth>=1.0.2 in /opt/conda/lib/python3.8/site-packages (from requests-ntlm>=1.1.0->qiskit-ibmq-provider==0.18.3->qiskit) (1.5.0)\n",
      "Requirement already satisfied: cffi>=1.12 in /opt/conda/lib/python3.8/site-packages (from cryptography>=1.3->requests-ntlm>=1.1.0->qiskit-ibmq-provider==0.18.3->qiskit) (1.15.0)\n",
      "Requirement already satisfied: pycparser in /opt/conda/lib/python3.8/site-packages (from cffi>=1.12->cryptography>=1.3->requests-ntlm>=1.1.0->qiskit-ibmq-provider==0.18.3->qiskit) (2.21)\n",
      "Requirement already satisfied: pbr!=2.1.0,>=2.0.0 in /opt/conda/lib/python3.8/site-packages (from stevedore>=3.0.0->qiskit-terra==0.19.2->qiskit) (5.8.1)\n",
      "Requirement already satisfied: mpmath>=0.19 in /opt/conda/lib/python3.8/site-packages (from sympy>=1.3->qiskit-terra==0.19.2->qiskit) (1.2.1)\n"
     ]
    }
   ],
   "source": [
    "!pip install qiskit"
   ]
  },
  {
   "cell_type": "code",
   "execution_count": 2,
   "id": "b9deb60e-78c7-4a0a-89b1-195715a629d7",
   "metadata": {},
   "outputs": [
    {
     "name": "stdout",
     "output_type": "stream",
     "text": [
      "Collecting mqt.qcec==2.0.0rc1\n",
      "  Using cached mqt.qcec-2.0.0rc1-cp38-cp38-manylinux_2_17_x86_64.manylinux2014_x86_64.whl (688 kB)\n",
      "Installing collected packages: mqt.qcec\n",
      "Successfully installed mqt.qcec-2.0.0rc1\n"
     ]
    }
   ],
   "source": [
    "# for verification\n",
    "!pip install mqt.qcec==2.0.0rc1"
   ]
  },
  {
   "cell_type": "code",
   "execution_count": 3,
   "id": "40cab1c5-2a6c-495d-8a9d-8fca1a739f12",
   "metadata": {},
   "outputs": [
    {
     "name": "stderr",
     "output_type": "stream",
     "text": [
      "<frozen importlib._bootstrap>:219: RuntimeWarning: scipy._lib.messagestream.MessageStream size changed, may indicate binary incompatibility. Expected 56 from C header, got 64 from PyObject\n"
     ]
    }
   ],
   "source": [
    "# Importing standard Qiskit libraries\n",
    "from qiskit import QuantumCircuit, transpile, Aer, IBMQ\n",
    "from qiskit.tools.jupyter import *\n",
    "from qiskit.visualization import *\n",
    "from qiskit.providers.aer import QasmSimulator\n",
    "import numpy as np\n",
    "from math import pi, sqrt\n",
    "import random\n",
    "import sys\n",
    "import os\n",
    "from qiskit.test.mock import FakeAthens\n",
    "from mqt import qcec"
   ]
  },
  {
   "cell_type": "code",
   "execution_count": 4,
   "id": "8335a276",
   "metadata": {},
   "outputs": [],
   "source": [
    "# single qubit gates with no parameters\n",
    "single_qubit_gates_no_params = [\"x\",\"y\",\"z\",\"h\",\"s\",\"sdg\",\"t\",\"tdg\",\"sx\",\"sxdg\"]\n",
    "\n",
    "# single qubit gates with no parameters\n",
    "single_qubit_gates_1_params = [\"p\",\"rx\",\"ry\",\"rz\"]\n",
    "\n",
    "# single qubit gates with 2 parameters\n",
    "single_qubit_gates_2_params = [\"u2\"]\n",
    "\n",
    "# single qubit gates with 3 parameters\n",
    "single_qubit_gates_3_params = [\"u3\"]\n",
    "\n",
    "# single qubit gates with 3 parameters\n",
    "two_qubit_gates = [\"swap\", \"iswap\"]\n",
    "\n",
    "# the basis gates\n",
    "basis_gates = ['id', 'rz', 'sx', 'x', 'cx']\n",
    "\n",
    "# path to the working directory\n",
    "cd = os.getcwd()\n",
    "\n",
    "# create gate (with params) and return it\n",
    "def create_gate_with_params(circuit, gate, number_qubits, number_params):\n",
    "    if number_qubits == 1:\n",
    "        param_list = []\n",
    "\n",
    "        for i in range(number_params):\n",
    "            param_list.append(random.uniform(-np.pi, np.pi))\n",
    "\n",
    "        getattr(circuit, gate)(*param_list, 0)\n",
    "    elif number_qubits == 2:\n",
    "        getattr(circuit, gate)(0, 1)\n",
    "\n",
    "    return circuit\n",
    "\n",
    "# return gate with number of controls\n",
    "def create_controlled_gate(circuit, controls, number_qubits):\n",
    "    # convert circuit to gate and add number of controls\n",
    "    custom_circuit = circuit.to_gate().control(controls)\n",
    "\n",
    "    # create new circuit with number of qubits for gate + for controls\n",
    "    circuit_with_controls = QuantumCircuit(controls + number_qubits)\n",
    "\n",
    "    # append gate with controls to circuit with controls\n",
    "    # second argument is a range for number of controls\n",
    "    circuit_with_controls.append(custom_circuit, range(controls + number_qubits))\n",
    "    \n",
    "    return circuit_with_controls\n",
    "\n",
    "\n",
    "# create look up table for set of gates\n",
    "# with different amounts of controls\n",
    "def create_lookup_table(gates, basis_gates, number_qubits, number_params, max_controls, optimization_level, cd):\n",
    "    gate_stats = []\n",
    "    # iterate through each gate\n",
    "    for gate in gates:\n",
    "        \n",
    "        # create circuit with all amount of controls\n",
    "        for controls in range(0, max_controls + 1):\n",
    "            \n",
    "            # create single qubit circuit\n",
    "            circuit = QuantumCircuit(number_qubits)\n",
    "\n",
    "            # create gate with its params\n",
    "            circuit = create_gate_with_params(circuit, gate, number_qubits, number_params)\n",
    "        \n",
    "            # if there are controls,\n",
    "            # create circuit with controls\n",
    "            if controls != 0:\n",
    "                circuit_with_controls = create_controlled_gate(circuit, controls, number_qubits)\n",
    "                \n",
    "                # set circuit that will be transpiled to the circuit with controls\n",
    "                circuit = circuit_with_controls\n",
    "                \n",
    "            # transpile the circuit\n",
    "            transpiled_circuit = transpile(circuit, basis_gates = basis_gates, optimization_level=optimization_level)\n",
    "            gate_stats.append([gate,controls, transpiled_circuit.size()])\n",
    "\n",
    "    #creating a txt file with name \"gate_status_op_lv_n.txt\", n being the optimization level\n",
    "    f = open(cd + \"/gate_stats\" + \"_op_lv_\" + str(optimization_level) + \".txt\", \"a\")\n",
    "\n",
    "    #writing the information from gate_stats list to the text file\n",
    "    for i in np.arange(len(gate_stats)):\n",
    "        f.writelines([gate_stats[i][0], \" \", str(gate_stats[i][1]), \" \", str(gate_stats[i][2])])\n",
    "        f.writelines(['\\n'])\n",
    "    \n",
    "    f.close()\n",
    "    \n",
    "# remove all previous profiles\n",
    "def remove_profile(directory):\n",
    "    test = os.listdir(directory)\n",
    "    for item in test:\n",
    "        if item.endswith(\".txt\"):\n",
    "            if item != \"requirements.txt\":\n",
    "                os.remove( os.path.join( directory, item ) )\n",
    "                print(\"successfully removed: \", item)"
   ]
  },
  {
   "cell_type": "code",
   "execution_count": 5,
   "id": "e98b1b89",
   "metadata": {},
   "outputs": [
    {
     "name": "stdout",
     "output_type": "stream",
     "text": [
      "successfully removed:  gate_stats_op_lv_0.txt\n",
      "successfully removed:  gate_stats_op_lv_1.txt\n",
      "successfully removed:  gate_stats_op_lv_2.txt\n",
      "successfully removed:  gate_stats_op_lv_3.txt\n"
     ]
    },
    {
     "name": "stderr",
     "output_type": "stream",
     "text": [
      "/tmp/ipykernel_77/4182773455.py:30: DeprecationWarning: The QuantumCircuit.u2 method is deprecated as of 0.16.0. It will be removed no earlier than 3 months after the release date. You can use the general 1-qubit gate QuantumCircuit.u instead: u2(φ,λ) = u(π/2, φ, λ). Alternatively, you can decompose it interms of QuantumCircuit.p and QuantumCircuit.sx: u2(φ,λ) = p(π/2+φ) sx p(λ-π/2) (1 pulse on hardware).\n",
      "  getattr(circuit, gate)(*param_list, 0)\n",
      "/tmp/ipykernel_77/4182773455.py:30: DeprecationWarning: The QuantumCircuit.u3 method is deprecated as of 0.16.0. It will be removed no earlier than 3 months after the release date. You should use QuantumCircuit.u instead, which acts identically. Alternatively, you can decompose u3 in terms of QuantumCircuit.p and QuantumCircuit.sx: u3(ϴ,φ,λ) = p(φ+π) sx p(ϴ+π) sx p(λ) (2 pulses on hardware).\n",
      "  getattr(circuit, gate)(*param_list, 0)\n",
      "/tmp/ipykernel_77/4182773455.py:30: DeprecationWarning: The QuantumCircuit.u2 method is deprecated as of 0.16.0. It will be removed no earlier than 3 months after the release date. You can use the general 1-qubit gate QuantumCircuit.u instead: u2(φ,λ) = u(π/2, φ, λ). Alternatively, you can decompose it interms of QuantumCircuit.p and QuantumCircuit.sx: u2(φ,λ) = p(π/2+φ) sx p(λ-π/2) (1 pulse on hardware).\n",
      "  getattr(circuit, gate)(*param_list, 0)\n",
      "/tmp/ipykernel_77/4182773455.py:30: DeprecationWarning: The QuantumCircuit.u3 method is deprecated as of 0.16.0. It will be removed no earlier than 3 months after the release date. You should use QuantumCircuit.u instead, which acts identically. Alternatively, you can decompose u3 in terms of QuantumCircuit.p and QuantumCircuit.sx: u3(ϴ,φ,λ) = p(φ+π) sx p(ϴ+π) sx p(λ) (2 pulses on hardware).\n",
      "  getattr(circuit, gate)(*param_list, 0)\n"
     ]
    }
   ],
   "source": [
    "# remove all previous profiles\n",
    "remove_profile(cd)\n",
    "\n",
    "#example execution of function\n",
    "for optimization_level in range(4):\n",
    "    create_lookup_table(single_qubit_gates_no_params, basis_gates, 1, 0, 5, optimization_level, cd)\n",
    "    create_lookup_table(single_qubit_gates_1_params, basis_gates, 1, 1, 5, optimization_level, cd)\n",
    "    create_lookup_table(single_qubit_gates_2_params, basis_gates, 1, 2, 5, optimization_level, cd)\n",
    "    create_lookup_table(single_qubit_gates_3_params, basis_gates, 1, 3, 5, optimization_level, cd)\n",
    "    create_lookup_table(two_qubit_gates, basis_gates, 2, 0, 5, optimization_level, cd)\n"
   ]
  },
  {
   "cell_type": "code",
   "execution_count": 23,
   "id": "645002d4-27a4-49dc-864d-b4a573d1ece5",
   "metadata": {},
   "outputs": [],
   "source": [
    "# verification\n",
    "\n",
    "def verify_circuit(circuit_original, circuit_compiled, optimization_level):\n",
    "    \n",
    "    original_pic = circ.draw(fold=-1, filename = \"images/original_pic.png\")\n",
    "    compiled_pic = circuit_compiled.draw(fold=-1, filename = \"images/compiled_pic.png\")\n",
    "    \n",
    "    # initialize the equivalence checker\n",
    "    ecm = qcec.EquivalenceCheckingManager(circuit_original, circuit_compiled)\n",
    "\n",
    "    # set the application scheme to be based off a profile\n",
    "    ecm.set_application_scheme('gate_cost')\n",
    "    ecm.set_gate_cost_profile('gate_stats_op_lv_' + str(optimization_level) + '.txt') # Omar changed this to .txt\n",
    "\n",
    "    # execute the check\n",
    "    ecm.run()\n",
    "\n",
    "    # obtain the result\n",
    "    # boolean\n",
    "    considered_equivalent = ecm.get_results().considered_equivalent()\n",
    "    # obtain runtime\n",
    "    results = ecm.get_results()\n",
    "    runtime = 'Took:' + str(results.check_time) + '[s]'\n",
    "    \n",
    "    return (original_pic, compiled_pic, considered_equivalent)\n"
   ]
  },
  {
   "cell_type": "code",
   "execution_count": 24,
   "id": "d1cd9aa9-4154-4f80-aee7-942a9ff87e33",
   "metadata": {},
   "outputs": [
    {
     "name": "stdout",
     "output_type": "stream",
     "text": [
      "<class 'matplotlib.figure.Figure'>\n"
     ]
    }
   ],
   "source": [
    "# TEST CASE FOR VERIFICATION\n",
    "import matplotlib\n",
    "\n",
    "# original circuit\n",
    "circ = QuantumCircuit(3)\n",
    "circ.h(0)\n",
    "circ.cx(0, 1)\n",
    "circ.cx(0, 2)\n",
    "circ.ccx(0, 2, 1)\n",
    "circ.measure_all()\n",
    "\n",
    "# compile circuit to 5 qubit London Architecture\n",
    "circ_comp = transpile(circ, backend=FakeAthens(), optimization_level = 3)\n",
    "circ_comp.draw(fold=-1)\n",
    "\n",
    "results = verify_circuit(circ, circ_comp, 3)\n",
    "\n",
    "fig = results[0]\n",
    "print(type(fig))\n"
   ]
  },
  {
   "cell_type": "code",
   "execution_count": null,
   "id": "9b4558c4-1258-47de-91be-0d2a9620de06",
   "metadata": {},
   "outputs": [],
   "source": []
  }
 ],
 "metadata": {
  "kernelspec": {
   "display_name": "Qiskit v0.34.2 (ipykernel)",
   "language": "python",
   "name": "python3"
  },
  "language_info": {
   "codemirror_mode": {
    "name": "ipython",
    "version": 3
   },
   "file_extension": ".py",
   "mimetype": "text/x-python",
   "name": "python",
   "nbconvert_exporter": "python",
   "pygments_lexer": "ipython3",
   "version": "3.8.12"
  },
  "widgets": {
   "application/vnd.jupyter.widget-state+json": {
    "state": {
     "013fef27406b4a788fa08af69793f673": {
      "model_module": "@jupyter-widgets/controls",
      "model_module_version": "1.5.0",
      "model_name": "ButtonStyleModel",
      "state": {}
     },
     "01cb8c6c29c049298957463e5ea7f1ea": {
      "model_module": "@jupyter-widgets/controls",
      "model_module_version": "1.5.0",
      "model_name": "DescriptionStyleModel",
      "state": {
       "description_width": ""
      }
     },
     "1b80bd6c12d94a80b57d8715c54884d9": {
      "model_module": "@jupyter-widgets/controls",
      "model_module_version": "1.5.0",
      "model_name": "HTMLModel",
      "state": {
       "layout": "IPY_MODEL_8398e1a215754debab25420c3fafc929",
       "style": "IPY_MODEL_d23aa4a39e864410a7366c24edfff446",
       "value": "<p style='font-family: IBM Plex Sans, Arial, Helvetica, sans-serif; font-size: 20px; font-weight: medium;'>Circuit Properties</p>"
      }
     },
     "36dd9561c98a420287fdd8eca61b0cbf": {
      "model_module": "@jupyter-widgets/controls",
      "model_module_version": "1.5.0",
      "model_name": "HTMLModel",
      "state": {
       "layout": "IPY_MODEL_876959b4941b459dbab0d4cc5a22c580",
       "style": "IPY_MODEL_01cb8c6c29c049298957463e5ea7f1ea",
       "value": "<h5>Message</h5>"
      }
     },
     "428240d816124e58944d89af6e7a72dc": {
      "model_module": "@jupyter-widgets/base",
      "model_module_version": "1.2.0",
      "model_name": "LayoutModel",
      "state": {
       "grid_area": "right",
       "padding": "0px 0px 0px 0px",
       "width": "70px"
      }
     },
     "6ed464b8b27143c9a856a19f99a60d0f": {
      "model_module": "@jupyter-widgets/controls",
      "model_module_version": "1.5.0",
      "model_name": "DescriptionStyleModel",
      "state": {
       "description_width": ""
      }
     },
     "700fc9f320ea40b5b7dd220f2a0ae515": {
      "model_module": "@jupyter-widgets/base",
      "model_module_version": "1.2.0",
      "model_name": "LayoutModel",
      "state": {
       "width": "190px"
      }
     },
     "8398e1a215754debab25420c3fafc929": {
      "model_module": "@jupyter-widgets/base",
      "model_module_version": "1.2.0",
      "model_name": "LayoutModel",
      "state": {
       "margin": "0px 0px 10px 0px"
      }
     },
     "87338b6d1e92442ca521d6764e8fe109": {
      "model_module": "@jupyter-widgets/base",
      "model_module_version": "1.2.0",
      "model_name": "LayoutModel",
      "state": {
       "margin": "0px 0px 0px 37px",
       "width": "600px"
      }
     },
     "876959b4941b459dbab0d4cc5a22c580": {
      "model_module": "@jupyter-widgets/base",
      "model_module_version": "1.2.0",
      "model_name": "LayoutModel",
      "state": {}
     },
     "a2ade49d5c6043bcaec8b193974de6ac": {
      "model_module": "@jupyter-widgets/controls",
      "model_module_version": "1.5.0",
      "model_name": "GridBoxModel",
      "state": {
       "children": [
        "IPY_MODEL_e569aebdfa6d40279cde87f9b1e5f9b1"
       ],
       "layout": "IPY_MODEL_dd50cce7ca3045daadf7ddc0ea60c23a"
      }
     },
     "b8ece4c8294c4f11868b323684ee8825": {
      "model_module": "@jupyter-widgets/controls",
      "model_module_version": "1.5.0",
      "model_name": "HBoxModel",
      "state": {
       "children": [
        "IPY_MODEL_c39a52125b964b8c959c2928ef946053",
        "IPY_MODEL_f26ddbe1e77d4aeea74bc13856f35b83",
        "IPY_MODEL_c1a4ff23bca24d67b7581126caad28ca",
        "IPY_MODEL_f944d633cb9d411da6cc4afa9cfe6a31",
        "IPY_MODEL_36dd9561c98a420287fdd8eca61b0cbf"
       ],
       "layout": "IPY_MODEL_87338b6d1e92442ca521d6764e8fe109"
      }
     },
     "bcec706ab2244c0b99eb2bd4a5cb510d": {
      "model_module": "@jupyter-widgets/controls",
      "model_module_version": "1.5.0",
      "model_name": "DescriptionStyleModel",
      "state": {
       "description_width": ""
      }
     },
     "c02b14ac2df04aa4b3b6e4985b3a09f9": {
      "model_module": "@jupyter-widgets/base",
      "model_module_version": "1.2.0",
      "model_name": "LayoutModel",
      "state": {
       "width": "70px"
      }
     },
     "c1a4ff23bca24d67b7581126caad28ca": {
      "model_module": "@jupyter-widgets/controls",
      "model_module_version": "1.5.0",
      "model_name": "HTMLModel",
      "state": {
       "layout": "IPY_MODEL_c5a0a704e1f84da9b4f63b23f7470e53",
       "style": "IPY_MODEL_eb530b735baa498eb5fe5abbf473df0e",
       "value": "<h5>Status</h5>"
      }
     },
     "c39a52125b964b8c959c2928ef946053": {
      "model_module": "@jupyter-widgets/controls",
      "model_module_version": "1.5.0",
      "model_name": "HTMLModel",
      "state": {
       "layout": "IPY_MODEL_700fc9f320ea40b5b7dd220f2a0ae515",
       "style": "IPY_MODEL_bcec706ab2244c0b99eb2bd4a5cb510d",
       "value": "<h5>Job ID</h5>"
      }
     },
     "c42fab1d963142f8808acfb95333d69d": {
      "model_module": "@jupyter-widgets/base",
      "model_module_version": "1.2.0",
      "model_name": "LayoutModel",
      "state": {
       "width": "145px"
      }
     },
     "c5a0a704e1f84da9b4f63b23f7470e53": {
      "model_module": "@jupyter-widgets/base",
      "model_module_version": "1.2.0",
      "model_name": "LayoutModel",
      "state": {
       "width": "95px"
      }
     },
     "d23aa4a39e864410a7366c24edfff446": {
      "model_module": "@jupyter-widgets/controls",
      "model_module_version": "1.5.0",
      "model_name": "DescriptionStyleModel",
      "state": {
       "description_width": ""
      }
     },
     "d2b34f6db2e944d3bdfcdefbbcdc94fd": {
      "model_module": "@jupyter-widgets/controls",
      "model_module_version": "1.5.0",
      "model_name": "DescriptionStyleModel",
      "state": {
       "description_width": ""
      }
     },
     "dd50cce7ca3045daadf7ddc0ea60c23a": {
      "model_module": "@jupyter-widgets/base",
      "model_module_version": "1.2.0",
      "model_name": "LayoutModel",
      "state": {
       "grid_template_areas": "\n                                       \". . . . right \"\n                                        ",
       "grid_template_columns": "20% 20% 20% 20% 20%",
       "width": "100%"
      }
     },
     "e569aebdfa6d40279cde87f9b1e5f9b1": {
      "model_module": "@jupyter-widgets/controls",
      "model_module_version": "1.5.0",
      "model_name": "ButtonModel",
      "state": {
       "button_style": "primary",
       "description": "Clear",
       "layout": "IPY_MODEL_428240d816124e58944d89af6e7a72dc",
       "style": "IPY_MODEL_013fef27406b4a788fa08af69793f673"
      }
     },
     "eb530b735baa498eb5fe5abbf473df0e": {
      "model_module": "@jupyter-widgets/controls",
      "model_module_version": "1.5.0",
      "model_name": "DescriptionStyleModel",
      "state": {
       "description_width": ""
      }
     },
     "f26ddbe1e77d4aeea74bc13856f35b83": {
      "model_module": "@jupyter-widgets/controls",
      "model_module_version": "1.5.0",
      "model_name": "HTMLModel",
      "state": {
       "layout": "IPY_MODEL_c42fab1d963142f8808acfb95333d69d",
       "style": "IPY_MODEL_d2b34f6db2e944d3bdfcdefbbcdc94fd",
       "value": "<h5>Backend</h5>"
      }
     },
     "f944d633cb9d411da6cc4afa9cfe6a31": {
      "model_module": "@jupyter-widgets/controls",
      "model_module_version": "1.5.0",
      "model_name": "HTMLModel",
      "state": {
       "layout": "IPY_MODEL_c02b14ac2df04aa4b3b6e4985b3a09f9",
       "style": "IPY_MODEL_6ed464b8b27143c9a856a19f99a60d0f",
       "value": "<h5>Queue</h5>"
      }
     }
    },
    "version_major": 2,
    "version_minor": 0
   }
  }
 },
 "nbformat": 4,
 "nbformat_minor": 5
}
