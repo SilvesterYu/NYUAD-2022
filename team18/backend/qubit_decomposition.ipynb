{
 "cells": [
  {
   "cell_type": "code",
   "execution_count": 1,
   "id": "b042851c",
   "metadata": {},
   "outputs": [
    {
     "name": "stdout",
     "output_type": "stream",
     "text": [
      "Requirement already satisfied: qiskit in /opt/conda/lib/python3.8/site-packages (0.34.2)\n",
      "Requirement already satisfied: qiskit-ibmq-provider==0.18.3 in /opt/conda/lib/python3.8/site-packages (from qiskit) (0.18.3)\n",
      "Requirement already satisfied: qiskit-aer==0.10.3 in /opt/conda/lib/python3.8/site-packages (from qiskit) (0.10.3)\n",
      "Requirement already satisfied: qiskit-ignis==0.7.0 in /opt/conda/lib/python3.8/site-packages (from qiskit) (0.7.0)\n",
      "Requirement already satisfied: qiskit-terra==0.19.2 in /opt/conda/lib/python3.8/site-packages (from qiskit) (0.19.2)\n",
      "Requirement already satisfied: scipy>=1.0 in /opt/conda/lib/python3.8/site-packages (from qiskit-aer==0.10.3->qiskit) (1.8.0)\n",
      "Requirement already satisfied: numpy>=1.16.3 in /opt/conda/lib/python3.8/site-packages (from qiskit-aer==0.10.3->qiskit) (1.22.3)\n",
      "Requirement already satisfied: requests-ntlm>=1.1.0 in /opt/conda/lib/python3.8/site-packages (from qiskit-ibmq-provider==0.18.3->qiskit) (1.1.0)\n",
      "Requirement already satisfied: websocket-client>=1.0.1 in /opt/conda/lib/python3.8/site-packages (from qiskit-ibmq-provider==0.18.3->qiskit) (1.3.1)\n",
      "Requirement already satisfied: requests>=2.19 in /opt/conda/lib/python3.8/site-packages (from qiskit-ibmq-provider==0.18.3->qiskit) (2.27.1)\n",
      "Requirement already satisfied: python-dateutil>=2.8.0 in /opt/conda/lib/python3.8/site-packages (from qiskit-ibmq-provider==0.18.3->qiskit) (2.8.2)\n",
      "Requirement already satisfied: urllib3>=1.21.1 in /opt/conda/lib/python3.8/site-packages (from qiskit-ibmq-provider==0.18.3->qiskit) (1.26.8)\n",
      "Requirement already satisfied: setuptools>=40.1.0 in /opt/conda/lib/python3.8/site-packages (from qiskit-ignis==0.7.0->qiskit) (60.9.3)\n",
      "Requirement already satisfied: retworkx>=0.8.0 in /opt/conda/lib/python3.8/site-packages (from qiskit-ignis==0.7.0->qiskit) (0.11.0)\n",
      "Requirement already satisfied: psutil>=5 in /opt/conda/lib/python3.8/site-packages (from qiskit-terra==0.19.2->qiskit) (5.9.0)\n",
      "Requirement already satisfied: symengine>=0.8 in /opt/conda/lib/python3.8/site-packages (from qiskit-terra==0.19.2->qiskit) (0.9.2)\n",
      "Requirement already satisfied: ply>=3.10 in /opt/conda/lib/python3.8/site-packages (from qiskit-terra==0.19.2->qiskit) (3.11)\n",
      "Requirement already satisfied: python-constraint>=1.4 in /opt/conda/lib/python3.8/site-packages (from qiskit-terra==0.19.2->qiskit) (1.4.0)\n",
      "Requirement already satisfied: tweedledum<2.0,>=1.1 in /opt/conda/lib/python3.8/site-packages (from qiskit-terra==0.19.2->qiskit) (1.1.1)\n",
      "Requirement already satisfied: dill>=0.3 in /opt/conda/lib/python3.8/site-packages (from qiskit-terra==0.19.2->qiskit) (0.3.4)\n",
      "Requirement already satisfied: sympy>=1.3 in /opt/conda/lib/python3.8/site-packages (from qiskit-terra==0.19.2->qiskit) (1.10)\n",
      "Requirement already satisfied: stevedore>=3.0.0 in /opt/conda/lib/python3.8/site-packages (from qiskit-terra==0.19.2->qiskit) (3.5.0)\n",
      "Requirement already satisfied: six>=1.5 in /opt/conda/lib/python3.8/site-packages (from python-dateutil>=2.8.0->qiskit-ibmq-provider==0.18.3->qiskit) (1.16.0)\n",
      "Requirement already satisfied: idna<4,>=2.5 in /opt/conda/lib/python3.8/site-packages (from requests>=2.19->qiskit-ibmq-provider==0.18.3->qiskit) (3.3)\n",
      "Requirement already satisfied: certifi>=2017.4.17 in /opt/conda/lib/python3.8/site-packages (from requests>=2.19->qiskit-ibmq-provider==0.18.3->qiskit) (2021.10.8)\n",
      "Requirement already satisfied: charset-normalizer~=2.0.0 in /opt/conda/lib/python3.8/site-packages (from requests>=2.19->qiskit-ibmq-provider==0.18.3->qiskit) (2.0.12)\n",
      "Requirement already satisfied: cryptography>=1.3 in /opt/conda/lib/python3.8/site-packages (from requests-ntlm>=1.1.0->qiskit-ibmq-provider==0.18.3->qiskit) (36.0.1)\n",
      "Requirement already satisfied: ntlm-auth>=1.0.2 in /opt/conda/lib/python3.8/site-packages (from requests-ntlm>=1.1.0->qiskit-ibmq-provider==0.18.3->qiskit) (1.5.0)\n",
      "Requirement already satisfied: cffi>=1.12 in /opt/conda/lib/python3.8/site-packages (from cryptography>=1.3->requests-ntlm>=1.1.0->qiskit-ibmq-provider==0.18.3->qiskit) (1.15.0)\n",
      "Requirement already satisfied: pycparser in /opt/conda/lib/python3.8/site-packages (from cffi>=1.12->cryptography>=1.3->requests-ntlm>=1.1.0->qiskit-ibmq-provider==0.18.3->qiskit) (2.21)\n",
      "Requirement already satisfied: pbr!=2.1.0,>=2.0.0 in /opt/conda/lib/python3.8/site-packages (from stevedore>=3.0.0->qiskit-terra==0.19.2->qiskit) (5.8.1)\n",
      "Requirement already satisfied: mpmath>=0.19 in /opt/conda/lib/python3.8/site-packages (from sympy>=1.3->qiskit-terra==0.19.2->qiskit) (1.2.1)\n"
     ]
    }
   ],
   "source": [
    "!pip install qiskit"
   ]
  },
  {
   "cell_type": "code",
   "execution_count": 2,
   "id": "b9deb60e-78c7-4a0a-89b1-195715a629d7",
   "metadata": {},
   "outputs": [
    {
     "name": "stdout",
     "output_type": "stream",
     "text": [
      "Requirement already satisfied: mqt.qcec==2.0.0rc1 in /opt/conda/lib/python3.8/site-packages (2.0.0rc1)\n"
     ]
    }
   ],
   "source": [
    "# for verification\n",
    "!pip install mqt.qcec==2.0.0rc1"
   ]
  },
  {
   "cell_type": "code",
   "execution_count": 3,
   "id": "40cab1c5-2a6c-495d-8a9d-8fca1a739f12",
   "metadata": {},
   "outputs": [
    {
     "name": "stderr",
     "output_type": "stream",
     "text": [
      "<frozen importlib._bootstrap>:219: RuntimeWarning: scipy._lib.messagestream.MessageStream size changed, may indicate binary incompatibility. Expected 56 from C header, got 64 from PyObject\n"
     ]
    }
   ],
   "source": [
    "# Importing standard Qiskit libraries\n",
    "from qiskit import QuantumCircuit, transpile, Aer, IBMQ\n",
    "from qiskit.tools.jupyter import *\n",
    "from qiskit.visualization import *\n",
    "from qiskit.providers.aer import QasmSimulator\n",
    "import numpy as np\n",
    "from math import pi, sqrt\n",
    "import random\n",
    "import sys\n",
    "import os\n",
    "from qiskit.test.mock import FakeAthens\n",
    "from mqt import qcec"
   ]
  },
  {
   "cell_type": "code",
   "execution_count": 4,
   "id": "990511a2-4185-4c87-9a09-b10ef4a22cd5",
   "metadata": {},
   "outputs": [],
   "source": [
    "# remove all previous profiles\n",
    "\n",
    "directory = os.getcwd()\n",
    "test = os.listdir( directory )\n",
    "\n",
    "for item in test:\n",
    "    if item.endswith(\".txt\"):\n",
    "        os.remove( os.path.join( directory, item ) )"
   ]
  },
  {
   "cell_type": "code",
   "execution_count": 5,
   "id": "8335a276",
   "metadata": {},
   "outputs": [],
   "source": [
    "# single qubit gates with no parameters\n",
    "single_qubit_gates_no_params = [\"x\",\"y\",\"z\",\"h\",\"s\",\"sdg\",\"t\",\"tdg\",\"sx\",\"sxdg\"]\n",
    "\n",
    "# single qubit gates with no parameters\n",
    "single_qubit_gates_1_params = [\"p\",\"rx\",\"ry\",\"rz\"]\n",
    "\n",
    "# single qubit gates with 2 parameters\n",
    "single_qubit_gates_2_params = [\"u2\"]\n",
    "\n",
    "# single qubit gates with 3 parameters\n",
    "single_qubit_gates_3_params = [\"u3\"]\n",
    "\n",
    "# single qubit gates with 3 parameters\n",
    "two_qubit_gates = [\"swap\", \"iswap\"]\n",
    "\n",
    "#creating the gate statistics list\n",
    "gate_stats = []\n",
    "\n",
    "# the basis gates\n",
    "basis_gates = ['id', 'rz', 'sx', 'x', 'cx']\n",
    "\n",
    "# create gate (with params) and return it\n",
    "def create_gate_with_params(circuit, gate, number_qubits, number_params):\n",
    "    if number_qubits == 1:\n",
    "        param_list = []\n",
    "\n",
    "        for i in range(number_params):\n",
    "            param_list.append(random.uniform(-np.pi, np.pi))\n",
    "\n",
    "        getattr(circuit, gate)(*param_list, 0)\n",
    "    elif number_qubits == 2:\n",
    "        getattr(circuit, gate)(0, 1)\n",
    "\n",
    "    return circuit\n",
    "\n",
    "# return gate with number of controls\n",
    "def create_controlled_gate(circuit, controls, number_qubits):\n",
    "    # convert circuit to gate and add number of controls\n",
    "    custom_circuit = circuit.to_gate().control(controls)\n",
    "\n",
    "    # create new circuit with number of qubits for gate + for controls\n",
    "    circuit_with_controls = QuantumCircuit(controls + number_qubits)\n",
    "\n",
    "    # append gate with controls to circuit with controls\n",
    "    # second argument is a range for number of controls\n",
    "    circuit_with_controls.append(custom_circuit, range(controls + number_qubits))\n",
    "    \n",
    "    return circuit_with_controls\n",
    "\n",
    "\n",
    "# create look up table for set of gates\n",
    "# with different amounts of controls\n",
    "def create_lookup_table(gates, basis_gates, number_qubits, number_params, max_controls, optimization_level):\n",
    "    \n",
    "    # iterate through each gate\n",
    "    for gate in gates:\n",
    "        \n",
    "        # create circuit with all amount of controls\n",
    "        for controls in range(0, max_controls + 1):\n",
    "            \n",
    "            # create single qubit circuit\n",
    "            circuit = QuantumCircuit(number_qubits)\n",
    "\n",
    "            # create gate with its params\n",
    "            circuit = create_gate_with_params(circuit, gate, number_qubits, number_params)\n",
    "        \n",
    "            # if there are controls,\n",
    "            # create circuit with controls\n",
    "            if controls != 0:\n",
    "                circuit_with_controls = create_controlled_gate(circuit, controls, number_qubits)\n",
    "                \n",
    "                # set circuit that will be transpiled to the circuit with controls\n",
    "                circuit = circuit_with_controls\n",
    "                \n",
    "            # transpile the circuit\n",
    "            transpiled_circuit = transpile(circuit, basis_gates = basis_gates, optimization_level=optimization_level)\n",
    "            gate_stats.append([gate,controls, transpiled_circuit.size()])\n",
    "    \n",
    "    # creating and writing the profiles to text file\n",
    "    cd = os.getcwd()\n",
    "\n",
    "    #creating a txt file with name \"gate_status_op_lv_n.txt\", n being the optimization level\n",
    "    f = open(cd + \"/gate_stats\" + \"_op_lv_\" + str(optimization_level) + \".txt\", \"a\")\n",
    "\n",
    "    #writing the information from gate_stats list to the text file\n",
    "    for i in np.arange(len(gate_stats)):\n",
    "        f.writelines([gate_stats[i][0], \" \", str(gate_stats[i][1]), \" \", str(gate_stats[i][2])])\n",
    "        f.writelines(['\\n'])\n",
    "    \n",
    "    f.close()"
   ]
  },
  {
   "cell_type": "code",
   "execution_count": 6,
   "id": "e98b1b89",
   "metadata": {},
   "outputs": [
    {
     "name": "stderr",
     "output_type": "stream",
     "text": [
      "/tmp/ipykernel_1211/1510244086.py:30: DeprecationWarning: The QuantumCircuit.u2 method is deprecated as of 0.16.0. It will be removed no earlier than 3 months after the release date. You can use the general 1-qubit gate QuantumCircuit.u instead: u2(φ,λ) = u(π/2, φ, λ). Alternatively, you can decompose it interms of QuantumCircuit.p and QuantumCircuit.sx: u2(φ,λ) = p(π/2+φ) sx p(λ-π/2) (1 pulse on hardware).\n",
      "  getattr(circuit, gate)(*param_list, 0)\n",
      "/tmp/ipykernel_1211/1510244086.py:30: DeprecationWarning: The QuantumCircuit.u3 method is deprecated as of 0.16.0. It will be removed no earlier than 3 months after the release date. You should use QuantumCircuit.u instead, which acts identically. Alternatively, you can decompose u3 in terms of QuantumCircuit.p and QuantumCircuit.sx: u3(ϴ,φ,λ) = p(φ+π) sx p(ϴ+π) sx p(λ) (2 pulses on hardware).\n",
      "  getattr(circuit, gate)(*param_list, 0)\n",
      "/tmp/ipykernel_1211/1510244086.py:30: DeprecationWarning: The QuantumCircuit.u2 method is deprecated as of 0.16.0. It will be removed no earlier than 3 months after the release date. You can use the general 1-qubit gate QuantumCircuit.u instead: u2(φ,λ) = u(π/2, φ, λ). Alternatively, you can decompose it interms of QuantumCircuit.p and QuantumCircuit.sx: u2(φ,λ) = p(π/2+φ) sx p(λ-π/2) (1 pulse on hardware).\n",
      "  getattr(circuit, gate)(*param_list, 0)\n",
      "/tmp/ipykernel_1211/1510244086.py:30: DeprecationWarning: The QuantumCircuit.u3 method is deprecated as of 0.16.0. It will be removed no earlier than 3 months after the release date. You should use QuantumCircuit.u instead, which acts identically. Alternatively, you can decompose u3 in terms of QuantumCircuit.p and QuantumCircuit.sx: u3(ϴ,φ,λ) = p(φ+π) sx p(ϴ+π) sx p(λ) (2 pulses on hardware).\n",
      "  getattr(circuit, gate)(*param_list, 0)\n"
     ]
    }
   ],
   "source": [
    "#example execution of function\n",
    "for optimization_level in range(4):\n",
    "    create_lookup_table(single_qubit_gates_no_params, basis_gates, 1, 0, 5, optimization_level)\n",
    "    create_lookup_table(single_qubit_gates_1_params, basis_gates, 1, 1, 5, optimization_level)\n",
    "    create_lookup_table(single_qubit_gates_2_params, basis_gates, 1, 2, 5, optimization_level)\n",
    "    create_lookup_table(single_qubit_gates_3_params, basis_gates, 1, 3, 5, optimization_level)\n",
    "    create_lookup_table(two_qubit_gates, basis_gates, 2, 0, 5, optimization_level)\n"
   ]
  },
  {
   "cell_type": "code",
   "execution_count": 15,
   "id": "645002d4-27a4-49dc-864d-b4a573d1ece5",
   "metadata": {},
   "outputs": [],
   "source": [
    "# verification\n",
    "\n",
    "def verify_circuit(circuit_original, circuit_compiled, optimization_level):\n",
    "    # initialize the equivalence checker\n",
    "    ecm = qcec.EquivalenceCheckingManager(circuit_original, circuit_compiled)\n",
    "\n",
    "    # set the application scheme to be based off a profile\n",
    "    ecm.set_application_scheme('gate_cost')\n",
    "    ecm.set_gate_cost_profile('gate_stats_op_lv_' + str(optimization_level) + '.txt') # Omar changed this to .txt\n",
    "\n",
    "    # execute the check\n",
    "    ecm.run()\n",
    "\n",
    "    # obtain the result\n",
    "    # string\n",
    "    regular_equivalence = ecm.equivalence()\n",
    "    # boolean\n",
    "    considered_equivalent = ecm.get_results().considered_equivalent()\n",
    "    # obtain runtime\n",
    "    results = ecm.get_results()\n",
    "    runtime = 'Took:' + str(results.check_time) + '[s]'\n",
    "    \n",
    "    return (regular_equivalence, considered_equivalent, runtime)\n"
   ]
  },
  {
   "cell_type": "code",
   "execution_count": 17,
   "id": "d1cd9aa9-4154-4f80-aee7-942a9ff87e33",
   "metadata": {},
   "outputs": [
    {
     "name": "stdout",
     "output_type": "stream",
     "text": [
      "equivalent_up_to_global_phase\n",
      "True\n",
      "Took:0.052598311[s]\n"
     ]
    }
   ],
   "source": [
    "# TEST CASE FOR VERIFICATION\n",
    "\n",
    "# original circuit\n",
    "circ = QuantumCircuit(3)\n",
    "circ.h(0)\n",
    "circ.cx(0, 1)\n",
    "circ.cx(0, 2)\n",
    "circ.ccx(0, 2, 1)\n",
    "circ.measure_all()\n",
    "circ.draw(fold=-1)\n",
    "\n",
    "# compile circuit to 5 qubit London Architecture\n",
    "circ_comp = transpile(circ, backend=FakeAthens(), optimization_level = 3)\n",
    "circ_comp.draw(fold=-1)\n",
    "\n",
    "results = verify_circuit(circ, circ_comp, 3)\n",
    "for item in results:\n",
    "    print(item)\n"
   ]
  },
  {
   "cell_type": "code",
   "execution_count": 9,
   "id": "eb93d779-79a1-495c-9a3a-35e375f3cb2d",
   "metadata": {},
   "outputs": [
    {
     "data": {
      "image/png": "[encoded data removed]",
      "text/plain": [
       "<Figure size 598.479x264.88 with 1 Axes>"
      ]
     },
     "execution_count": 9,
     "metadata": {},
     "output_type": "execute_result"
    }
   ],
   "source": []
  },
  {
   "cell_type": "code",
   "execution_count": 10,
   "id": "d88498d4-ba68-42ed-82c1-8ebe659d8bb2",
   "metadata": {},
   "outputs": [
    {
     "data": {
      "image/png": "[encoded data removed]",
      "text/plain": [
       "<Figure size 2165.79x385.28 with 1 Axes>"
      ]
     },
     "execution_count": 10,
     "metadata": {},
     "output_type": "execute_result"
    }
   ],
   "source": []
  },
  {
   "cell_type": "code",
   "execution_count": 11,
   "id": "baed073d-8602-407e-9380-3ab3b4002933",
   "metadata": {},
   "outputs": [
    {
     "name": "stdout",
     "output_type": "stream",
     "text": [
      "equivalent_up_to_global_phase\n",
      "----------\n",
      "True\n",
      "Took: 0.13156316 [s]\n"
     ]
    }
   ],
   "source": [
    "\n"
   ]
  }
 ],
 "metadata": {
  "kernelspec": {
   "display_name": "Qiskit v0.34.2 (ipykernel)",
   "language": "python",
   "name": "python3"
  },
  "language_info": {
   "codemirror_mode": {
    "name": "ipython",
    "version": 3
   },
   "file_extension": ".py",
   "mimetype": "text/x-python",
   "name": "python",
   "nbconvert_exporter": "python",
   "pygments_lexer": "ipython3",
   "version": "3.8.12"
  },
  "widgets": {
   "application/vnd.jupyter.widget-state+json": {
    "state": {
     "0916dcd30f3c436f876131726e2922fb": {
      "model_module": "@jupyter-widgets/controls",
      "model_module_version": "1.5.0",
      "model_name": "DescriptionStyleModel",
      "state": {
       "description_width": ""
      }
     },
     "0cb3e7aee6684ec5898776462fe06a9d": {
      "model_module": "@jupyter-widgets/controls",
      "model_module_version": "1.5.0",
      "model_name": "ButtonStyleModel",
      "state": {}
     },
     "0d5482fc3eb04239b3db974f736ef9b6": {
      "model_module": "@jupyter-widgets/base",
      "model_module_version": "1.2.0",
      "model_name": "LayoutModel",
      "state": {
       "grid_area": "right",
       "padding": "0px 0px 0px 0px",
       "width": "70px"
      }
     },
     "14d8b0081f194920a3546861bde30958": {
      "model_module": "@jupyter-widgets/controls",
      "model_module_version": "1.5.0",
      "model_name": "DescriptionStyleModel",
      "state": {
       "description_width": ""
      }
     },
     "1523c6c536a94a8f9929162b8ab6f715": {
      "model_module": "@jupyter-widgets/controls",
      "model_module_version": "1.5.0",
      "model_name": "DescriptionStyleModel",
      "state": {
       "description_width": ""
      }
     },
     "3a36ed7def7943f9a53c54ce2fbc8edd": {
      "model_module": "@jupyter-widgets/base",
      "model_module_version": "1.2.0",
      "model_name": "LayoutModel",
      "state": {
       "grid_template_areas": "\n                                       \". . . . right \"\n                                        ",
       "grid_template_columns": "20% 20% 20% 20% 20%",
       "width": "100%"
      }
     },
     "42f07396251748be94b77aa9890f0be8": {
      "model_module": "@jupyter-widgets/controls",
      "model_module_version": "1.5.0",
      "model_name": "DescriptionStyleModel",
      "state": {
       "description_width": ""
      }
     },
     "4b4e338f89684377b44fde5492d9c6d7": {
      "model_module": "@jupyter-widgets/controls",
      "model_module_version": "1.5.0",
      "model_name": "DescriptionStyleModel",
      "state": {
       "description_width": ""
      }
     },
     "4d2bd7ad17e249cd99c80234bb988169": {
      "model_module": "@jupyter-widgets/base",
      "model_module_version": "1.2.0",
      "model_name": "LayoutModel",
      "state": {
       "width": "145px"
      }
     },
     "4d47dd52def44e74a494a85807ef2cd4": {
      "model_module": "@jupyter-widgets/controls",
      "model_module_version": "1.5.0",
      "model_name": "DescriptionStyleModel",
      "state": {
       "description_width": ""
      }
     },
     "6f022559a06a4dde8f7403d63af2ed5e": {
      "model_module": "@jupyter-widgets/controls",
      "model_module_version": "1.5.0",
      "model_name": "HTMLModel",
      "state": {
       "layout": "IPY_MODEL_8201e17384ac42e58a9d4f4cf6a63226",
       "style": "IPY_MODEL_4d47dd52def44e74a494a85807ef2cd4",
       "value": "<h5>Status</h5>"
      }
     },
     "6f7ea23e1bdc4c61bb5dba70a7f1dfd0": {
      "model_module": "@jupyter-widgets/controls",
      "model_module_version": "1.5.0",
      "model_name": "HTMLModel",
      "state": {
       "layout": "IPY_MODEL_4d2bd7ad17e249cd99c80234bb988169",
       "style": "IPY_MODEL_0916dcd30f3c436f876131726e2922fb",
       "value": "<h5>Backend</h5>"
      }
     },
     "73354179951343b39cb02ec83c5a8658": {
      "model_module": "@jupyter-widgets/controls",
      "model_module_version": "1.5.0",
      "model_name": "HTMLModel",
      "state": {
       "layout": "IPY_MODEL_7822367ec35644fe9d66a19bc22b885e",
       "style": "IPY_MODEL_1523c6c536a94a8f9929162b8ab6f715",
       "value": "<h5>Job ID</h5>"
      }
     },
     "7822367ec35644fe9d66a19bc22b885e": {
      "model_module": "@jupyter-widgets/base",
      "model_module_version": "1.2.0",
      "model_name": "LayoutModel",
      "state": {
       "width": "190px"
      }
     },
     "8201e17384ac42e58a9d4f4cf6a63226": {
      "model_module": "@jupyter-widgets/base",
      "model_module_version": "1.2.0",
      "model_name": "LayoutModel",
      "state": {
       "width": "95px"
      }
     },
     "90a34b749ecf4caca7cb79bf257788e7": {
      "model_module": "@jupyter-widgets/base",
      "model_module_version": "1.2.0",
      "model_name": "LayoutModel",
      "state": {}
     },
     "ab3d760dec9f42d2ae3900051f3e18b8": {
      "model_module": "@jupyter-widgets/controls",
      "model_module_version": "1.5.0",
      "model_name": "HTMLModel",
      "state": {
       "layout": "IPY_MODEL_f67936abd605401da0709516f7681c03",
       "style": "IPY_MODEL_42f07396251748be94b77aa9890f0be8",
       "value": "<h5>Queue</h5>"
      }
     },
     "cc0fc7cbb0964f82a78b504d02bc466b": {
      "model_module": "@jupyter-widgets/base",
      "model_module_version": "1.2.0",
      "model_name": "LayoutModel",
      "state": {
       "margin": "0px 0px 10px 0px"
      }
     },
     "d48ec7d30ffd464e946fa2d28ec7d229": {
      "model_module": "@jupyter-widgets/controls",
      "model_module_version": "1.5.0",
      "model_name": "HTMLModel",
      "state": {
       "layout": "IPY_MODEL_cc0fc7cbb0964f82a78b504d02bc466b",
       "style": "IPY_MODEL_14d8b0081f194920a3546861bde30958",
       "value": "<p style='font-family: IBM Plex Sans, Arial, Helvetica, sans-serif; font-size: 20px; font-weight: medium;'>Circuit Properties</p>"
      }
     },
     "e1fc51c8effb4e8dafabd77906a7feeb": {
      "model_module": "@jupyter-widgets/controls",
      "model_module_version": "1.5.0",
      "model_name": "HTMLModel",
      "state": {
       "layout": "IPY_MODEL_90a34b749ecf4caca7cb79bf257788e7",
       "style": "IPY_MODEL_4b4e338f89684377b44fde5492d9c6d7",
       "value": "<h5>Message</h5>"
      }
     },
     "f079824d4f1f4bd9872559dbc8f15373": {
      "model_module": "@jupyter-widgets/base",
      "model_module_version": "1.2.0",
      "model_name": "LayoutModel",
      "state": {
       "margin": "0px 0px 0px 37px",
       "width": "600px"
      }
     },
     "f67936abd605401da0709516f7681c03": {
      "model_module": "@jupyter-widgets/base",
      "model_module_version": "1.2.0",
      "model_name": "LayoutModel",
      "state": {
       "width": "70px"
      }
     },
     "f6f2f0b84a834dbf89f8eb69d1b392e6": {
      "model_module": "@jupyter-widgets/controls",
      "model_module_version": "1.5.0",
      "model_name": "ButtonModel",
      "state": {
       "button_style": "primary",
       "description": "Clear",
       "layout": "IPY_MODEL_0d5482fc3eb04239b3db974f736ef9b6",
       "style": "IPY_MODEL_0cb3e7aee6684ec5898776462fe06a9d"
      }
     },
     "f7dd026734594f7b840cdf6c5b3cfae8": {
      "model_module": "@jupyter-widgets/controls",
      "model_module_version": "1.5.0",
      "model_name": "GridBoxModel",
      "state": {
       "children": [
        "IPY_MODEL_f6f2f0b84a834dbf89f8eb69d1b392e6"
       ],
       "layout": "IPY_MODEL_3a36ed7def7943f9a53c54ce2fbc8edd"
      }
     },
     "ff9b3352a6b5469588c033e0d7171c50": {
      "model_module": "@jupyter-widgets/controls",
      "model_module_version": "1.5.0",
      "model_name": "HBoxModel",
      "state": {
       "children": [
        "IPY_MODEL_73354179951343b39cb02ec83c5a8658",
        "IPY_MODEL_6f7ea23e1bdc4c61bb5dba70a7f1dfd0",
        "IPY_MODEL_6f022559a06a4dde8f7403d63af2ed5e",
        "IPY_MODEL_ab3d760dec9f42d2ae3900051f3e18b8",
        "IPY_MODEL_e1fc51c8effb4e8dafabd77906a7feeb"
       ],
       "layout": "IPY_MODEL_f079824d4f1f4bd9872559dbc8f15373"
      }
     }
    },
    "version_major": 2,
    "version_minor": 0
   }
  }
 },
 "nbformat": 4,
 "nbformat_minor": 5
}
