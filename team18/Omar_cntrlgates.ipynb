{
 "cells": [
  {
   "cell_type": "code",
   "execution_count": 1,
   "id": "7beb75ab-ddd8-4b8e-8eb0-37a4a65641f7",
   "metadata": {},
   "outputs": [
    {
     "name": "stdout",
     "output_type": "stream",
     "text": [
      "Requirement already satisfied: mqt.qcec==2.0.0rc1 in /opt/conda/lib/python3.9/site-packages (2.0.0rc1)\n",
      "Requirement already satisfied: qiskit in /opt/conda/lib/python3.9/site-packages (0.34.2)\n",
      "Requirement already satisfied: qiskit-ibmq-provider==0.18.3 in /opt/conda/lib/python3.9/site-packages (from qiskit) (0.18.3)\n",
      "Requirement already satisfied: qiskit-ignis==0.7.0 in /opt/conda/lib/python3.9/site-packages (from qiskit) (0.7.0)\n",
      "Requirement already satisfied: qiskit-terra==0.19.2 in /opt/conda/lib/python3.9/site-packages (from qiskit) (0.19.2)\n",
      "Requirement already satisfied: qiskit-aer==0.10.3 in /opt/conda/lib/python3.9/site-packages (from qiskit) (0.10.3)\n",
      "Requirement already satisfied: scipy>=1.0 in /opt/conda/lib/python3.9/site-packages (from qiskit-aer==0.10.3->qiskit) (1.8.0)\n",
      "Requirement already satisfied: numpy>=1.16.3 in /opt/conda/lib/python3.9/site-packages (from qiskit-aer==0.10.3->qiskit) (1.20.3)\n",
      "Requirement already satisfied: urllib3>=1.21.1 in /opt/conda/lib/python3.9/site-packages (from qiskit-ibmq-provider==0.18.3->qiskit) (1.26.7)\n",
      "Requirement already satisfied: requests>=2.19 in /opt/conda/lib/python3.9/site-packages (from qiskit-ibmq-provider==0.18.3->qiskit) (2.26.0)\n",
      "Requirement already satisfied: python-dateutil>=2.8.0 in /opt/conda/lib/python3.9/site-packages (from qiskit-ibmq-provider==0.18.3->qiskit) (2.8.2)\n",
      "Requirement already satisfied: websocket-client>=1.0.1 in /opt/conda/lib/python3.9/site-packages (from qiskit-ibmq-provider==0.18.3->qiskit) (1.2.3)\n",
      "Requirement already satisfied: requests-ntlm>=1.1.0 in /opt/conda/lib/python3.9/site-packages (from qiskit-ibmq-provider==0.18.3->qiskit) (1.1.0)\n",
      "Requirement already satisfied: retworkx>=0.8.0 in /opt/conda/lib/python3.9/site-packages (from qiskit-ignis==0.7.0->qiskit) (0.11.0)\n",
      "Requirement already satisfied: setuptools>=40.1.0 in /opt/conda/lib/python3.9/site-packages (from qiskit-ignis==0.7.0->qiskit) (61.1.0)\n",
      "Requirement already satisfied: tweedledum<2.0,>=1.1 in /opt/conda/lib/python3.9/site-packages (from qiskit-terra==0.19.2->qiskit) (1.1.1)\n",
      "Requirement already satisfied: stevedore>=3.0.0 in /opt/conda/lib/python3.9/site-packages (from qiskit-terra==0.19.2->qiskit) (3.5.0)\n",
      "Requirement already satisfied: ply>=3.10 in /opt/conda/lib/python3.9/site-packages (from qiskit-terra==0.19.2->qiskit) (3.11)\n",
      "Requirement already satisfied: sympy>=1.3 in /opt/conda/lib/python3.9/site-packages (from qiskit-terra==0.19.2->qiskit) (1.10.1)\n",
      "Requirement already satisfied: dill>=0.3 in /opt/conda/lib/python3.9/site-packages (from qiskit-terra==0.19.2->qiskit) (0.3.4)\n",
      "Requirement already satisfied: python-constraint>=1.4 in /opt/conda/lib/python3.9/site-packages (from qiskit-terra==0.19.2->qiskit) (1.4.0)\n",
      "Requirement already satisfied: symengine>=0.8 in /opt/conda/lib/python3.9/site-packages (from qiskit-terra==0.19.2->qiskit) (0.9.2)\n",
      "Requirement already satisfied: psutil>=5 in /opt/conda/lib/python3.9/site-packages (from qiskit-terra==0.19.2->qiskit) (5.8.0)\n",
      "Requirement already satisfied: six>=1.5 in /opt/conda/lib/python3.9/site-packages (from python-dateutil>=2.8.0->qiskit-ibmq-provider==0.18.3->qiskit) (1.16.0)\n",
      "Requirement already satisfied: certifi>=2017.4.17 in /opt/conda/lib/python3.9/site-packages (from requests>=2.19->qiskit-ibmq-provider==0.18.3->qiskit) (2021.10.8)\n",
      "Requirement already satisfied: charset-normalizer~=2.0.0 in /opt/conda/lib/python3.9/site-packages (from requests>=2.19->qiskit-ibmq-provider==0.18.3->qiskit) (2.0.9)\n",
      "Requirement already satisfied: idna<4,>=2.5 in /opt/conda/lib/python3.9/site-packages (from requests>=2.19->qiskit-ibmq-provider==0.18.3->qiskit) (3.1)\n",
      "Requirement already satisfied: ntlm-auth>=1.0.2 in /opt/conda/lib/python3.9/site-packages (from requests-ntlm>=1.1.0->qiskit-ibmq-provider==0.18.3->qiskit) (1.5.0)\n",
      "Requirement already satisfied: cryptography>=1.3 in /opt/conda/lib/python3.9/site-packages (from requests-ntlm>=1.1.0->qiskit-ibmq-provider==0.18.3->qiskit) (36.0.0)\n",
      "Requirement already satisfied: pbr!=2.1.0,>=2.0.0 in /opt/conda/lib/python3.9/site-packages (from stevedore>=3.0.0->qiskit-terra==0.19.2->qiskit) (5.8.1)\n",
      "Requirement already satisfied: mpmath>=0.19 in /opt/conda/lib/python3.9/site-packages (from sympy>=1.3->qiskit-terra==0.19.2->qiskit) (1.2.1)\n",
      "Requirement already satisfied: cffi>=1.12 in /opt/conda/lib/python3.9/site-packages (from cryptography>=1.3->requests-ntlm>=1.1.0->qiskit-ibmq-provider==0.18.3->qiskit) (1.15.0)\n",
      "Requirement already satisfied: pycparser in /opt/conda/lib/python3.9/site-packages (from cffi>=1.12->cryptography>=1.3->requests-ntlm>=1.1.0->qiskit-ibmq-provider==0.18.3->qiskit) (2.21)\n"
     ]
    }
   ],
   "source": [
    "# https://github.com/cda-tum/qcec\n",
    "!pip install mqt.qcec==2.0.0rc1\n",
    "!pip install qiskit\n",
    "#!pip install mqt.ddsim "
   ]
  },
  {
   "cell_type": "code",
   "execution_count": 2,
   "id": "65c845f5-df80-463b-abc8-a556b00798ec",
   "metadata": {},
   "outputs": [
    {
     "name": "stdout",
     "output_type": "stream",
     "text": [
      "        ┌───┐           ░ ┌─┐      \n",
      "   q_0: ┤ H ├──■────■───░─┤M├──────\n",
      "        └───┘┌─┴─┐  │   ░ └╥┘┌─┐   \n",
      "   q_1: ─────┤ X ├──┼───░──╫─┤M├───\n",
      "             └───┘┌─┴─┐ ░  ║ └╥┘┌─┐\n",
      "   q_2: ──────────┤ X ├─░──╫──╫─┤M├\n",
      "                  └───┘ ░  ║  ║ └╥┘\n",
      "meas: 3/═══════════════════╩══╩══╩═\n",
      "                           0  1  2 \n",
      "global phase: π/4\n",
      "                                                     ┌───┐           ░    ┌─┐   \n",
      "      q_2 -> 0 ───────────────────────────────────■──┤ X ├──■────────░────┤M├───\n",
      "                                           ┌───┐┌─┴─┐└─┬─┘┌─┴─┐┌───┐ ░    └╥┘┌─┐\n",
      "      q_1 -> 1 ────────────────────────────┤ X ├┤ X ├──■──┤ X ├┤ X ├─░─────╫─┤M├\n",
      "               ┌─────────┐┌────┐┌─────────┐└─┬─┘└───┘     └───┘└─┬─┘ ░ ┌─┐ ║ └╥┘\n",
      "      q_0 -> 2 ┤ Rz(π/2) ├┤ √X ├┤ Rz(π/2) ├──■───────────────────■───░─┤M├─╫──╫─\n",
      "               └─────────┘└────┘└─────────┘                          ░ └╥┘ ║  ║ \n",
      "ancilla_0 -> 3 ──────────────────────────────────────────────────────░──╫──╫──╫─\n",
      "                                                                     ░  ║  ║  ║ \n",
      "ancilla_1 -> 4 ──────────────────────────────────────────────────────░──╫──╫──╫─\n",
      "                                                                     ░  ║  ║  ║ \n",
      "       meas: 3/═════════════════════════════════════════════════════════╩══╩══╩═\n",
      "                                                                        0  1  2 \n",
      "equivalent_up_to_global_phase\n",
      "Took: 0.008572606 [s]\n"
     ]
    }
   ],
   "source": [
    "from qiskit import QuantumCircuit, transpile\n",
    "from qiskit.test.mock import FakeAthens\n",
    "from mqt import qcec\n",
    "\n",
    "if __name__ == \"__main__\":\n",
    "    # create your quantum circuit\n",
    "    circ = QuantumCircuit(3)\n",
    "    circ.h(0)\n",
    "    circ.cx(0, 1)\n",
    "    circ.cx(0, 2)\n",
    "    circ.measure_all()\n",
    "    print(circ.draw(fold=-1))\n",
    "\n",
    "    # compile circuit to 5 qubit London Architecture\n",
    "    circ_comp = transpile(circ, backend=FakeAthens())\n",
    "    print(circ_comp.draw(fold=-1))\n",
    "\n",
    "    # initialize the equivalence checker\n",
    "    ecm = qcec.EquivalenceCheckingManager(circ, circ_comp, )\n",
    "\n",
    "    # set the application scheme to be based off a profile\n",
    "    ecm.set_application_scheme('gate_cost')\n",
    "    ecm.set_gate_cost_profile('dummy.profile')\n",
    "\n",
    "    # execute the check\n",
    "    ecm.run()\n",
    "\n",
    "    # obtain the result\n",
    "    print(ecm.equivalence())\n",
    "\n",
    "    # obtain runtime\n",
    "    results = ecm.get_results()\n",
    "    print('Took:', results.check_time, '[s]')\n"
   ]
  },
  {
   "cell_type": "code",
   "execution_count": 3,
   "id": "65cc7aab-17d2-4fa3-b318-e559f58983a6",
   "metadata": {},
   "outputs": [
    {
     "name": "stdout",
     "output_type": "stream",
     "text": [
      "h 0 3\n",
      "t 0 1\n",
      "z 0 1\n",
      "id 0 0\n",
      "sx 0 1\n",
      "sdg 0 1\n",
      "s 0 1\n",
      "i 0 0\n",
      "y 0 2\n",
      "tdg 0 1\n",
      "sxdg 0 3\n",
      "x 0 1\n"
     ]
    }
   ],
   "source": [
    "# NO PARAMETER, ONE QUBIT GATES\n",
    "nativelySupportedGates = {\"i\",\"x\", \"y\", \"z\", \"h\", \"s\", \"sdg\", \"t\", \"tdg\", \"sx\", \"sxdg\"}\n",
    "circuit = QuantumCircuit(1)\n",
    "for element in nativelySupportedGates:\n",
    "    circuit = QuantumCircuit(1)\n",
    "    a = (element, 0)\n",
    "    getattr(circuit, a[0])(a[1])\n",
    "    #print(circuit.size())\n",
    "    \n",
    "    circ_comp = transpile(circuit, backend=FakeAthens())\n",
    "    #print(circ_comp.size())\n",
    "    print(element, 0, circ_comp.size(), sep =' ')\n",
    "#circuit.draw()"
   ]
  },
  {
   "cell_type": "code",
   "execution_count": 4,
   "id": "e6e763c3-264d-4084-8fed-6fca06508a9e",
   "metadata": {},
   "outputs": [
    {
     "name": "stdout",
     "output_type": "stream",
     "text": [
      "iswap 0 9\n",
      "swap 0 3\n"
     ]
    }
   ],
   "source": [
    "# NO PARAMETER, TWO QUBIT GATES\n",
    "nativelySupportedGates = {\"swap\", \"iswap\"}\n",
    "circuit = QuantumCircuit(2)\n",
    "for element in nativelySupportedGates:\n",
    "    circuit = QuantumCircuit(2)\n",
    "    a = (element, 0, 1)\n",
    "    getattr(circuit, a[0])(a[1], a[2])\n",
    "    #print(circuit.size())\n",
    "    \n",
    "    circ_comp = transpile(circuit, backend=FakeAthens())\n",
    "    #print(circ_comp.size())\n",
    "    print(element, 0, circ_comp.size(), sep =' ')\n",
    "#circuit.draw()"
   ]
  },
  {
   "cell_type": "code",
   "execution_count": 5,
   "id": "356a5f90-c8b5-42fb-9dec-19933fa91b50",
   "metadata": {},
   "outputs": [
    {
     "name": "stdout",
     "output_type": "stream",
     "text": [
      "x 1 1\n",
      "x 2 18\n",
      "x 3 34\n",
      "x 4 97\n",
      "x 5 190\n",
      "x 6 382\n",
      "x 7 766\n",
      "x 8 1534\n",
      "x 9 3070\n",
      "x 10 6142\n",
      "x 11 12286\n",
      "x 12 24574\n",
      "x 13 49150\n",
      "x 14 98302\n",
      "x 15 196606\n"
     ]
    }
   ],
   "source": [
    "# GATE WITH CONTROL BITS\n",
    "nativelySupportedGates = {\"cx\"}\n",
    "circuit = QuantumCircuit(1)\n",
    "circuit.x(0)\n",
    "args_arr = [0]\n",
    "for i in range(15):\n",
    "    custom = circuit.to_gate().control(i+1)\n",
    "    new_circuit = QuantumCircuit(2+i)\n",
    "    args_arr.append(i+1)\n",
    "    new_circuit.append(custom, args_arr)\n",
    "    #print(new_circuit.size())\n",
    "    #print(new_circuit)\n",
    "    \n",
    "    circ_comp = transpile(new_circuit, basis_gates=[\"id\", \"rz\", \"sx\", \"x\", \"cx\"])\n",
    "    #print(circ_comp.size())\n",
    "    print('x', i+1, circ_comp.size(), sep =' ')\n",
    "#circuit.draw()"
   ]
  },
  {
   "cell_type": "code",
   "execution_count": 6,
   "id": "8ccb5f03-c23c-476e-9e03-bf7c9876280b",
   "metadata": {},
   "outputs": [
    {
     "data": {
      "text/html": [
       "<pre style=\"word-wrap: normal;white-space: pre;background: #fff0;line-height: 1.1;font-family: &quot;Courier New&quot;,Courier,monospace\">          \n",
       "q_0: ──■──\n",
       "     ┌─┴─┐\n",
       "q_1: ┤ X ├\n",
       "     └───┘</pre>"
      ],
      "text/plain": [
       "          \n",
       "q_0: ──■──\n",
       "     ┌─┴─┐\n",
       "q_1: ┤ X ├\n",
       "     └───┘"
      ]
     },
     "execution_count": 6,
     "metadata": {},
     "output_type": "execute_result"
    }
   ],
   "source": [
    "from qiskit import QuantumCircuit\n",
    "circuit = QuantumCircuit(2)\n",
    "circuit.draw()\n",
    "a = ('cx', 0, 1)\n",
    "getattr(circuit, a[0])(a[1], a[2])\n",
    "circuit.draw()"
   ]
  },
  {
   "cell_type": "code",
   "execution_count": 12,
   "id": "0363a150-d391-42b1-a189-bee2171c745c",
   "metadata": {},
   "outputs": [
    {
     "data": {
      "text/html": [
       "<pre style=\"word-wrap: normal;white-space: pre;background: #fff0;line-height: 1.1;font-family: &quot;Courier New&quot;,Courier,monospace\">     ┌───┐\n",
       "q_0: ┤ I ├\n",
       "     └───┘\n",
       "q_1: ─────\n",
       "          </pre>"
      ],
      "text/plain": [
       "     ┌───┐\n",
       "q_0: ┤ I ├\n",
       "     └───┘\n",
       "q_1: ─────\n",
       "          "
      ]
     },
     "execution_count": 12,
     "metadata": {},
     "output_type": "execute_result"
    }
   ],
   "source": [
    "from qiskit import QuantumCircuit\n",
    "circuit = QuantumCircuit(2)\n",
    "circuit.draw()\n",
    "a = ('id', 0)\n",
    "getattr(circuit, a[0])(a[1])\n",
    "circuit.draw()"
   ]
  }
 ],
 "metadata": {
  "kernelspec": {
   "display_name": "Python 3 (ipykernel)",
   "language": "python",
   "name": "python3"
  },
  "language_info": {
   "codemirror_mode": {
    "name": "ipython",
    "version": 3
   },
   "file_extension": ".py",
   "mimetype": "text/x-python",
   "name": "python",
   "nbconvert_exporter": "python",
   "pygments_lexer": "ipython3",
   "version": "3.9.7"
  }
 },
 "nbformat": 4,
 "nbformat_minor": 5
}
