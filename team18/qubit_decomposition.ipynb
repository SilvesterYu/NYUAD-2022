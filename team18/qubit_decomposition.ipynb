{
 "cells": [
  {
   "cell_type": "code",
   "execution_count": null,
   "id": "b042851c",
   "metadata": {},
   "outputs": [],
   "source": [
    "!pip install qiskit"
   ]
  },
  {
   "cell_type": "code",
   "execution_count": 62,
   "id": "40cab1c5-2a6c-495d-8a9d-8fca1a739f12",
   "metadata": {},
   "outputs": [],
   "source": [
    "# Importing standard Qiskit libraries\n",
    "from qiskit import QuantumCircuit, transpile, Aer, IBMQ\n",
    "from qiskit.tools.jupyter import *\n",
    "from qiskit.visualization import *\n",
    "from qiskit.providers.aer import QasmSimulator\n",
    "import numpy as np\n",
    "from math import pi, sqrt\n",
    "import random\n",
    "import os"
   ]
  },
  {
   "cell_type": "code",
   "execution_count": 65,
   "id": "8335a276",
   "metadata": {},
   "outputs": [],
   "source": [
    "# single qubit gates with no parameters\n",
    "single_qubit_gates_no_params = [\"x\",\"y\",\"z\",\"h\",\"s\",\"sdg\",\"t\",\"tdg\",\"sx\",\"sxdg\"]\n",
    "\n",
    "# single qubit gates with no parameters\n",
    "single_qubit_gates_1_params = [\"p\",\"rx\",\"ry\",\"rz\"]\n",
    "\n",
    "# single qubit gates with 2 parameters\n",
    "single_qubit_gates_2_params = [\"u2\"]\n",
    "\n",
    "# single qubit gates with 3 parameters\n",
    "single_qubit_gates_3_params = [\"u\", \"u3\"]\n",
    "\n",
    "# single qubit gates with 3 parameters\n",
    "two_qubit_gates = [\"swap\", \"iswap\"]\n",
    "\n",
    "#creating the gate statistics list\n",
    "gate_stats = []\n",
    "\n",
    "# create gate (with params) and return it\n",
    "def create_gate_with_params(circuit, gate, number_qubits, number_params):\n",
    "    if number_qubits == 1:\n",
    "        param_list = []\n",
    "\n",
    "        for i in range(number_params):\n",
    "            param_list.append(random.uniform(-np.pi, np.pi))\n",
    "\n",
    "        getattr(circuit, gate)(*param_list, 0)\n",
    "    elif number_qubits == 2:\n",
    "        getattr(circuit, gate)(0, 1)\n",
    "\n",
    "    return circuit\n",
    "\n",
    "# return gate with number of controls\n",
    "def create_controlled_gate(circuit, controls, number_qubits):\n",
    "    # convert circuit to gate and add number of controls\n",
    "    custom_circuit = circuit.to_gate().control(controls)\n",
    "\n",
    "    # create new circuit with number of qubits for gate + for controls\n",
    "    circuit_with_controls = QuantumCircuit(controls + number_qubits)\n",
    "\n",
    "    # append gate with controls to circuit with controls\n",
    "    # second argument is a range for number of controls\n",
    "    circuit_with_controls.append(custom_circuit, range(controls + number_qubits))\n",
    "    \n",
    "    return circuit_with_controls\n",
    "\n",
    "\n",
    "# create look up table for set of gates\n",
    "# with different amounts of controls\n",
    "def create_lookup_table(gates, number_qubits, number_params, max_controls, optimization_level):\n",
    "    \n",
    "    # iterate through each gate\n",
    "    for gate in gates:\n",
    "        \n",
    "        # create circuit with all amount of controls\n",
    "        for controls in range(0, max_controls + 1):\n",
    "            \n",
    "            # create single qubit circuit\n",
    "            circuit = QuantumCircuit(number_qubits)\n",
    "\n",
    "            # create gate with its params\n",
    "            circuit = create_gate_with_params(circuit, gate, number_qubits, number_params)\n",
    "        \n",
    "            # if there are controls,\n",
    "            # create circuit with controls\n",
    "            if controls != 0:\n",
    "                circuit_with_controls = create_controlled_gate(circuit, controls, number_qubits)\n",
    "                \n",
    "                # set circuit that will be transpiled to the circuit with controls\n",
    "                circuit = circuit_with_controls\n",
    "                \n",
    "            # transpile the circuit\n",
    "            transpiled_circuit = transpile(circuit, basis_gates = basis_gates, optimization_level=optimization_level)\n",
    "            gate_stats.append([gate,controls, transpiled_circuit.size()])\n",
    "    \n",
    "    # creating and writing the profiles to text file\n",
    "    cd = os.getcwd()\n",
    "\n",
    "    #creating a txt file with name \"gate_status_op_lv_n.txt\", n being the optimization level\n",
    "    f = open(cd + \"/gate_stats\" + \"_op_lv_\" + str(optimization_level) + \".txt\", \"a\")\n",
    "\n",
    "    #writing the information from gate_stats list to the text file\n",
    "    for i in np.arange(len(gate_stats)):\n",
    "        f.writelines([gate_stats[i][0], \" \", str(gate_stats[i][1]), \" \", str(gate_stats[i][2])])\n",
    "        f.writelines(['\\n'])\n",
    "    \n",
    "    f.close()"
   ]
  },
  {
   "cell_type": "code",
   "execution_count": 67,
   "id": "e98b1b89",
   "metadata": {},
   "outputs": [],
   "source": [
    "#example execution of function\n",
    "for optimization_level in range(4):\n",
    "    create_lookup_table(single_qubit_gates_no_params, 1, 0, 5, optimization_level)"
   ]
  }
 ],
 "metadata": {
  "kernelspec": {
   "display_name": "Qiskit v0.34.2 (ipykernel)",
   "language": "python",
   "name": "python3"
  },
  "language_info": {
   "codemirror_mode": {
    "name": "ipython",
    "version": 3
   },
   "file_extension": ".py",
   "mimetype": "text/x-python",
   "name": "python",
   "nbconvert_exporter": "python",
   "pygments_lexer": "ipython3",
   "version": "3.9.6"
  },
  "widgets": {
   "application/vnd.jupyter.widget-state+json": {
    "state": {
     "05329c2700b441db80cc55a2ec3d8002": {
      "model_module": "@jupyter-widgets/controls",
      "model_module_version": "1.5.0",
      "model_name": "GridBoxModel",
      "state": {
       "children": [
        "IPY_MODEL_307227ebc51348dd81fddc171b15211e"
       ],
       "layout": "IPY_MODEL_abdafae40ab6470697517fd515cc7efe"
      }
     },
     "0b1cbcb012334ece8748a92f66c82cd3": {
      "model_module": "@jupyter-widgets/controls",
      "model_module_version": "1.5.0",
      "model_name": "DescriptionStyleModel",
      "state": {
       "description_width": ""
      }
     },
     "1f45b5fd4a2340c0aad19ac0f5478e16": {
      "model_module": "@jupyter-widgets/base",
      "model_module_version": "1.2.0",
      "model_name": "LayoutModel",
      "state": {
       "width": "145px"
      }
     },
     "2dba7c31190d4e5abb7bbd7a34a4094f": {
      "model_module": "@jupyter-widgets/base",
      "model_module_version": "1.2.0",
      "model_name": "LayoutModel",
      "state": {
       "width": "95px"
      }
     },
     "307227ebc51348dd81fddc171b15211e": {
      "model_module": "@jupyter-widgets/controls",
      "model_module_version": "1.5.0",
      "model_name": "ButtonModel",
      "state": {
       "button_style": "primary",
       "description": "Clear",
       "layout": "IPY_MODEL_5e1e4fa3dd6443c79ed741373757d772",
       "style": "IPY_MODEL_6b79f0f346a54cab8ee0cfcc2073de2d"
      }
     },
     "39f8d761d97a419599c8152470f91477": {
      "model_module": "@jupyter-widgets/controls",
      "model_module_version": "1.5.0",
      "model_name": "HTMLModel",
      "state": {
       "layout": "IPY_MODEL_1f45b5fd4a2340c0aad19ac0f5478e16",
       "style": "IPY_MODEL_d496ad0e5cd24187b2fc7bddd6a94fb8",
       "value": "<h5>Backend</h5>"
      }
     },
     "4c65b2f060954ca198163ab7963207b6": {
      "model_module": "@jupyter-widgets/base",
      "model_module_version": "1.2.0",
      "model_name": "LayoutModel",
      "state": {}
     },
     "5e1e4fa3dd6443c79ed741373757d772": {
      "model_module": "@jupyter-widgets/base",
      "model_module_version": "1.2.0",
      "model_name": "LayoutModel",
      "state": {
       "grid_area": "right",
       "padding": "0px 0px 0px 0px",
       "width": "70px"
      }
     },
     "6b79f0f346a54cab8ee0cfcc2073de2d": {
      "model_module": "@jupyter-widgets/controls",
      "model_module_version": "1.5.0",
      "model_name": "ButtonStyleModel",
      "state": {}
     },
     "6dfbbdacb3c543b596ae09dde4a8be9a": {
      "model_module": "@jupyter-widgets/controls",
      "model_module_version": "1.5.0",
      "model_name": "HBoxModel",
      "state": {
       "children": [
        "IPY_MODEL_8463c3acfe894c2091d0a3cc5af93e6d",
        "IPY_MODEL_39f8d761d97a419599c8152470f91477",
        "IPY_MODEL_f787ca479781477896b82d0c29ee80bf",
        "IPY_MODEL_702e63b690e14e08b7645e8c6adfa434",
        "IPY_MODEL_8cd51b9d31c14db0a11bab98ec73aea8"
       ],
       "layout": "IPY_MODEL_7cd3f5b019c140abb0988500377fbe4d"
      }
     },
     "702e63b690e14e08b7645e8c6adfa434": {
      "model_module": "@jupyter-widgets/controls",
      "model_module_version": "1.5.0",
      "model_name": "HTMLModel",
      "state": {
       "layout": "IPY_MODEL_c7c92f6a895d471d88b6420cca0c2faa",
       "style": "IPY_MODEL_76fadff16c0549ada1e17cd61aba53fc",
       "value": "<h5>Queue</h5>"
      }
     },
     "76fadff16c0549ada1e17cd61aba53fc": {
      "model_module": "@jupyter-widgets/controls",
      "model_module_version": "1.5.0",
      "model_name": "DescriptionStyleModel",
      "state": {
       "description_width": ""
      }
     },
     "7cd3f5b019c140abb0988500377fbe4d": {
      "model_module": "@jupyter-widgets/base",
      "model_module_version": "1.2.0",
      "model_name": "LayoutModel",
      "state": {
       "margin": "0px 0px 0px 37px",
       "width": "600px"
      }
     },
     "8463c3acfe894c2091d0a3cc5af93e6d": {
      "model_module": "@jupyter-widgets/controls",
      "model_module_version": "1.5.0",
      "model_name": "HTMLModel",
      "state": {
       "layout": "IPY_MODEL_d4f157de9ca84b24aba45a3d0b899e14",
       "style": "IPY_MODEL_99367511e44646f789dcb98b94dce2ea",
       "value": "<h5>Job ID</h5>"
      }
     },
     "8cd51b9d31c14db0a11bab98ec73aea8": {
      "model_module": "@jupyter-widgets/controls",
      "model_module_version": "1.5.0",
      "model_name": "HTMLModel",
      "state": {
       "layout": "IPY_MODEL_4c65b2f060954ca198163ab7963207b6",
       "style": "IPY_MODEL_0b1cbcb012334ece8748a92f66c82cd3",
       "value": "<h5>Message</h5>"
      }
     },
     "99367511e44646f789dcb98b94dce2ea": {
      "model_module": "@jupyter-widgets/controls",
      "model_module_version": "1.5.0",
      "model_name": "DescriptionStyleModel",
      "state": {
       "description_width": ""
      }
     },
     "9f499e95577c441d86c76a8a768c14df": {
      "model_module": "@jupyter-widgets/controls",
      "model_module_version": "1.5.0",
      "model_name": "HTMLModel",
      "state": {
       "layout": "IPY_MODEL_cfbac7509ea2493da44b11e53248b4a6",
       "style": "IPY_MODEL_b1ebcbc190dd4ea7a932f33e7b72ca0f",
       "value": "<p style='font-family: IBM Plex Sans, Arial, Helvetica, sans-serif; font-size: 20px; font-weight: medium;'>Circuit Properties</p>"
      }
     },
     "a2d0d60bb2d64c27825976d4d63ba14c": {
      "model_module": "@jupyter-widgets/controls",
      "model_module_version": "1.5.0",
      "model_name": "DescriptionStyleModel",
      "state": {
       "description_width": ""
      }
     },
     "abdafae40ab6470697517fd515cc7efe": {
      "model_module": "@jupyter-widgets/base",
      "model_module_version": "1.2.0",
      "model_name": "LayoutModel",
      "state": {
       "grid_template_areas": "\n                                       \". . . . right \"\n                                        ",
       "grid_template_columns": "20% 20% 20% 20% 20%",
       "width": "100%"
      }
     },
     "b1ebcbc190dd4ea7a932f33e7b72ca0f": {
      "model_module": "@jupyter-widgets/controls",
      "model_module_version": "1.5.0",
      "model_name": "DescriptionStyleModel",
      "state": {
       "description_width": ""
      }
     },
     "c7c92f6a895d471d88b6420cca0c2faa": {
      "model_module": "@jupyter-widgets/base",
      "model_module_version": "1.2.0",
      "model_name": "LayoutModel",
      "state": {
       "width": "70px"
      }
     },
     "cfbac7509ea2493da44b11e53248b4a6": {
      "model_module": "@jupyter-widgets/base",
      "model_module_version": "1.2.0",
      "model_name": "LayoutModel",
      "state": {
       "margin": "0px 0px 10px 0px"
      }
     },
     "d496ad0e5cd24187b2fc7bddd6a94fb8": {
      "model_module": "@jupyter-widgets/controls",
      "model_module_version": "1.5.0",
      "model_name": "DescriptionStyleModel",
      "state": {
       "description_width": ""
      }
     },
     "d4f157de9ca84b24aba45a3d0b899e14": {
      "model_module": "@jupyter-widgets/base",
      "model_module_version": "1.2.0",
      "model_name": "LayoutModel",
      "state": {
       "width": "190px"
      }
     },
     "f787ca479781477896b82d0c29ee80bf": {
      "model_module": "@jupyter-widgets/controls",
      "model_module_version": "1.5.0",
      "model_name": "HTMLModel",
      "state": {
       "layout": "IPY_MODEL_2dba7c31190d4e5abb7bbd7a34a4094f",
       "style": "IPY_MODEL_a2d0d60bb2d64c27825976d4d63ba14c",
       "value": "<h5>Status</h5>"
      }
     }
    },
    "version_major": 2,
    "version_minor": 0
   }
  }
 },
 "nbformat": 4,
 "nbformat_minor": 5
}
