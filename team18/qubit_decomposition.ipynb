{
 "cells": [
  {
   "cell_type": "code",
   "execution_count": 10,
   "id": "b042851c",
   "metadata": {},
   "outputs": [
    {
     "name": "stdout",
     "output_type": "stream",
     "text": [
      "Requirement already satisfied: qiskit in /Users/wenyers/code/NYUAD-2022/venv/lib/python3.9/site-packages (0.34.2)\n",
      "Requirement already satisfied: qiskit-terra==0.19.2 in /Users/wenyers/code/NYUAD-2022/venv/lib/python3.9/site-packages (from qiskit) (0.19.2)\n",
      "Requirement already satisfied: qiskit-aer==0.10.3 in /Users/wenyers/code/NYUAD-2022/venv/lib/python3.9/site-packages (from qiskit) (0.10.3)\n",
      "Requirement already satisfied: qiskit-ibmq-provider==0.18.3 in /Users/wenyers/code/NYUAD-2022/venv/lib/python3.9/site-packages (from qiskit) (0.18.3)\n",
      "Requirement already satisfied: qiskit-ignis==0.7.0 in /Users/wenyers/code/NYUAD-2022/venv/lib/python3.9/site-packages (from qiskit) (0.7.0)\n",
      "Requirement already satisfied: numpy>=1.16.3 in /Users/wenyers/code/NYUAD-2022/venv/lib/python3.9/site-packages (from qiskit-aer==0.10.3->qiskit) (1.22.3)\n",
      "Requirement already satisfied: scipy>=1.0 in /Users/wenyers/code/NYUAD-2022/venv/lib/python3.9/site-packages (from qiskit-aer==0.10.3->qiskit) (1.8.0)\n",
      "Requirement already satisfied: websocket-client>=1.0.1 in /Users/wenyers/code/NYUAD-2022/venv/lib/python3.9/site-packages (from qiskit-ibmq-provider==0.18.3->qiskit) (1.3.2)\n",
      "Requirement already satisfied: requests>=2.19 in /Users/wenyers/code/NYUAD-2022/venv/lib/python3.9/site-packages (from qiskit-ibmq-provider==0.18.3->qiskit) (2.27.1)\n",
      "Requirement already satisfied: urllib3>=1.21.1 in /Users/wenyers/code/NYUAD-2022/venv/lib/python3.9/site-packages (from qiskit-ibmq-provider==0.18.3->qiskit) (1.26.9)\n",
      "Requirement already satisfied: requests-ntlm>=1.1.0 in /Users/wenyers/code/NYUAD-2022/venv/lib/python3.9/site-packages (from qiskit-ibmq-provider==0.18.3->qiskit) (1.1.0)\n",
      "Requirement already satisfied: python-dateutil>=2.8.0 in /Users/wenyers/code/NYUAD-2022/venv/lib/python3.9/site-packages (from qiskit-ibmq-provider==0.18.3->qiskit) (2.8.2)\n",
      "Requirement already satisfied: retworkx>=0.8.0 in /Users/wenyers/code/NYUAD-2022/venv/lib/python3.9/site-packages (from qiskit-ignis==0.7.0->qiskit) (0.11.0)\n",
      "Requirement already satisfied: setuptools>=40.1.0 in /Users/wenyers/code/NYUAD-2022/venv/lib/python3.9/site-packages (from qiskit-ignis==0.7.0->qiskit) (56.0.0)\n",
      "Requirement already satisfied: stevedore>=3.0.0 in /Users/wenyers/code/NYUAD-2022/venv/lib/python3.9/site-packages (from qiskit-terra==0.19.2->qiskit) (3.5.0)\n",
      "Requirement already satisfied: sympy>=1.3 in /Users/wenyers/code/NYUAD-2022/venv/lib/python3.9/site-packages (from qiskit-terra==0.19.2->qiskit) (1.10.1)\n",
      "Requirement already satisfied: python-constraint>=1.4 in /Users/wenyers/code/NYUAD-2022/venv/lib/python3.9/site-packages (from qiskit-terra==0.19.2->qiskit) (1.4.0)\n",
      "Requirement already satisfied: tweedledum<2.0,>=1.1 in /Users/wenyers/code/NYUAD-2022/venv/lib/python3.9/site-packages (from qiskit-terra==0.19.2->qiskit) (1.1.1)\n",
      "Requirement already satisfied: symengine>=0.8 in /Users/wenyers/code/NYUAD-2022/venv/lib/python3.9/site-packages (from qiskit-terra==0.19.2->qiskit) (0.9.2)\n",
      "Requirement already satisfied: ply>=3.10 in /Users/wenyers/code/NYUAD-2022/venv/lib/python3.9/site-packages (from qiskit-terra==0.19.2->qiskit) (3.11)\n",
      "Requirement already satisfied: psutil>=5 in /Users/wenyers/code/NYUAD-2022/venv/lib/python3.9/site-packages (from qiskit-terra==0.19.2->qiskit) (5.9.0)\n",
      "Requirement already satisfied: dill>=0.3 in /Users/wenyers/code/NYUAD-2022/venv/lib/python3.9/site-packages (from qiskit-terra==0.19.2->qiskit) (0.3.4)\n",
      "Requirement already satisfied: six>=1.5 in /Users/wenyers/code/NYUAD-2022/venv/lib/python3.9/site-packages (from python-dateutil>=2.8.0->qiskit-ibmq-provider==0.18.3->qiskit) (1.16.0)\n",
      "Requirement already satisfied: certifi>=2017.4.17 in /Users/wenyers/code/NYUAD-2022/venv/lib/python3.9/site-packages (from requests>=2.19->qiskit-ibmq-provider==0.18.3->qiskit) (2021.10.8)\n",
      "Requirement already satisfied: charset-normalizer~=2.0.0 in /Users/wenyers/code/NYUAD-2022/venv/lib/python3.9/site-packages (from requests>=2.19->qiskit-ibmq-provider==0.18.3->qiskit) (2.0.12)\n",
      "Requirement already satisfied: idna<4,>=2.5 in /Users/wenyers/code/NYUAD-2022/venv/lib/python3.9/site-packages (from requests>=2.19->qiskit-ibmq-provider==0.18.3->qiskit) (3.3)\n",
      "Requirement already satisfied: cryptography>=1.3 in /Users/wenyers/code/NYUAD-2022/venv/lib/python3.9/site-packages (from requests-ntlm>=1.1.0->qiskit-ibmq-provider==0.18.3->qiskit) (36.0.2)\n",
      "Requirement already satisfied: ntlm-auth>=1.0.2 in /Users/wenyers/code/NYUAD-2022/venv/lib/python3.9/site-packages (from requests-ntlm>=1.1.0->qiskit-ibmq-provider==0.18.3->qiskit) (1.5.0)\n",
      "Requirement already satisfied: cffi>=1.12 in /Users/wenyers/code/NYUAD-2022/venv/lib/python3.9/site-packages (from cryptography>=1.3->requests-ntlm>=1.1.0->qiskit-ibmq-provider==0.18.3->qiskit) (1.15.0)\n",
      "Requirement already satisfied: pycparser in /Users/wenyers/code/NYUAD-2022/venv/lib/python3.9/site-packages (from cffi>=1.12->cryptography>=1.3->requests-ntlm>=1.1.0->qiskit-ibmq-provider==0.18.3->qiskit) (2.21)\n",
      "Requirement already satisfied: pbr!=2.1.0,>=2.0.0 in /Users/wenyers/code/NYUAD-2022/venv/lib/python3.9/site-packages (from stevedore>=3.0.0->qiskit-terra==0.19.2->qiskit) (5.8.1)\n",
      "Requirement already satisfied: mpmath>=0.19 in /Users/wenyers/code/NYUAD-2022/venv/lib/python3.9/site-packages (from sympy>=1.3->qiskit-terra==0.19.2->qiskit) (1.2.1)\n",
      "\u001b[33mWARNING: You are using pip version 21.1.3; however, version 22.0.4 is available.\n",
      "You should consider upgrading via the '/Users/wenyers/code/NYUAD-2022/venv/bin/python3 -m pip install --upgrade pip' command.\u001b[0m\n"
     ]
    }
   ],
   "source": [
    "!pip install qiskit"
   ]
  },
  {
   "cell_type": "code",
   "execution_count": 11,
   "id": "40cab1c5-2a6c-495d-8a9d-8fca1a739f12",
   "metadata": {},
   "outputs": [
    {
     "ename": "MissingOptionalLibraryError",
     "evalue": "\"The 'ipywidgets' library is required to use 'jupyter magics'. You can install it with 'pip install ipywidgets'.\"",
     "output_type": "error",
     "traceback": [
      "\u001b[0;31m---------------------------------------------------------------------------\u001b[0m",
      "\u001b[0;31mModuleNotFoundError\u001b[0m                       Traceback (most recent call last)",
      "File \u001b[0;32m~/code/NYUAD-2022/venv/lib/python3.9/site-packages/qiskit/tools/jupyter/jupyter_magics.py:25\u001b[0m, in \u001b[0;36m<module>\u001b[0;34m\u001b[0m\n\u001b[1;32m     <a href='file:///Users/wenyers/code/NYUAD-2022/venv/lib/python3.9/site-packages/qiskit/tools/jupyter/jupyter_magics.py?line=23'>24</a>\u001b[0m \u001b[39mtry\u001b[39;00m:\n\u001b[0;32m---> <a href='file:///Users/wenyers/code/NYUAD-2022/venv/lib/python3.9/site-packages/qiskit/tools/jupyter/jupyter_magics.py?line=24'>25</a>\u001b[0m     \u001b[39mimport\u001b[39;00m \u001b[39mipywidgets\u001b[39;00m \u001b[39mas\u001b[39;00m \u001b[39mwidgets\u001b[39;00m\n\u001b[1;32m     <a href='file:///Users/wenyers/code/NYUAD-2022/venv/lib/python3.9/site-packages/qiskit/tools/jupyter/jupyter_magics.py?line=25'>26</a>\u001b[0m \u001b[39mexcept\u001b[39;00m \u001b[39mImportError\u001b[39;00m \u001b[39mas\u001b[39;00m ex:\n",
      "\u001b[0;31mModuleNotFoundError\u001b[0m: No module named 'ipywidgets'",
      "\nThe above exception was the direct cause of the following exception:\n",
      "\u001b[0;31mMissingOptionalLibraryError\u001b[0m               Traceback (most recent call last)",
      "\u001b[1;32m/Users/wenyers/code/NYUAD-2022/team18/qubit_decomposition.ipynb Cell 2'\u001b[0m in \u001b[0;36m<cell line: 3>\u001b[0;34m()\u001b[0m\n\u001b[1;32m      <a href='vscode-notebook-cell:/Users/wenyers/code/NYUAD-2022/team18/qubit_decomposition.ipynb#ch0000001?line=0'>1</a>\u001b[0m \u001b[39m# Importing standard Qiskit libraries\u001b[39;00m\n\u001b[1;32m      <a href='vscode-notebook-cell:/Users/wenyers/code/NYUAD-2022/team18/qubit_decomposition.ipynb#ch0000001?line=1'>2</a>\u001b[0m \u001b[39mfrom\u001b[39;00m \u001b[39mqiskit\u001b[39;00m \u001b[39mimport\u001b[39;00m QuantumCircuit, transpile, Aer, IBMQ\n\u001b[0;32m----> <a href='vscode-notebook-cell:/Users/wenyers/code/NYUAD-2022/team18/qubit_decomposition.ipynb#ch0000001?line=2'>3</a>\u001b[0m \u001b[39mfrom\u001b[39;00m \u001b[39mqiskit\u001b[39;00m\u001b[39m.\u001b[39;00m\u001b[39mtools\u001b[39;00m\u001b[39m.\u001b[39;00m\u001b[39mjupyter\u001b[39;00m \u001b[39mimport\u001b[39;00m \u001b[39m*\u001b[39m\n\u001b[1;32m      <a href='vscode-notebook-cell:/Users/wenyers/code/NYUAD-2022/team18/qubit_decomposition.ipynb#ch0000001?line=3'>4</a>\u001b[0m \u001b[39mfrom\u001b[39;00m \u001b[39mqiskit\u001b[39;00m\u001b[39m.\u001b[39;00m\u001b[39mvisualization\u001b[39;00m \u001b[39mimport\u001b[39;00m \u001b[39m*\u001b[39m\n\u001b[1;32m      <a href='vscode-notebook-cell:/Users/wenyers/code/NYUAD-2022/team18/qubit_decomposition.ipynb#ch0000001?line=4'>5</a>\u001b[0m \u001b[39mfrom\u001b[39;00m \u001b[39mqiskit\u001b[39;00m\u001b[39m.\u001b[39;00m\u001b[39mproviders\u001b[39;00m\u001b[39m.\u001b[39;00m\u001b[39maer\u001b[39;00m \u001b[39mimport\u001b[39;00m QasmSimulator\n",
      "File \u001b[0;32m~/code/NYUAD-2022/venv/lib/python3.9/site-packages/qiskit/tools/jupyter/__init__.py:105\u001b[0m, in \u001b[0;36m<module>\u001b[0;34m\u001b[0m\n\u001b[1;32m    <a href='file:///Users/wenyers/code/NYUAD-2022/venv/lib/python3.9/site-packages/qiskit/tools/jupyter/__init__.py?line=102'>103</a>\u001b[0m \u001b[39mfrom\u001b[39;00m \u001b[39mqiskit\u001b[39;00m\u001b[39m.\u001b[39;00m\u001b[39mtest\u001b[39;00m\u001b[39m.\u001b[39;00m\u001b[39mmock\u001b[39;00m \u001b[39mimport\u001b[39;00m FakeBackend\n\u001b[1;32m    <a href='file:///Users/wenyers/code/NYUAD-2022/venv/lib/python3.9/site-packages/qiskit/tools/jupyter/__init__.py?line=103'>104</a>\u001b[0m \u001b[39mfrom\u001b[39;00m \u001b[39mqiskit\u001b[39;00m\u001b[39m.\u001b[39;00m\u001b[39mtools\u001b[39;00m\u001b[39m.\u001b[39;00m\u001b[39mvisualization\u001b[39;00m \u001b[39mimport\u001b[39;00m HAS_MATPLOTLIB\n\u001b[0;32m--> <a href='file:///Users/wenyers/code/NYUAD-2022/venv/lib/python3.9/site-packages/qiskit/tools/jupyter/__init__.py?line=104'>105</a>\u001b[0m \u001b[39mfrom\u001b[39;00m \u001b[39m.\u001b[39;00m\u001b[39mjupyter_magics\u001b[39;00m \u001b[39mimport\u001b[39;00m ProgressBarMagic, StatusMagic\n\u001b[1;32m    <a href='file:///Users/wenyers/code/NYUAD-2022/venv/lib/python3.9/site-packages/qiskit/tools/jupyter/__init__.py?line=105'>106</a>\u001b[0m \u001b[39mfrom\u001b[39;00m \u001b[39m.\u001b[39;00m\u001b[39mprogressbar\u001b[39;00m \u001b[39mimport\u001b[39;00m HTMLProgressBar\n\u001b[1;32m    <a href='file:///Users/wenyers/code/NYUAD-2022/venv/lib/python3.9/site-packages/qiskit/tools/jupyter/__init__.py?line=106'>107</a>\u001b[0m \u001b[39mfrom\u001b[39;00m \u001b[39m.\u001b[39;00m\u001b[39mversion_table\u001b[39;00m \u001b[39mimport\u001b[39;00m VersionTable\n",
      "File \u001b[0;32m~/code/NYUAD-2022/venv/lib/python3.9/site-packages/qiskit/tools/jupyter/jupyter_magics.py:27\u001b[0m, in \u001b[0;36m<module>\u001b[0;34m\u001b[0m\n\u001b[1;32m     <a href='file:///Users/wenyers/code/NYUAD-2022/venv/lib/python3.9/site-packages/qiskit/tools/jupyter/jupyter_magics.py?line=24'>25</a>\u001b[0m     \u001b[39mimport\u001b[39;00m \u001b[39mipywidgets\u001b[39;00m \u001b[39mas\u001b[39;00m \u001b[39mwidgets\u001b[39;00m\n\u001b[1;32m     <a href='file:///Users/wenyers/code/NYUAD-2022/venv/lib/python3.9/site-packages/qiskit/tools/jupyter/jupyter_magics.py?line=25'>26</a>\u001b[0m \u001b[39mexcept\u001b[39;00m \u001b[39mImportError\u001b[39;00m \u001b[39mas\u001b[39;00m ex:\n\u001b[0;32m---> <a href='file:///Users/wenyers/code/NYUAD-2022/venv/lib/python3.9/site-packages/qiskit/tools/jupyter/jupyter_magics.py?line=26'>27</a>\u001b[0m     \u001b[39mraise\u001b[39;00m MissingOptionalLibraryError(\n\u001b[1;32m     <a href='file:///Users/wenyers/code/NYUAD-2022/venv/lib/python3.9/site-packages/qiskit/tools/jupyter/jupyter_magics.py?line=27'>28</a>\u001b[0m         libname\u001b[39m=\u001b[39m\u001b[39m\"\u001b[39m\u001b[39mipywidgets\u001b[39m\u001b[39m\"\u001b[39m,\n\u001b[1;32m     <a href='file:///Users/wenyers/code/NYUAD-2022/venv/lib/python3.9/site-packages/qiskit/tools/jupyter/jupyter_magics.py?line=28'>29</a>\u001b[0m         name\u001b[39m=\u001b[39m\u001b[39m\"\u001b[39m\u001b[39mjupyter magics\u001b[39m\u001b[39m\"\u001b[39m,\n\u001b[1;32m     <a href='file:///Users/wenyers/code/NYUAD-2022/venv/lib/python3.9/site-packages/qiskit/tools/jupyter/jupyter_magics.py?line=29'>30</a>\u001b[0m         pip_install\u001b[39m=\u001b[39m\u001b[39m\"\u001b[39m\u001b[39mpip install ipywidgets\u001b[39m\u001b[39m\"\u001b[39m,\n\u001b[1;32m     <a href='file:///Users/wenyers/code/NYUAD-2022/venv/lib/python3.9/site-packages/qiskit/tools/jupyter/jupyter_magics.py?line=30'>31</a>\u001b[0m     ) \u001b[39mfrom\u001b[39;00m \u001b[39mex\u001b[39;00m\n\u001b[1;32m     <a href='file:///Users/wenyers/code/NYUAD-2022/venv/lib/python3.9/site-packages/qiskit/tools/jupyter/jupyter_magics.py?line=31'>32</a>\u001b[0m \u001b[39mimport\u001b[39;00m qiskit\n\u001b[1;32m     <a href='file:///Users/wenyers/code/NYUAD-2022/venv/lib/python3.9/site-packages/qiskit/tools/jupyter/jupyter_magics.py?line=32'>33</a>\u001b[0m \u001b[39mfrom\u001b[39;00m \u001b[39mqiskit\u001b[39;00m\u001b[39m.\u001b[39;00m\u001b[39mvisualization\u001b[39;00m\u001b[39m.\u001b[39;00m\u001b[39mmatplotlib\u001b[39;00m \u001b[39mimport\u001b[39;00m HAS_MATPLOTLIB\n",
      "\u001b[0;31mMissingOptionalLibraryError\u001b[0m: \"The 'ipywidgets' library is required to use 'jupyter magics'. You can install it with 'pip install ipywidgets'.\""
     ]
    }
   ],
   "source": [
    "# Importing standard Qiskit libraries\n",
    "from qiskit import QuantumCircuit, transpile, Aer, IBMQ\n",
    "from qiskit.tools.jupyter import *\n",
    "from qiskit.visualization import *\n",
    "from qiskit.providers.aer import QasmSimulator"
   ]
  },
  {
   "cell_type": "code",
   "execution_count": 7,
   "id": "c00c95a5-cd82-4b5d-b7e8-48de098ca89b",
   "metadata": {},
   "outputs": [],
   "source": [
    "import numpy as np\n",
    "from math import pi, sqrt\n",
    "import random"
   ]
  },
  {
   "cell_type": "code",
   "execution_count": null,
   "id": "2b006686-e4ef-45db-adaf-47a4b6644680",
   "metadata": {},
   "outputs": [],
   "source": [
    "# PARAMETERS\n",
    "\n",
    "# the basis gates\n",
    "basis_gates = ['id', 'rz', 'sx', 'x', 'cx']\n",
    "\n",
    "#creating the gate statistics list\n",
    "gate_stats = []\n",
    "\n",
    "#number of qbits being controlled\n",
    "ctrl_qbits = 0\n",
    "\n",
    "# optimization level\n",
    "optimization_lv = 3"
   ]
  },
  {
   "cell_type": "code",
   "execution_count": null,
   "id": "97fd2d34-1730-4c05-a112-996a75bfa115",
   "metadata": {},
   "outputs": [],
   "source": [
    "# single qubit gates with no parameters\n",
    "single_qubit_gates_no_params = [\"i\",\"x\",\"y\",\"z\",\"h\",\"s\",\"sdg\",\"t\",\"tdg\",\"sx\",\"sxdg\"]\n",
    "\n",
    "for gate in single_qubit_gates_no_params:\n",
    "    circuit = QuantumCircuit(1)\n",
    "    getattr(circuit, gate)(0)\n",
    "    transpile_circuit = transpile(circuit, basis_gates = basis_gates, optimization_level = optimization_lv)\n",
    "    gate_stats.append([gate, ctrl_qbits, transpile_circuit.size()])"
   ]
  },
  {
   "cell_type": "code",
   "execution_count": null,
   "id": "77acd4e3-e351-40bd-9154-cd89ca92d5cd",
   "metadata": {},
   "outputs": [],
   "source": [
    "# single qubit gates with 1 parameter\n",
    "single_qubit_gates_1_params = [\"p\",\"rx\",\"ry\",\"rz\"]\n",
    "\n",
    "for gate in single_qubit_gates_1_params:\n",
    "    param = random.uniform(-np.pi, np.pi)\n",
    "    circuit = QuantumCircuit(1)\n",
    "    getattr(circuit, gate)(param,0)\n",
    "    transpile_circuit = transpile(circuit, basis_gates = basis_gates, optimization_level = optimization_lv)\n",
    "    gate_stats.append([gate,ctrl_qbits, transpile_circuit.size()])"
   ]
  },
  {
   "cell_type": "code",
   "execution_count": null,
   "id": "bfa05255-0503-437f-b690-7919e2295ac9",
   "metadata": {},
   "outputs": [
    {
     "name": "stderr",
     "output_type": "stream",
     "text": [
      "/tmp/ipykernel_380/770357674.py:8: DeprecationWarning: The QuantumCircuit.u2 method is deprecated as of 0.16.0. It will be removed no earlier than 3 months after the release date. You can use the general 1-qubit gate QuantumCircuit.u instead: u2(φ,λ) = u(π/2, φ, λ). Alternatively, you can decompose it interms of QuantumCircuit.p and QuantumCircuit.sx: u2(φ,λ) = p(π/2+φ) sx p(λ-π/2) (1 pulse on hardware).\n",
      "  getattr(circuit, gate)(rand_angle1, rand_angle2, 0)\n"
     ]
    }
   ],
   "source": [
    "# single qubit gates with 2 parameters\n",
    "single_qubit_gates_2_params = [\"u2\"]\n",
    "\n",
    "for gate in single_qubit_gates_2_params:\n",
    "    circuit = QuantumCircuit(1)\n",
    "    rand_angle1 = random.uniform(-np.pi, np.pi)\n",
    "    rand_angle2 = random.uniform(-np.pi, np.pi)\n",
    "    getattr(circuit, gate)(rand_angle1, rand_angle2, 0)\n",
    "    transpile_circuit = transpile(circuit, basis_gates = basis_gates, optimization_level = optimization_lv)\n",
    "    gate_stats.append([gate,ctrl_qbits, transpile_circuit.size()])"
   ]
  },
  {
   "cell_type": "code",
   "execution_count": null,
   "id": "6d07683a-1ef1-4dfb-abfa-f0e0fbaf080c",
   "metadata": {},
   "outputs": [
    {
     "name": "stderr",
     "output_type": "stream",
     "text": [
      "/tmp/ipykernel_380/3616519133.py:9: DeprecationWarning: The QuantumCircuit.u3 method is deprecated as of 0.16.0. It will be removed no earlier than 3 months after the release date. You should use QuantumCircuit.u instead, which acts identically. Alternatively, you can decompose u3 in terms of QuantumCircuit.p and QuantumCircuit.sx: u3(ϴ,φ,λ) = p(φ+π) sx p(ϴ+π) sx p(λ) (2 pulses on hardware).\n",
      "  getattr(circuit, gate)(rand_angle1, rand_angle2, rand_angle3, 0)\n"
     ]
    }
   ],
   "source": [
    "# single qubit gates with 3 parameters\n",
    "single_qubit_gates_3_params = [\"u\", \"u3\"]\n",
    "\n",
    "for gate in single_qubit_gates_3_params:\n",
    "    circuit = QuantumCircuit(1)\n",
    "    rand_angle1 = random.uniform(-pi, pi)\n",
    "    rand_angle2 = random.uniform(-pi, pi)\n",
    "    rand_angle3 = random.uniform(-pi, pi)\n",
    "    getattr(circuit, gate)(rand_angle1, rand_angle2, rand_angle3, 0)\n",
    "    transpile_circuit = transpile(circuit, basis_gates = basis_gates, optimization_level = optimization_lv)\n",
    "    gate_stats.append([gate,ctrl_qbits, transpile_circuit.size()])"
   ]
  },
  {
   "cell_type": "code",
   "execution_count": null,
   "id": "be329131-d200-4893-944f-364c1585c368",
   "metadata": {},
   "outputs": [
    {
     "data": {
      "text/plain": [
       "[['i', 0, 0],\n",
       " ['x', 0, 1],\n",
       " ['y', 0, 2],\n",
       " ['z', 0, 1],\n",
       " ['h', 0, 3],\n",
       " ['s', 0, 1],\n",
       " ['sdg', 0, 1],\n",
       " ['t', 0, 1],\n",
       " ['tdg', 0, 1],\n",
       " ['sx', 0, 1],\n",
       " ['sxdg', 0, 3],\n",
       " ['p', 0, 1],\n",
       " ['rx', 0, 5],\n",
       " ['ry', 0, 4],\n",
       " ['rz', 0, 1],\n",
       " ['u2', 0, 3],\n",
       " ['u', 0, 5],\n",
       " ['u3', 0, 5]]"
      ]
     },
     "execution_count": 9,
     "metadata": {},
     "output_type": "execute_result"
    }
   ],
   "source": [
    "gate_stats"
   ]
  },
  {
   "cell_type": "code",
   "execution_count": null,
   "id": "bca86fa9-b855-4cf7-a835-bcc4b87078f1",
   "metadata": {},
   "outputs": [],
   "source": [
    "# creating a text file to store the gate stats(profiles)\n",
    "import os\n",
    "cd = os.getcwd()"
   ]
  },
  {
   "cell_type": "code",
   "execution_count": null,
   "id": "1858e0ad-c31f-4e43-bde5-0a572a10ec26",
   "metadata": {},
   "outputs": [],
   "source": [
    "# writing the profiles to text file\n",
    "f = open(\"gate_stats\" + \"_op_lv_\" + str(optimization_lv) + \".txt\", \"a\")\n",
    "for i in np.arange(len(gate_stats)):\n",
    "    f.writelines([gate_stats[i][0], \" \", str(gate_stats[i][1]), \" \", str(gate_stats[i][2])])\n",
    "    f.writelines(['\\n'])\n",
    "f.close()"
   ]
  },
  {
   "cell_type": "code",
   "execution_count": 12,
   "id": "1fdf0b2a",
   "metadata": {},
   "outputs": [
    {
     "ename": "NameError",
     "evalue": "name 'basis_gates' is not defined",
     "output_type": "error",
     "traceback": [
      "\u001b[0;31m---------------------------------------------------------------------------\u001b[0m",
      "\u001b[0;31mNameError\u001b[0m                                 Traceback (most recent call last)",
      "\u001b[1;32m/Users/wenyers/code/NYUAD-2022/team18/qubit_decomposition.ipynb Cell 12'\u001b[0m in \u001b[0;36m<cell line: 74>\u001b[0;34m()\u001b[0m\n\u001b[1;32m     <a href='vscode-notebook-cell:/Users/wenyers/code/NYUAD-2022/team18/qubit_decomposition.ipynb#ch0000011?line=69'>70</a>\u001b[0m             transpiled_circuit \u001b[39m=\u001b[39m transpile(circuit, basis_gates \u001b[39m=\u001b[39m basis_gates)\n\u001b[1;32m     <a href='vscode-notebook-cell:/Users/wenyers/code/NYUAD-2022/team18/qubit_decomposition.ipynb#ch0000011?line=71'>72</a>\u001b[0m             \u001b[39mprint\u001b[39m(gate, controls, transpiled_circuit\u001b[39m.\u001b[39msize())\n\u001b[0;32m---> <a href='vscode-notebook-cell:/Users/wenyers/code/NYUAD-2022/team18/qubit_decomposition.ipynb#ch0000011?line=73'>74</a>\u001b[0m create_lookup_table(single_qubit_gates_no_params, \u001b[39m1\u001b[39;49m, \u001b[39m0\u001b[39;49m, \u001b[39m5\u001b[39;49m)\n",
      "\u001b[1;32m/Users/wenyers/code/NYUAD-2022/team18/qubit_decomposition.ipynb Cell 12'\u001b[0m in \u001b[0;36mcreate_lookup_table\u001b[0;34m(gates, number_qubits, number_params, max_controls)\u001b[0m\n\u001b[1;32m     <a href='vscode-notebook-cell:/Users/wenyers/code/NYUAD-2022/team18/qubit_decomposition.ipynb#ch0000011?line=66'>67</a>\u001b[0m     circuit \u001b[39m=\u001b[39m circuit_with_controls\n\u001b[1;32m     <a href='vscode-notebook-cell:/Users/wenyers/code/NYUAD-2022/team18/qubit_decomposition.ipynb#ch0000011?line=68'>69</a>\u001b[0m \u001b[39m# transpile the circuit\u001b[39;00m\n\u001b[0;32m---> <a href='vscode-notebook-cell:/Users/wenyers/code/NYUAD-2022/team18/qubit_decomposition.ipynb#ch0000011?line=69'>70</a>\u001b[0m transpiled_circuit \u001b[39m=\u001b[39m transpile(circuit, basis_gates \u001b[39m=\u001b[39m basis_gates)\n\u001b[1;32m     <a href='vscode-notebook-cell:/Users/wenyers/code/NYUAD-2022/team18/qubit_decomposition.ipynb#ch0000011?line=71'>72</a>\u001b[0m \u001b[39mprint\u001b[39m(gate, controls, transpiled_circuit\u001b[39m.\u001b[39msize())\n",
      "\u001b[0;31mNameError\u001b[0m: name 'basis_gates' is not defined"
     ]
    }
   ],
   "source": [
    "# single qubit gates with no parameters\n",
    "single_qubit_gates_no_params = [\"x\",\"y\",\"z\",\"h\",\"s\",\"sdg\",\"t\",\"tdg\",\"sx\",\"sxdg\"]\n",
    "\n",
    "# single qubit gates with no parameters\n",
    "single_qubit_gates_1_params = [\"p\",\"rx\",\"ry\",\"rz\"]\n",
    "\n",
    "# single qubit gates with 2 parameters\n",
    "single_qubit_gates_2_params = [\"u2\"]\n",
    "\n",
    "# single qubit gates with 3 parameters\n",
    "single_qubit_gates_3_params = [\"u\", \"u3\"]\n",
    "\n",
    "# single qubit gates with 3 parameters\n",
    "two_qubit_gates = [\"swap\", \"iswap\"]\n",
    "\n",
    "# create gate (with params) and return it\n",
    "def create_gate_with_params(circuit, gate, number_qubits, number_params):\n",
    "    if number_qubits == 1:\n",
    "        param_list = []\n",
    "\n",
    "        for i in range(number_params):\n",
    "            param_list.append(random.uniform(-np.pi, np.pi))\n",
    "\n",
    "        getattr(circuit, gate)(*param_list, 0)\n",
    "    elif number_qubits == 2:\n",
    "        getattr(circuit, gate)(0, 1)\n",
    "\n",
    "    return circuit\n",
    "\n",
    "# return gate with number of controls\n",
    "def create_controlled_gate(circuit, controls, number_qubits):\n",
    "    # convert circuit to gate and add number of controls\n",
    "    custom_circuit = circuit.to_gate().control(controls)\n",
    "\n",
    "    # create new circuit with number of qubits for gate + for controls\n",
    "    circuit_with_controls = QuantumCircuit(controls + number_qubits)\n",
    "\n",
    "    # append gate with controls to circuit with controls\n",
    "    # second argument is a range for number of controls\n",
    "    circuit_with_controls.append(custom_circuit, range(controls + number_qubits))\n",
    "    \n",
    "    return circuit_with_controls\n",
    "\n",
    "\n",
    "# create look up table for set of gates\n",
    "# with different amounts of controls\n",
    "def create_lookup_table(gates, number_qubits, number_params, max_controls):\n",
    "    \n",
    "    # iterate through each gate\n",
    "    for gate in gates:\n",
    "        \n",
    "        # create circuit with all amount of controls\n",
    "        for controls in range(0, max_controls + 1):\n",
    "            \n",
    "            # create single qubit circuit\n",
    "            circuit = QuantumCircuit(number_qubits)\n",
    "\n",
    "            # create gate with its params\n",
    "            circuit = create_gate_with_params(circuit, gate, number_qubits, number_params)\n",
    "        \n",
    "            # if there are controls,\n",
    "            # create circuit with controls\n",
    "            if controls != 0:\n",
    "                circuit_with_controls = create_controlled_gate(circuit, controls, number_qubits)\n",
    "                \n",
    "                # set circuit that will be transpiled to the circuit with controls\n",
    "                circuit = circuit_with_controls\n",
    "                \n",
    "            # transpile the circuit\n",
    "            transpiled_circuit = transpile(circuit, basis_gates = basis_gates)\n",
    "            \n",
    "            print(gate, controls, transpiled_circuit.size())\n",
    "            \n",
    "create_lookup_table(single_qubit_gates_no_params, 1, 0, 5)\n",
    "#create_lookup_table(single_qubit_gates_1_params, 1, 1, 5)\n",
    "#create_lookup_table(single_qubit_gates_2_params, 1, 2, 5)\n",
    "#create_lookup_table(single_qubit_gates_3_params, 1, 3, 5)\n",
    "#create_lookup_table(two_qubit_gates, 2, 0, 5)"
   ]
  },
  {
   "cell_type": "code",
   "execution_count": null,
   "id": "3e8d4fe3-1739-4b2f-9701-1a56e3ad7da2",
   "metadata": {},
   "outputs": [],
   "source": []
  }
 ],
 "metadata": {
  "kernelspec": {
   "display_name": "Qiskit v0.34.2 (ipykernel)",
   "language": "python",
   "name": "python3"
  },
  "language_info": {
   "codemirror_mode": {
    "name": "ipython",
    "version": 3
   },
   "file_extension": ".py",
   "mimetype": "text/x-python",
   "name": "python",
   "nbconvert_exporter": "python",
   "pygments_lexer": "ipython3",
   "version": "3.9.6"
  },
  "widgets": {
   "application/vnd.jupyter.widget-state+json": {
    "state": {
     "05329c2700b441db80cc55a2ec3d8002": {
      "model_module": "@jupyter-widgets/controls",
      "model_module_version": "1.5.0",
      "model_name": "GridBoxModel",
      "state": {
       "children": [
        "IPY_MODEL_307227ebc51348dd81fddc171b15211e"
       ],
       "layout": "IPY_MODEL_abdafae40ab6470697517fd515cc7efe"
      }
     },
     "0b1cbcb012334ece8748a92f66c82cd3": {
      "model_module": "@jupyter-widgets/controls",
      "model_module_version": "1.5.0",
      "model_name": "DescriptionStyleModel",
      "state": {
       "description_width": ""
      }
     },
     "1f45b5fd4a2340c0aad19ac0f5478e16": {
      "model_module": "@jupyter-widgets/base",
      "model_module_version": "1.2.0",
      "model_name": "LayoutModel",
      "state": {
       "width": "145px"
      }
     },
     "2dba7c31190d4e5abb7bbd7a34a4094f": {
      "model_module": "@jupyter-widgets/base",
      "model_module_version": "1.2.0",
      "model_name": "LayoutModel",
      "state": {
       "width": "95px"
      }
     },
     "307227ebc51348dd81fddc171b15211e": {
      "model_module": "@jupyter-widgets/controls",
      "model_module_version": "1.5.0",
      "model_name": "ButtonModel",
      "state": {
       "button_style": "primary",
       "description": "Clear",
       "layout": "IPY_MODEL_5e1e4fa3dd6443c79ed741373757d772",
       "style": "IPY_MODEL_6b79f0f346a54cab8ee0cfcc2073de2d"
      }
     },
     "39f8d761d97a419599c8152470f91477": {
      "model_module": "@jupyter-widgets/controls",
      "model_module_version": "1.5.0",
      "model_name": "HTMLModel",
      "state": {
       "layout": "IPY_MODEL_1f45b5fd4a2340c0aad19ac0f5478e16",
       "style": "IPY_MODEL_d496ad0e5cd24187b2fc7bddd6a94fb8",
       "value": "<h5>Backend</h5>"
      }
     },
     "4c65b2f060954ca198163ab7963207b6": {
      "model_module": "@jupyter-widgets/base",
      "model_module_version": "1.2.0",
      "model_name": "LayoutModel",
      "state": {}
     },
     "5e1e4fa3dd6443c79ed741373757d772": {
      "model_module": "@jupyter-widgets/base",
      "model_module_version": "1.2.0",
      "model_name": "LayoutModel",
      "state": {
       "grid_area": "right",
       "padding": "0px 0px 0px 0px",
       "width": "70px"
      }
     },
     "6b79f0f346a54cab8ee0cfcc2073de2d": {
      "model_module": "@jupyter-widgets/controls",
      "model_module_version": "1.5.0",
      "model_name": "ButtonStyleModel",
      "state": {}
     },
     "6dfbbdacb3c543b596ae09dde4a8be9a": {
      "model_module": "@jupyter-widgets/controls",
      "model_module_version": "1.5.0",
      "model_name": "HBoxModel",
      "state": {
       "children": [
        "IPY_MODEL_8463c3acfe894c2091d0a3cc5af93e6d",
        "IPY_MODEL_39f8d761d97a419599c8152470f91477",
        "IPY_MODEL_f787ca479781477896b82d0c29ee80bf",
        "IPY_MODEL_702e63b690e14e08b7645e8c6adfa434",
        "IPY_MODEL_8cd51b9d31c14db0a11bab98ec73aea8"
       ],
       "layout": "IPY_MODEL_7cd3f5b019c140abb0988500377fbe4d"
      }
     },
     "702e63b690e14e08b7645e8c6adfa434": {
      "model_module": "@jupyter-widgets/controls",
      "model_module_version": "1.5.0",
      "model_name": "HTMLModel",
      "state": {
       "layout": "IPY_MODEL_c7c92f6a895d471d88b6420cca0c2faa",
       "style": "IPY_MODEL_76fadff16c0549ada1e17cd61aba53fc",
       "value": "<h5>Queue</h5>"
      }
     },
     "76fadff16c0549ada1e17cd61aba53fc": {
      "model_module": "@jupyter-widgets/controls",
      "model_module_version": "1.5.0",
      "model_name": "DescriptionStyleModel",
      "state": {
       "description_width": ""
      }
     },
     "7cd3f5b019c140abb0988500377fbe4d": {
      "model_module": "@jupyter-widgets/base",
      "model_module_version": "1.2.0",
      "model_name": "LayoutModel",
      "state": {
       "margin": "0px 0px 0px 37px",
       "width": "600px"
      }
     },
     "8463c3acfe894c2091d0a3cc5af93e6d": {
      "model_module": "@jupyter-widgets/controls",
      "model_module_version": "1.5.0",
      "model_name": "HTMLModel",
      "state": {
       "layout": "IPY_MODEL_d4f157de9ca84b24aba45a3d0b899e14",
       "style": "IPY_MODEL_99367511e44646f789dcb98b94dce2ea",
       "value": "<h5>Job ID</h5>"
      }
     },
     "8cd51b9d31c14db0a11bab98ec73aea8": {
      "model_module": "@jupyter-widgets/controls",
      "model_module_version": "1.5.0",
      "model_name": "HTMLModel",
      "state": {
       "layout": "IPY_MODEL_4c65b2f060954ca198163ab7963207b6",
       "style": "IPY_MODEL_0b1cbcb012334ece8748a92f66c82cd3",
       "value": "<h5>Message</h5>"
      }
     },
     "99367511e44646f789dcb98b94dce2ea": {
      "model_module": "@jupyter-widgets/controls",
      "model_module_version": "1.5.0",
      "model_name": "DescriptionStyleModel",
      "state": {
       "description_width": ""
      }
     },
     "9f499e95577c441d86c76a8a768c14df": {
      "model_module": "@jupyter-widgets/controls",
      "model_module_version": "1.5.0",
      "model_name": "HTMLModel",
      "state": {
       "layout": "IPY_MODEL_cfbac7509ea2493da44b11e53248b4a6",
       "style": "IPY_MODEL_b1ebcbc190dd4ea7a932f33e7b72ca0f",
       "value": "<p style='font-family: IBM Plex Sans, Arial, Helvetica, sans-serif; font-size: 20px; font-weight: medium;'>Circuit Properties</p>"
      }
     },
     "a2d0d60bb2d64c27825976d4d63ba14c": {
      "model_module": "@jupyter-widgets/controls",
      "model_module_version": "1.5.0",
      "model_name": "DescriptionStyleModel",
      "state": {
       "description_width": ""
      }
     },
     "abdafae40ab6470697517fd515cc7efe": {
      "model_module": "@jupyter-widgets/base",
      "model_module_version": "1.2.0",
      "model_name": "LayoutModel",
      "state": {
       "grid_template_areas": "\n                                       \". . . . right \"\n                                        ",
       "grid_template_columns": "20% 20% 20% 20% 20%",
       "width": "100%"
      }
     },
     "b1ebcbc190dd4ea7a932f33e7b72ca0f": {
      "model_module": "@jupyter-widgets/controls",
      "model_module_version": "1.5.0",
      "model_name": "DescriptionStyleModel",
      "state": {
       "description_width": ""
      }
     },
     "c7c92f6a895d471d88b6420cca0c2faa": {
      "model_module": "@jupyter-widgets/base",
      "model_module_version": "1.2.0",
      "model_name": "LayoutModel",
      "state": {
       "width": "70px"
      }
     },
     "cfbac7509ea2493da44b11e53248b4a6": {
      "model_module": "@jupyter-widgets/base",
      "model_module_version": "1.2.0",
      "model_name": "LayoutModel",
      "state": {
       "margin": "0px 0px 10px 0px"
      }
     },
     "d496ad0e5cd24187b2fc7bddd6a94fb8": {
      "model_module": "@jupyter-widgets/controls",
      "model_module_version": "1.5.0",
      "model_name": "DescriptionStyleModel",
      "state": {
       "description_width": ""
      }
     },
     "d4f157de9ca84b24aba45a3d0b899e14": {
      "model_module": "@jupyter-widgets/base",
      "model_module_version": "1.2.0",
      "model_name": "LayoutModel",
      "state": {
       "width": "190px"
      }
     },
     "f787ca479781477896b82d0c29ee80bf": {
      "model_module": "@jupyter-widgets/controls",
      "model_module_version": "1.5.0",
      "model_name": "HTMLModel",
      "state": {
       "layout": "IPY_MODEL_2dba7c31190d4e5abb7bbd7a34a4094f",
       "style": "IPY_MODEL_a2d0d60bb2d64c27825976d4d63ba14c",
       "value": "<h5>Status</h5>"
      }
     }
    },
    "version_major": 2,
    "version_minor": 0
   }
  }
 },
 "nbformat": 4,
 "nbformat_minor": 5
}
