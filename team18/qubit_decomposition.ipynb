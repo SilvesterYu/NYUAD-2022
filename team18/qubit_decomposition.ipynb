{
 "cells": [
  {
   "cell_type": "code",
   "execution_count": 1,
   "id": "b042851c",
   "metadata": {},
   "outputs": [
    {
     "name": "stdout",
     "output_type": "stream",
     "text": [
      "Requirement already satisfied: qiskit in /opt/conda/lib/python3.8/site-packages (0.34.2)\n",
      "Requirement already satisfied: qiskit-aer==0.10.3 in /opt/conda/lib/python3.8/site-packages (from qiskit) (0.10.3)\n",
      "Requirement already satisfied: qiskit-ignis==0.7.0 in /opt/conda/lib/python3.8/site-packages (from qiskit) (0.7.0)\n",
      "Requirement already satisfied: qiskit-terra==0.19.2 in /opt/conda/lib/python3.8/site-packages (from qiskit) (0.19.2)\n",
      "Requirement already satisfied: qiskit-ibmq-provider==0.18.3 in /opt/conda/lib/python3.8/site-packages (from qiskit) (0.18.3)\n",
      "Requirement already satisfied: scipy>=1.0 in /opt/conda/lib/python3.8/site-packages (from qiskit-aer==0.10.3->qiskit) (1.8.0)\n",
      "Requirement already satisfied: numpy>=1.16.3 in /opt/conda/lib/python3.8/site-packages (from qiskit-aer==0.10.3->qiskit) (1.22.3)\n",
      "Requirement already satisfied: websocket-client>=1.0.1 in /opt/conda/lib/python3.8/site-packages (from qiskit-ibmq-provider==0.18.3->qiskit) (1.3.1)\n",
      "Requirement already satisfied: requests-ntlm>=1.1.0 in /opt/conda/lib/python3.8/site-packages (from qiskit-ibmq-provider==0.18.3->qiskit) (1.1.0)\n",
      "Requirement already satisfied: requests>=2.19 in /opt/conda/lib/python3.8/site-packages (from qiskit-ibmq-provider==0.18.3->qiskit) (2.27.1)\n",
      "Requirement already satisfied: python-dateutil>=2.8.0 in /opt/conda/lib/python3.8/site-packages (from qiskit-ibmq-provider==0.18.3->qiskit) (2.8.2)\n",
      "Requirement already satisfied: urllib3>=1.21.1 in /opt/conda/lib/python3.8/site-packages (from qiskit-ibmq-provider==0.18.3->qiskit) (1.26.8)\n",
      "Requirement already satisfied: retworkx>=0.8.0 in /opt/conda/lib/python3.8/site-packages (from qiskit-ignis==0.7.0->qiskit) (0.11.0)\n",
      "Requirement already satisfied: setuptools>=40.1.0 in /opt/conda/lib/python3.8/site-packages (from qiskit-ignis==0.7.0->qiskit) (60.9.3)\n",
      "Requirement already satisfied: stevedore>=3.0.0 in /opt/conda/lib/python3.8/site-packages (from qiskit-terra==0.19.2->qiskit) (3.5.0)\n",
      "Requirement already satisfied: psutil>=5 in /opt/conda/lib/python3.8/site-packages (from qiskit-terra==0.19.2->qiskit) (5.9.0)\n",
      "Requirement already satisfied: dill>=0.3 in /opt/conda/lib/python3.8/site-packages (from qiskit-terra==0.19.2->qiskit) (0.3.4)\n",
      "Requirement already satisfied: sympy>=1.3 in /opt/conda/lib/python3.8/site-packages (from qiskit-terra==0.19.2->qiskit) (1.10)\n",
      "Requirement already satisfied: symengine>=0.8 in /opt/conda/lib/python3.8/site-packages (from qiskit-terra==0.19.2->qiskit) (0.9.2)\n",
      "Requirement already satisfied: python-constraint>=1.4 in /opt/conda/lib/python3.8/site-packages (from qiskit-terra==0.19.2->qiskit) (1.4.0)\n",
      "Requirement already satisfied: ply>=3.10 in /opt/conda/lib/python3.8/site-packages (from qiskit-terra==0.19.2->qiskit) (3.11)\n",
      "Requirement already satisfied: tweedledum<2.0,>=1.1 in /opt/conda/lib/python3.8/site-packages (from qiskit-terra==0.19.2->qiskit) (1.1.1)\n",
      "Requirement already satisfied: six>=1.5 in /opt/conda/lib/python3.8/site-packages (from python-dateutil>=2.8.0->qiskit-ibmq-provider==0.18.3->qiskit) (1.16.0)\n",
      "Requirement already satisfied: idna<4,>=2.5 in /opt/conda/lib/python3.8/site-packages (from requests>=2.19->qiskit-ibmq-provider==0.18.3->qiskit) (3.3)\n",
      "Requirement already satisfied: charset-normalizer~=2.0.0 in /opt/conda/lib/python3.8/site-packages (from requests>=2.19->qiskit-ibmq-provider==0.18.3->qiskit) (2.0.12)\n",
      "Requirement already satisfied: certifi>=2017.4.17 in /opt/conda/lib/python3.8/site-packages (from requests>=2.19->qiskit-ibmq-provider==0.18.3->qiskit) (2021.10.8)\n",
      "Requirement already satisfied: ntlm-auth>=1.0.2 in /opt/conda/lib/python3.8/site-packages (from requests-ntlm>=1.1.0->qiskit-ibmq-provider==0.18.3->qiskit) (1.5.0)\n",
      "Requirement already satisfied: cryptography>=1.3 in /opt/conda/lib/python3.8/site-packages (from requests-ntlm>=1.1.0->qiskit-ibmq-provider==0.18.3->qiskit) (36.0.1)\n",
      "Requirement already satisfied: cffi>=1.12 in /opt/conda/lib/python3.8/site-packages (from cryptography>=1.3->requests-ntlm>=1.1.0->qiskit-ibmq-provider==0.18.3->qiskit) (1.15.0)\n",
      "Requirement already satisfied: pycparser in /opt/conda/lib/python3.8/site-packages (from cffi>=1.12->cryptography>=1.3->requests-ntlm>=1.1.0->qiskit-ibmq-provider==0.18.3->qiskit) (2.21)\n",
      "Requirement already satisfied: pbr!=2.1.0,>=2.0.0 in /opt/conda/lib/python3.8/site-packages (from stevedore>=3.0.0->qiskit-terra==0.19.2->qiskit) (5.8.1)\n",
      "Requirement already satisfied: mpmath>=0.19 in /opt/conda/lib/python3.8/site-packages (from sympy>=1.3->qiskit-terra==0.19.2->qiskit) (1.2.1)\n"
     ]
    }
   ],
   "source": [
    "!pip install qiskit"
   ]
  },
  {
   "cell_type": "code",
   "execution_count": 2,
   "id": "40cab1c5-2a6c-495d-8a9d-8fca1a739f12",
   "metadata": {},
   "outputs": [
    {
     "name": "stderr",
     "output_type": "stream",
     "text": [
      "<frozen importlib._bootstrap>:219: RuntimeWarning: scipy._lib.messagestream.MessageStream size changed, may indicate binary incompatibility. Expected 56 from C header, got 64 from PyObject\n"
     ]
    }
   ],
   "source": [
    "# Importing standard Qiskit libraries\n",
    "from qiskit import QuantumCircuit, transpile, Aer, IBMQ\n",
    "from qiskit.tools.jupyter import *\n",
    "from qiskit.visualization import *\n",
    "from qiskit.providers.aer import QasmSimulator"
   ]
  },
  {
   "cell_type": "code",
   "execution_count": 3,
   "id": "c00c95a5-cd82-4b5d-b7e8-48de098ca89b",
   "metadata": {},
   "outputs": [],
   "source": [
    "import numpy as np\n",
    "from math import pi, sqrt\n",
    "import random"
   ]
  },
  {
   "cell_type": "code",
   "execution_count": 4,
   "id": "2b006686-e4ef-45db-adaf-47a4b6644680",
   "metadata": {},
   "outputs": [],
   "source": [
    "# PARAMETERS\n",
    "\n",
    "# the basis gates\n",
    "basis_g = ['id', 'rz', 'sx', 'x', 'cx']\n",
    "\n",
    "#creating the gate statistics list\n",
    "gate_stats = []\n",
    "\n",
    "#number of qbits being controlled\n",
    "ctrl_qbits = 0\n",
    "\n",
    "# optimization level\n",
    "optimization_lv = 3"
   ]
  },
  {
   "cell_type": "code",
   "execution_count": 5,
   "id": "97fd2d34-1730-4c05-a112-996a75bfa115",
   "metadata": {},
   "outputs": [],
   "source": [
    "# single qubit gates with no parameters\n",
    "sgle_noparam = [\"i\",\"x\",\"y\",\"z\",\"h\",\"s\",\"sdg\",\"t\",\"tdg\",\"sx\",\"sxdg\"]\n",
    "\n",
    "for gate in sgle_noparam:\n",
    "    circuit = QuantumCircuit(1)\n",
    "    getattr(circuit, gate)(0)\n",
    "    transpile_circuit = transpile(circuit, basis_gates = basis_g, optimization_level = optimization_lv)\n",
    "    gate_stats.append([gate, ctrl_qbits, transpile_circuit.size()])"
   ]
  },
  {
   "cell_type": "code",
   "execution_count": 6,
   "id": "77acd4e3-e351-40bd-9154-cd89ca92d5cd",
   "metadata": {},
   "outputs": [],
   "source": [
    "# single qubit gates with 1 parameter\n",
    "sgle_1_param = [\"p\",\"rx\",\"ry\",\"rz\"]\n",
    "\n",
    "for gate in sgle_1_param:\n",
    "    param = random.uniform(-np.pi, np.pi)\n",
    "    circuit = QuantumCircuit(1)\n",
    "    getattr(circuit, gate)(param,0)\n",
    "    transpile_circuit = transpile(circuit, basis_gates = basis_g, optimization_level = optimization_lv)\n",
    "    gate_stats.append([gate,ctrl_qbits, transpile_circuit.size()])"
   ]
  },
  {
   "cell_type": "code",
   "execution_count": 7,
   "id": "bfa05255-0503-437f-b690-7919e2295ac9",
   "metadata": {},
   "outputs": [
    {
     "name": "stderr",
     "output_type": "stream",
     "text": [
      "/tmp/ipykernel_275/441393940.py:8: DeprecationWarning: The QuantumCircuit.u2 method is deprecated as of 0.16.0. It will be removed no earlier than 3 months after the release date. You can use the general 1-qubit gate QuantumCircuit.u instead: u2(φ,λ) = u(π/2, φ, λ). Alternatively, you can decompose it interms of QuantumCircuit.p and QuantumCircuit.sx: u2(φ,λ) = p(π/2+φ) sx p(λ-π/2) (1 pulse on hardware).\n",
      "  getattr(circuit, gate)(rand_angle1, rand_angle2, 0)\n"
     ]
    }
   ],
   "source": [
    "# single qubit gates with 2 parameters\n",
    "single_2_param = [\"u2\"]\n",
    "\n",
    "for gate in single_2_param:\n",
    "    circuit = QuantumCircuit(1)\n",
    "    rand_angle1 = random.uniform(-np.pi, np.pi)\n",
    "    rand_angle2 = random.uniform(-np.pi, np.pi)\n",
    "    getattr(circuit, gate)(rand_angle1, rand_angle2, 0)\n",
    "    transpile_circuit = transpile(circuit, basis_gates = basis_g, optimization_level = optimization_lv)\n",
    "    gate_stats.append([gate,ctrl_qbits, transpile_circuit.size()])"
   ]
  },
  {
   "cell_type": "code",
   "execution_count": 8,
   "id": "6d07683a-1ef1-4dfb-abfa-f0e0fbaf080c",
   "metadata": {},
   "outputs": [
    {
     "name": "stderr",
     "output_type": "stream",
     "text": [
      "/tmp/ipykernel_275/41438004.py:9: DeprecationWarning: The QuantumCircuit.u3 method is deprecated as of 0.16.0. It will be removed no earlier than 3 months after the release date. You should use QuantumCircuit.u instead, which acts identically. Alternatively, you can decompose u3 in terms of QuantumCircuit.p and QuantumCircuit.sx: u3(ϴ,φ,λ) = p(φ+π) sx p(ϴ+π) sx p(λ) (2 pulses on hardware).\n",
      "  getattr(circuit, gate)(rand_angle1, rand_angle2, rand_angle3, 0)\n"
     ]
    }
   ],
   "source": [
    "# single qubit gates with 3 parameters\n",
    "single_3_param = [\"u\", \"u3\"]\n",
    "\n",
    "for gate in single_3_param:\n",
    "    circuit = QuantumCircuit(1)\n",
    "    rand_angle1 = random.uniform(-pi, pi)\n",
    "    rand_angle2 = random.uniform(-pi, pi)\n",
    "    rand_angle3 = random.uniform(-pi, pi)\n",
    "    getattr(circuit, gate)(rand_angle1, rand_angle2, rand_angle3, 0)\n",
    "    transpile_circuit = transpile(circuit, basis_gates = basis_g, optimization_level = optimization_lv)\n",
    "    gate_stats.append([gate,ctrl_qbits, transpile_circuit.size()])"
   ]
  },
  {
   "cell_type": "code",
   "execution_count": 9,
   "id": "be329131-d200-4893-944f-364c1585c368",
   "metadata": {},
   "outputs": [
    {
     "data": {
      "text/plain": [
       "[['i', 0, 0],\n",
       " ['x', 0, 1],\n",
       " ['y', 0, 2],\n",
       " ['z', 0, 1],\n",
       " ['h', 0, 3],\n",
       " ['s', 0, 1],\n",
       " ['sdg', 0, 1],\n",
       " ['t', 0, 1],\n",
       " ['tdg', 0, 1],\n",
       " ['sx', 0, 1],\n",
       " ['sxdg', 0, 3],\n",
       " ['p', 0, 1],\n",
       " ['rx', 0, 5],\n",
       " ['ry', 0, 4],\n",
       " ['rz', 0, 1],\n",
       " ['u2', 0, 3],\n",
       " ['u', 0, 5],\n",
       " ['u3', 0, 5]]"
      ]
     },
     "execution_count": 9,
     "metadata": {},
     "output_type": "execute_result"
    }
   ],
   "source": [
    "gate_stats"
   ]
  },
  {
   "cell_type": "code",
   "execution_count": 10,
   "id": "bca86fa9-b855-4cf7-a835-bcc4b87078f1",
   "metadata": {},
   "outputs": [],
   "source": [
    "# creating a text file to store the gate stats(profiles)\n",
    "import os\n",
    "cd = os.getcwd()\n",
    "path = cd + \"/gate_stats.txt\"\n",
    "f = open(path, 'w')"
   ]
  },
  {
   "cell_type": "code",
   "execution_count": 11,
   "id": "1858e0ad-c31f-4e43-bde5-0a572a10ec26",
   "metadata": {},
   "outputs": [],
   "source": [
    "# writing the profiles to text file\n",
    "f = open(\"gate_stats\" + \"_op_lv_\" + str(optimization_lv) + \".txt\", \"a\")\n",
    "for i in np.arange(len(gate_stats)):\n",
    "    f.writelines([gate_stats[i][0], \" \", str(gate_stats[i][1]), \" \", str(gate_stats[i][2])])\n",
    "    f.writelines(['\\n'])\n",
    "f.close()"
   ]
  },
  {
   "cell_type": "code",
   "execution_count": 13,
   "id": "1fdf0b2a",
   "metadata": {},
   "outputs": [
    {
     "name": "stdout",
     "output_type": "stream",
     "text": [
      "x 1 0\n",
      "x 1 1\n",
      "x 18 2\n",
      "x 34 3\n",
      "x 97 4\n",
      "x 190 5\n",
      "y 2 0\n",
      "y 8 1\n",
      "y 64 2\n",
      "y 157 3\n",
      "y 341 4\n",
      "y 709 5\n",
      "z 1 0\n",
      "z 7 1\n",
      "z 13 2\n",
      "z 29 3\n",
      "z 92 4\n",
      "z 185 5\n",
      "h 3 0\n",
      "h 12 1\n",
      "h 51 2\n",
      "h 121 3\n",
      "h 265 4\n",
      "h 553 5\n",
      "s 1 0\n",
      "s 5 1\n",
      "s 17 2\n",
      "s 41 3\n",
      "s 89 4\n",
      "s 185 5\n",
      "sdg 1 0\n",
      "sdg 5 1\n",
      "sdg 17 2\n",
      "sdg 41 3\n",
      "sdg 89 4\n",
      "sdg 185 5\n",
      "t 1 0\n",
      "t 5 1\n",
      "t 17 2\n",
      "t 41 3\n",
      "t 89 4\n",
      "t 185 5\n",
      "tdg 1 0\n",
      "tdg 5 1\n",
      "tdg 17 2\n",
      "tdg 41 3\n",
      "tdg 89 4\n",
      "tdg 185 5\n",
      "sx 1 0\n",
      "sx 22 1\n",
      "sx 89 2\n",
      "sx 219 3\n",
      "sx 483 4\n",
      "sx 1011 5\n",
      "sxdg 3 0\n",
      "sxdg 22 1\n",
      "sxdg 89 2\n",
      "sxdg 219 3\n",
      "sxdg 483 4\n",
      "sxdg 1011 5\n"
     ]
    }
   ],
   "source": [
    "# single qubit gates with no parameters\n",
    "single_qubit_gates_no_params = [\"x\",\"y\",\"z\",\"h\",\"s\",\"sdg\",\"t\",\"tdg\",\"sx\",\"sxdg\"]\n",
    "\n",
    "# return gate with number of controls\n",
    "def create_controlled_gate(circuit, controls, number_of_gate_qubits):\n",
    "    # convert circuit to gate and add number of controls\n",
    "    custom_circuit = circuit.to_gate().control(controls)\n",
    "\n",
    "    # create new circuit with number of qubits for gate + for controls\n",
    "    circuit_with_controls = QuantumCircuit(controls + number_of_gate_qubits)\n",
    "\n",
    "    # append gate with controls to circuit with controls\n",
    "    # second argument is a range for number of controls\n",
    "    circuit_with_controls.append(custom_circuit, range(0, controls + number_of_gate_qubits))\n",
    "    \n",
    "    return circuit_with_controls\n",
    "\n",
    "\n",
    "# create look up table for set of gates\n",
    "# with different amounts of controls\n",
    "def create_lookup_table(gates, max_controls):\n",
    "    \n",
    "    # iterate through each gate\n",
    "    for gate in gates:\n",
    "        \n",
    "        # create circuit with all amount of controls\n",
    "        for controls in range(0, max_controls + 1):\n",
    "            \n",
    "            # create single qubit circuit\n",
    "            circuit = QuantumCircuit(1)\n",
    "            \n",
    "            # make circuit the actual gate\n",
    "            # and pass 0 as a parameter\n",
    "            getattr(circuit, gate)(0)\n",
    "            \n",
    "            if controls != 0:\n",
    "                circuit_with_controls = create_controlled_gate(circuit, controls, 1)\n",
    "                circuit = circuit_with_controls\n",
    "                \n",
    "            transpiled_circuit = transpile(circuit, basis_gates = basis_g)\n",
    "            \n",
    "            print(gate, transpiled_circuit.size(), controls)\n",
    "            \n",
    "create_lookup_table(single_qubit_gates_no_params, 5)"
   ]
  },
  {
   "cell_type": "code",
   "execution_count": null,
   "id": "3e8d4fe3-1739-4b2f-9701-1a56e3ad7da2",
   "metadata": {},
   "outputs": [],
   "source": []
  }
 ],
 "metadata": {
  "kernelspec": {
   "display_name": "Qiskit v0.34.2 (ipykernel)",
   "language": "python",
   "name": "python3"
  },
  "language_info": {
   "codemirror_mode": {
    "name": "ipython",
    "version": 3
   },
   "file_extension": ".py",
   "mimetype": "text/x-python",
   "name": "python",
   "nbconvert_exporter": "python",
   "pygments_lexer": "ipython3",
   "version": "3.8.12"
  },
  "widgets": {
   "application/vnd.jupyter.widget-state+json": {
    "state": {
     "088020aadb644f669308408da8a89a42": {
      "model_module": "@jupyter-widgets/controls",
      "model_module_version": "1.5.0",
      "model_name": "HTMLModel",
      "state": {
       "layout": "IPY_MODEL_deb3f501e94a4e818e3104caf856338c",
       "style": "IPY_MODEL_da629aaaacb1428ba7aaace29ffbcae1",
       "value": "<h5>Message</h5>"
      }
     },
     "1b0be580ffc64fd2be8787521425bce2": {
      "model_module": "@jupyter-widgets/base",
      "model_module_version": "1.2.0",
      "model_name": "LayoutModel",
      "state": {
       "margin": "0px 0px 10px 0px"
      }
     },
     "2bcdf3facb9b447492f1b15da33888dd": {
      "model_module": "@jupyter-widgets/controls",
      "model_module_version": "1.5.0",
      "model_name": "GridBoxModel",
      "state": {
       "children": [
        "IPY_MODEL_bd8d19efdc5f4f4591b9e390a23fa2fb"
       ],
       "layout": "IPY_MODEL_f37e90bf71814857846248441ad73435"
      }
     },
     "3539f6788ba94460b2b3a17a628b4188": {
      "model_module": "@jupyter-widgets/controls",
      "model_module_version": "1.5.0",
      "model_name": "HTMLModel",
      "state": {
       "layout": "IPY_MODEL_eaec7a6ba9bb47cb923f992952254114",
       "style": "IPY_MODEL_c110ab4870414aaf833f188807700413",
       "value": "<h5>Queue</h5>"
      }
     },
     "36e8fb2990af4789affe5062b596534b": {
      "model_module": "@jupyter-widgets/base",
      "model_module_version": "1.2.0",
      "model_name": "LayoutModel",
      "state": {
       "grid_area": "right",
       "padding": "0px 0px 0px 0px",
       "width": "70px"
      }
     },
     "3eec2e169ca04e25a5d59bbc4a6c81a8": {
      "model_module": "@jupyter-widgets/base",
      "model_module_version": "1.2.0",
      "model_name": "LayoutModel",
      "state": {
       "margin": "0px 0px 0px 37px",
       "width": "600px"
      }
     },
     "4b938b831b224874bed5031495362a98": {
      "model_module": "@jupyter-widgets/base",
      "model_module_version": "1.2.0",
      "model_name": "LayoutModel",
      "state": {
       "width": "95px"
      }
     },
     "52c7ae536a4046a3826c7573fe613115": {
      "model_module": "@jupyter-widgets/controls",
      "model_module_version": "1.5.0",
      "model_name": "ButtonStyleModel",
      "state": {}
     },
     "5532e5b0d2c34773a7f6e1bc29ffb47a": {
      "model_module": "@jupyter-widgets/controls",
      "model_module_version": "1.5.0",
      "model_name": "HTMLModel",
      "state": {
       "layout": "IPY_MODEL_e163bf5d809149198d2b4c029cc5cd38",
       "style": "IPY_MODEL_ed43e90db80543138ff3cd7d9047593f",
       "value": "<h5>Backend</h5>"
      }
     },
     "5bfbcc51e1174267ac6f19fd21bf5d6d": {
      "model_module": "@jupyter-widgets/controls",
      "model_module_version": "1.5.0",
      "model_name": "HTMLModel",
      "state": {
       "layout": "IPY_MODEL_1b0be580ffc64fd2be8787521425bce2",
       "style": "IPY_MODEL_a8d745cc030c4e3cacab0f5ea99db74d",
       "value": "<p style='font-family: IBM Plex Sans, Arial, Helvetica, sans-serif; font-size: 20px; font-weight: medium;'>Circuit Properties</p>"
      }
     },
     "6e83cd4a5aa744e5b9333da60460f30d": {
      "model_module": "@jupyter-widgets/controls",
      "model_module_version": "1.5.0",
      "model_name": "DescriptionStyleModel",
      "state": {
       "description_width": ""
      }
     },
     "90ddc9261f734429ae6bba1296657f78": {
      "model_module": "@jupyter-widgets/controls",
      "model_module_version": "1.5.0",
      "model_name": "HTMLModel",
      "state": {
       "layout": "IPY_MODEL_e88b7a5806db4b72bc481ed81d7d6fb9",
       "style": "IPY_MODEL_936412bf172f4b82915ebf3d3b5decf8",
       "value": "<h5>Job ID</h5>"
      }
     },
     "936412bf172f4b82915ebf3d3b5decf8": {
      "model_module": "@jupyter-widgets/controls",
      "model_module_version": "1.5.0",
      "model_name": "DescriptionStyleModel",
      "state": {
       "description_width": ""
      }
     },
     "a75dd2cd98564f83aa6db958f04e308d": {
      "model_module": "@jupyter-widgets/controls",
      "model_module_version": "1.5.0",
      "model_name": "HBoxModel",
      "state": {
       "children": [
        "IPY_MODEL_90ddc9261f734429ae6bba1296657f78",
        "IPY_MODEL_5532e5b0d2c34773a7f6e1bc29ffb47a",
        "IPY_MODEL_cc36f94286f7454c9575ea1d7abc3273",
        "IPY_MODEL_3539f6788ba94460b2b3a17a628b4188",
        "IPY_MODEL_088020aadb644f669308408da8a89a42"
       ],
       "layout": "IPY_MODEL_3eec2e169ca04e25a5d59bbc4a6c81a8"
      }
     },
     "a8d745cc030c4e3cacab0f5ea99db74d": {
      "model_module": "@jupyter-widgets/controls",
      "model_module_version": "1.5.0",
      "model_name": "DescriptionStyleModel",
      "state": {
       "description_width": ""
      }
     },
     "bd8d19efdc5f4f4591b9e390a23fa2fb": {
      "model_module": "@jupyter-widgets/controls",
      "model_module_version": "1.5.0",
      "model_name": "ButtonModel",
      "state": {
       "button_style": "primary",
       "description": "Clear",
       "layout": "IPY_MODEL_36e8fb2990af4789affe5062b596534b",
       "style": "IPY_MODEL_52c7ae536a4046a3826c7573fe613115"
      }
     },
     "c110ab4870414aaf833f188807700413": {
      "model_module": "@jupyter-widgets/controls",
      "model_module_version": "1.5.0",
      "model_name": "DescriptionStyleModel",
      "state": {
       "description_width": ""
      }
     },
     "cc36f94286f7454c9575ea1d7abc3273": {
      "model_module": "@jupyter-widgets/controls",
      "model_module_version": "1.5.0",
      "model_name": "HTMLModel",
      "state": {
       "layout": "IPY_MODEL_4b938b831b224874bed5031495362a98",
       "style": "IPY_MODEL_6e83cd4a5aa744e5b9333da60460f30d",
       "value": "<h5>Status</h5>"
      }
     },
     "da629aaaacb1428ba7aaace29ffbcae1": {
      "model_module": "@jupyter-widgets/controls",
      "model_module_version": "1.5.0",
      "model_name": "DescriptionStyleModel",
      "state": {
       "description_width": ""
      }
     },
     "deb3f501e94a4e818e3104caf856338c": {
      "model_module": "@jupyter-widgets/base",
      "model_module_version": "1.2.0",
      "model_name": "LayoutModel",
      "state": {}
     },
     "e163bf5d809149198d2b4c029cc5cd38": {
      "model_module": "@jupyter-widgets/base",
      "model_module_version": "1.2.0",
      "model_name": "LayoutModel",
      "state": {
       "width": "145px"
      }
     },
     "e88b7a5806db4b72bc481ed81d7d6fb9": {
      "model_module": "@jupyter-widgets/base",
      "model_module_version": "1.2.0",
      "model_name": "LayoutModel",
      "state": {
       "width": "190px"
      }
     },
     "eaec7a6ba9bb47cb923f992952254114": {
      "model_module": "@jupyter-widgets/base",
      "model_module_version": "1.2.0",
      "model_name": "LayoutModel",
      "state": {
       "width": "70px"
      }
     },
     "ed43e90db80543138ff3cd7d9047593f": {
      "model_module": "@jupyter-widgets/controls",
      "model_module_version": "1.5.0",
      "model_name": "DescriptionStyleModel",
      "state": {
       "description_width": ""
      }
     },
     "f37e90bf71814857846248441ad73435": {
      "model_module": "@jupyter-widgets/base",
      "model_module_version": "1.2.0",
      "model_name": "LayoutModel",
      "state": {
       "grid_template_areas": "\n                                       \". . . . right \"\n                                        ",
       "grid_template_columns": "20% 20% 20% 20% 20%",
       "width": "100%"
      }
     }
    },
    "version_major": 2,
    "version_minor": 0
   }
  }
 },
 "nbformat": 4,
 "nbformat_minor": 5
}
