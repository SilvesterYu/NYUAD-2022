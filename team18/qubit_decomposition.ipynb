{
 "cells": [
  {
   "cell_type": "code",
   "execution_count": 4,
   "id": "b042851c",
   "metadata": {},
   "outputs": [
    {
     "name": "stdout",
     "output_type": "stream",
     "text": [
      "Requirement already satisfied: qiskit in /Library/Frameworks/Python.framework/Versions/3.8/lib/python3.8/site-packages (0.34.2)\n",
      "Requirement already satisfied: qiskit-terra==0.19.2 in /Library/Frameworks/Python.framework/Versions/3.8/lib/python3.8/site-packages (from qiskit) (0.19.2)\n",
      "Requirement already satisfied: qiskit-ignis==0.7.0 in /Library/Frameworks/Python.framework/Versions/3.8/lib/python3.8/site-packages (from qiskit) (0.7.0)\n",
      "Requirement already satisfied: qiskit-ibmq-provider==0.18.3 in /Library/Frameworks/Python.framework/Versions/3.8/lib/python3.8/site-packages (from qiskit) (0.18.3)\n",
      "Requirement already satisfied: qiskit-aer==0.10.3 in /Library/Frameworks/Python.framework/Versions/3.8/lib/python3.8/site-packages (from qiskit) (0.10.3)\n",
      "Requirement already satisfied: scipy>=1.0 in /Library/Frameworks/Python.framework/Versions/3.8/lib/python3.8/site-packages (from qiskit-aer==0.10.3->qiskit) (1.8.0)\n",
      "Requirement already satisfied: numpy>=1.16.3 in /Library/Frameworks/Python.framework/Versions/3.8/lib/python3.8/site-packages (from qiskit-aer==0.10.3->qiskit) (1.22.2)\n",
      "Requirement already satisfied: requests-ntlm>=1.1.0 in /Library/Frameworks/Python.framework/Versions/3.8/lib/python3.8/site-packages (from qiskit-ibmq-provider==0.18.3->qiskit) (1.1.0)\n",
      "Requirement already satisfied: urllib3>=1.21.1 in /Library/Frameworks/Python.framework/Versions/3.8/lib/python3.8/site-packages (from qiskit-ibmq-provider==0.18.3->qiskit) (1.26.8)\n",
      "Requirement already satisfied: websocket-client>=1.0.1 in /Library/Frameworks/Python.framework/Versions/3.8/lib/python3.8/site-packages (from qiskit-ibmq-provider==0.18.3->qiskit) (1.3.2)\n",
      "Requirement already satisfied: requests>=2.19 in /Library/Frameworks/Python.framework/Versions/3.8/lib/python3.8/site-packages (from qiskit-ibmq-provider==0.18.3->qiskit) (2.27.1)\n",
      "Requirement already satisfied: python-dateutil>=2.8.0 in /Library/Frameworks/Python.framework/Versions/3.8/lib/python3.8/site-packages (from qiskit-ibmq-provider==0.18.3->qiskit) (2.8.1)\n",
      "Requirement already satisfied: setuptools>=40.1.0 in /Library/Frameworks/Python.framework/Versions/3.8/lib/python3.8/site-packages (from qiskit-ignis==0.7.0->qiskit) (47.1.0)\n",
      "Requirement already satisfied: retworkx>=0.8.0 in /Library/Frameworks/Python.framework/Versions/3.8/lib/python3.8/site-packages (from qiskit-ignis==0.7.0->qiskit) (0.11.0)\n",
      "Requirement already satisfied: sympy>=1.3 in /Library/Frameworks/Python.framework/Versions/3.8/lib/python3.8/site-packages (from qiskit-terra==0.19.2->qiskit) (1.10.1)\n",
      "Requirement already satisfied: psutil>=5 in /Library/Frameworks/Python.framework/Versions/3.8/lib/python3.8/site-packages (from qiskit-terra==0.19.2->qiskit) (5.9.0)\n",
      "Requirement already satisfied: ply>=3.10 in /Library/Frameworks/Python.framework/Versions/3.8/lib/python3.8/site-packages (from qiskit-terra==0.19.2->qiskit) (3.11)\n",
      "Requirement already satisfied: tweedledum<2.0,>=1.1 in /Library/Frameworks/Python.framework/Versions/3.8/lib/python3.8/site-packages (from qiskit-terra==0.19.2->qiskit) (1.1.1)\n",
      "Requirement already satisfied: python-constraint>=1.4 in /Library/Frameworks/Python.framework/Versions/3.8/lib/python3.8/site-packages (from qiskit-terra==0.19.2->qiskit) (1.4.0)\n",
      "Requirement already satisfied: symengine>=0.8 in /Library/Frameworks/Python.framework/Versions/3.8/lib/python3.8/site-packages (from qiskit-terra==0.19.2->qiskit) (0.9.2)\n",
      "Requirement already satisfied: dill>=0.3 in /Library/Frameworks/Python.framework/Versions/3.8/lib/python3.8/site-packages (from qiskit-terra==0.19.2->qiskit) (0.3.4)\n",
      "Requirement already satisfied: stevedore>=3.0.0 in /Library/Frameworks/Python.framework/Versions/3.8/lib/python3.8/site-packages (from qiskit-terra==0.19.2->qiskit) (3.5.0)\n",
      "Requirement already satisfied: six>=1.5 in /Library/Frameworks/Python.framework/Versions/3.8/lib/python3.8/site-packages (from python-dateutil>=2.8.0->qiskit-ibmq-provider==0.18.3->qiskit) (1.15.0)\n",
      "Requirement already satisfied: idna<4,>=2.5 in /Library/Frameworks/Python.framework/Versions/3.8/lib/python3.8/site-packages (from requests>=2.19->qiskit-ibmq-provider==0.18.3->qiskit) (3.3)\n",
      "Requirement already satisfied: certifi>=2017.4.17 in /Library/Frameworks/Python.framework/Versions/3.8/lib/python3.8/site-packages (from requests>=2.19->qiskit-ibmq-provider==0.18.3->qiskit) (2021.10.8)\n",
      "Requirement already satisfied: charset-normalizer~=2.0.0 in /Library/Frameworks/Python.framework/Versions/3.8/lib/python3.8/site-packages (from requests>=2.19->qiskit-ibmq-provider==0.18.3->qiskit) (2.0.10)\n",
      "Requirement already satisfied: ntlm-auth>=1.0.2 in /Library/Frameworks/Python.framework/Versions/3.8/lib/python3.8/site-packages (from requests-ntlm>=1.1.0->qiskit-ibmq-provider==0.18.3->qiskit) (1.5.0)\n",
      "Requirement already satisfied: cryptography>=1.3 in /Library/Frameworks/Python.framework/Versions/3.8/lib/python3.8/site-packages (from requests-ntlm>=1.1.0->qiskit-ibmq-provider==0.18.3->qiskit) (36.0.2)\n",
      "Requirement already satisfied: pbr!=2.1.0,>=2.0.0 in /Library/Frameworks/Python.framework/Versions/3.8/lib/python3.8/site-packages (from stevedore>=3.0.0->qiskit-terra==0.19.2->qiskit) (5.8.1)\n",
      "Requirement already satisfied: mpmath>=0.19 in /Library/Frameworks/Python.framework/Versions/3.8/lib/python3.8/site-packages (from sympy>=1.3->qiskit-terra==0.19.2->qiskit) (1.2.1)\n",
      "Requirement already satisfied: cffi>=1.12 in /Library/Frameworks/Python.framework/Versions/3.8/lib/python3.8/site-packages (from cryptography>=1.3->requests-ntlm>=1.1.0->qiskit-ibmq-provider==0.18.3->qiskit) (1.15.0)\n",
      "Requirement already satisfied: pycparser in /Library/Frameworks/Python.framework/Versions/3.8/lib/python3.8/site-packages (from cffi>=1.12->cryptography>=1.3->requests-ntlm>=1.1.0->qiskit-ibmq-provider==0.18.3->qiskit) (2.21)\n"
     ]
    }
   ],
   "source": [
    "!pip install qiskit"
   ]
  },
  {
   "cell_type": "code",
   "execution_count": 8,
   "id": "40cab1c5-2a6c-495d-8a9d-8fca1a739f12",
   "metadata": {},
   "outputs": [],
   "source": [
    "# Importing standard Qiskit libraries\n",
    "from qiskit import QuantumCircuit, transpile, Aer, IBMQ\n",
    "from qiskit.tools.jupyter import *\n",
    "from qiskit.visualization import *\n",
    "from qiskit.providers.aer import QasmSimulator"
   ]
  },
  {
   "cell_type": "code",
   "execution_count": 9,
   "id": "c00c95a5-cd82-4b5d-b7e8-48de098ca89b",
   "metadata": {},
   "outputs": [],
   "source": [
    "import numpy as np\n",
    "from math import pi, sqrt\n",
    "import random"
   ]
  },
  {
   "cell_type": "code",
   "execution_count": 10,
   "id": "2b006686-e4ef-45db-adaf-47a4b6644680",
   "metadata": {},
   "outputs": [],
   "source": [
    "# the basis gates\n",
    "basis_g = ['id', 'rz', 'sx', 'x', 'cx']\n",
    "\n",
    "#creating the gate statistics list\n",
    "gate_stats = []\n",
    "\n",
    "#number of qbits being controlled\n",
    "ctrl_qbits = 0"
   ]
  },
  {
   "cell_type": "code",
   "execution_count": 11,
   "id": "97fd2d34-1730-4c05-a112-996a75bfa115",
   "metadata": {},
   "outputs": [],
   "source": [
    "# single qubit gates with no parameters\n",
    "sgle_noparam = [\"i\",\"x\",\"y\",\"z\",\"h\",\"s\",\"sdg\",\"t\",\"tdg\",\"sx\",\"sxdg\"]\n",
    "\n",
    "for gate in sgle_noparam:\n",
    "    circuit = QuantumCircuit(1)\n",
    "    getattr(circuit, gate)(0)\n",
    "    transpile_circuit = transpile(circuit, basis_gates = basis_g)\n",
    "    gate_stats.append([gate, ctrl_qbits, transpile_circuit.size()])"
   ]
  },
  {
   "cell_type": "code",
   "execution_count": 12,
   "id": "77acd4e3-e351-40bd-9154-cd89ca92d5cd",
   "metadata": {},
   "outputs": [],
   "source": [
    "# single qubit gates with 1 parameter\n",
    "sgle_1_param = [\"p\",\"rx\",\"ry\",\"rz\"]\n",
    "\n",
    "for gate in sgle_1_param:\n",
    "    param = random.uniform(-np.pi, np.pi)\n",
    "    circuit = QuantumCircuit(1)\n",
    "    getattr(circuit, gate)(param,0)\n",
    "    transpile_circuit = transpile(circuit, basis_gates = basis_g)\n",
    "    gate_stats.append([gate,ctrl_qbits, transpile_circuit.size()])"
   ]
  },
  {
   "cell_type": "code",
   "execution_count": 13,
   "id": "bfa05255-0503-437f-b690-7919e2295ac9",
   "metadata": {},
   "outputs": [
    {
     "name": "stderr",
     "output_type": "stream",
     "text": [
      "/var/folders/7l/z060s3ts4sb0kyt487t13pdw0000gn/T/ipykernel_13597/3578139103.py:8: DeprecationWarning: The QuantumCircuit.u2 method is deprecated as of 0.16.0. It will be removed no earlier than 3 months after the release date. You can use the general 1-qubit gate QuantumCircuit.u instead: u2(φ,λ) = u(π/2, φ, λ). Alternatively, you can decompose it interms of QuantumCircuit.p and QuantumCircuit.sx: u2(φ,λ) = p(π/2+φ) sx p(λ-π/2) (1 pulse on hardware).\n",
      "  getattr(circuit, gate)(rand_angle1, rand_angle2, 0)\n"
     ]
    }
   ],
   "source": [
    "# single qubit gates with 2 parameters\n",
    "single_2_param = [\"u2\"]\n",
    "\n",
    "for gate in single_2_param:\n",
    "    circuit = QuantumCircuit(1)\n",
    "    rand_angle1 = random.uniform(-np.pi, np.pi)\n",
    "    rand_angle2 = random.uniform(-np.pi, np.pi)\n",
    "    getattr(circuit, gate)(rand_angle1, rand_angle2, 0)\n",
    "    transpile_circuit = transpile(circuit, basis_gates = basis_g)\n",
    "    gate_stats.append([gate,ctrl_qbits, transpile_circuit.size()])"
   ]
  },
  {
   "cell_type": "code",
   "execution_count": 14,
   "id": "6d07683a-1ef1-4dfb-abfa-f0e0fbaf080c",
   "metadata": {},
   "outputs": [
    {
     "name": "stderr",
     "output_type": "stream",
     "text": [
      "/var/folders/7l/z060s3ts4sb0kyt487t13pdw0000gn/T/ipykernel_13597/2597784990.py:9: DeprecationWarning: The QuantumCircuit.u3 method is deprecated as of 0.16.0. It will be removed no earlier than 3 months after the release date. You should use QuantumCircuit.u instead, which acts identically. Alternatively, you can decompose u3 in terms of QuantumCircuit.p and QuantumCircuit.sx: u3(ϴ,φ,λ) = p(φ+π) sx p(ϴ+π) sx p(λ) (2 pulses on hardware).\n",
      "  getattr(circuit, gate)(rand_angle1, rand_angle2, rand_angle3, 0)\n"
     ]
    }
   ],
   "source": [
    "# single qubit gates with 3 parameters\n",
    "single_3_param = [\"u\", \"u3\"]\n",
    "\n",
    "for gate in single_3_param:\n",
    "    circuit = QuantumCircuit(1)\n",
    "    rand_angle1 = random.uniform(-pi, pi)\n",
    "    rand_angle2 = random.uniform(-pi, pi)\n",
    "    rand_angle3 = random.uniform(-pi, pi)\n",
    "    getattr(circuit, gate)(rand_angle1, rand_angle2, rand_angle3, 0)\n",
    "    transpile_circuit = transpile(circuit, basis_gates = basis_g)\n",
    "    gate_stats.append([gate,ctrl_qbits, transpile_circuit.size()])"
   ]
  },
  {
   "cell_type": "code",
   "execution_count": 15,
   "id": "be329131-d200-4893-944f-364c1585c368",
   "metadata": {},
   "outputs": [
    {
     "data": {
      "text/plain": [
       "[['i', 0, 0],\n",
       " ['x', 0, 1],\n",
       " ['y', 0, 2],\n",
       " ['z', 0, 1],\n",
       " ['h', 0, 3],\n",
       " ['s', 0, 1],\n",
       " ['sdg', 0, 1],\n",
       " ['t', 0, 1],\n",
       " ['tdg', 0, 1],\n",
       " ['sx', 0, 1],\n",
       " ['sxdg', 0, 3],\n",
       " ['p', 0, 1],\n",
       " ['rx', 0, 5],\n",
       " ['ry', 0, 4],\n",
       " ['rz', 0, 1],\n",
       " ['u2', 0, 3],\n",
       " ['u', 0, 5],\n",
       " ['u3', 0, 5]]"
      ]
     },
     "execution_count": 15,
     "metadata": {},
     "output_type": "execute_result"
    }
   ],
   "source": [
    "gate_stats"
   ]
  },
  {
   "cell_type": "code",
   "execution_count": 16,
   "id": "bca86fa9-b855-4cf7-a835-bcc4b87078f1",
   "metadata": {},
   "outputs": [],
   "source": [
    "# creating a text file to store the gate stats(profiles)\n",
    "import os\n",
    "cd = os.getcwd()\n",
    "path = cd + \"/gate_stats.txt\"\n",
    "f = open(path, 'w')"
   ]
  },
  {
   "cell_type": "code",
   "execution_count": 17,
   "id": "1858e0ad-c31f-4e43-bde5-0a572a10ec26",
   "metadata": {},
   "outputs": [],
   "source": [
    "# writing the profiles to text file\n",
    "f = open(\"gate_stats.txt\", \"a\")\n",
    "for i in np.arange(len(gate_stats)):\n",
    "    f.writelines([gate_stats[i][0], \" \", str(gate_stats[i][1]), \" \", str(gate_stats[i][2])])\n",
    "    f.writelines(['\\n'])\n",
    "f.close()"
   ]
  }
 ],
 "metadata": {
  "kernelspec": {
   "display_name": "Qiskit v0.34.2 (ipykernel)",
   "language": "python",
   "name": "python3"
  },
  "language_info": {
   "codemirror_mode": {
    "name": "ipython",
    "version": 3
   },
   "file_extension": ".py",
   "mimetype": "text/x-python",
   "name": "python",
   "nbconvert_exporter": "python",
   "pygments_lexer": "ipython3",
   "version": "3.8.5"
  },
  "widgets": {
   "application/vnd.jupyter.widget-state+json": {
    "state": {
     "0b62d03ac3884a229dbcdb11a4ca511b": {
      "model_module": "@jupyter-widgets/controls",
      "model_module_version": "1.5.0",
      "model_name": "DescriptionStyleModel",
      "state": {
       "description_width": ""
      }
     },
     "0d99edf37d2c4a04aa12b5380221bd39": {
      "model_module": "@jupyter-widgets/controls",
      "model_module_version": "1.5.0",
      "model_name": "DescriptionStyleModel",
      "state": {
       "description_width": ""
      }
     },
     "118a6c8b367f45efa653ea953b2c668b": {
      "model_module": "@jupyter-widgets/controls",
      "model_module_version": "1.5.0",
      "model_name": "GridBoxModel",
      "state": {
       "children": [
        "IPY_MODEL_4dacf28420f4478d9363b08030693827"
       ],
       "layout": "IPY_MODEL_9cef71fee7674932ac32e5c805e14321"
      }
     },
     "184284e2c4e244358461170e1a640c09": {
      "model_module": "@jupyter-widgets/controls",
      "model_module_version": "1.5.0",
      "model_name": "HTMLModel",
      "state": {
       "layout": "IPY_MODEL_94bda343de5a4f9ca2539d359a40c865",
       "style": "IPY_MODEL_0d99edf37d2c4a04aa12b5380221bd39",
       "value": "<h5>Backend</h5>"
      }
     },
     "18ac4cfa76b642e8bb77405a7bfba036": {
      "model_module": "@jupyter-widgets/controls",
      "model_module_version": "1.5.0",
      "model_name": "HTMLModel",
      "state": {
       "layout": "IPY_MODEL_5092d2a6b3fa4460a763d07f75dc1863",
       "style": "IPY_MODEL_0b62d03ac3884a229dbcdb11a4ca511b",
       "value": "<h5>Status</h5>"
      }
     },
     "1f8aa2f0f6d94d4a8994987f895f2a00": {
      "model_module": "@jupyter-widgets/controls",
      "model_module_version": "1.5.0",
      "model_name": "HTMLModel",
      "state": {
       "layout": "IPY_MODEL_bf714c6d4e444a6fa7401d2561533160",
       "style": "IPY_MODEL_8d94071de2c34c0790b70617f051d2bb",
       "value": "<p style='font-family: IBM Plex Sans, Arial, Helvetica, sans-serif; font-size: 20px; font-weight: medium;'>Circuit Properties</p>"
      }
     },
     "2cf00c29610745c9bc164ada909c117d": {
      "model_module": "@jupyter-widgets/controls",
      "model_module_version": "1.5.0",
      "model_name": "HTMLModel",
      "state": {
       "layout": "IPY_MODEL_73e5961ac6e24afd8d2f2463d09fc608",
       "style": "IPY_MODEL_ba8ea6e838a0404dab7feb33005351f5",
       "value": "<h5>Queue</h5>"
      }
     },
     "3bd16bed5c094f30b270fc97a373864a": {
      "model_module": "@jupyter-widgets/controls",
      "model_module_version": "1.5.0",
      "model_name": "HBoxModel",
      "state": {
       "children": [
        "IPY_MODEL_a14868393e5c48b38e3cc91f4170f144",
        "IPY_MODEL_184284e2c4e244358461170e1a640c09",
        "IPY_MODEL_18ac4cfa76b642e8bb77405a7bfba036",
        "IPY_MODEL_2cf00c29610745c9bc164ada909c117d",
        "IPY_MODEL_beb9c52559834bfc80d479e74e5bcbb5"
       ],
       "layout": "IPY_MODEL_cdcd8bfb6aa94b53983a53025a6a39e8"
      }
     },
     "4677b4a9d3b04fff8ae18b515a789b88": {
      "model_module": "@jupyter-widgets/base",
      "model_module_version": "1.2.0",
      "model_name": "LayoutModel",
      "state": {
       "grid_area": "right",
       "padding": "0px 0px 0px 0px",
       "width": "70px"
      }
     },
     "4dacf28420f4478d9363b08030693827": {
      "model_module": "@jupyter-widgets/controls",
      "model_module_version": "1.5.0",
      "model_name": "ButtonModel",
      "state": {
       "button_style": "primary",
       "description": "Clear",
       "layout": "IPY_MODEL_4677b4a9d3b04fff8ae18b515a789b88",
       "style": "IPY_MODEL_d39a011ae89c4ba987b9cf119d7466d6"
      }
     },
     "5092d2a6b3fa4460a763d07f75dc1863": {
      "model_module": "@jupyter-widgets/base",
      "model_module_version": "1.2.0",
      "model_name": "LayoutModel",
      "state": {
       "width": "95px"
      }
     },
     "73e5961ac6e24afd8d2f2463d09fc608": {
      "model_module": "@jupyter-widgets/base",
      "model_module_version": "1.2.0",
      "model_name": "LayoutModel",
      "state": {
       "width": "70px"
      }
     },
     "7bb5b5dc282d4f56bad41ab640e28378": {
      "model_module": "@jupyter-widgets/base",
      "model_module_version": "1.2.0",
      "model_name": "LayoutModel",
      "state": {}
     },
     "8d94071de2c34c0790b70617f051d2bb": {
      "model_module": "@jupyter-widgets/controls",
      "model_module_version": "1.5.0",
      "model_name": "DescriptionStyleModel",
      "state": {
       "description_width": ""
      }
     },
     "94bda343de5a4f9ca2539d359a40c865": {
      "model_module": "@jupyter-widgets/base",
      "model_module_version": "1.2.0",
      "model_name": "LayoutModel",
      "state": {
       "width": "145px"
      }
     },
     "9cef71fee7674932ac32e5c805e14321": {
      "model_module": "@jupyter-widgets/base",
      "model_module_version": "1.2.0",
      "model_name": "LayoutModel",
      "state": {
       "grid_template_areas": "\n                                       \". . . . right \"\n                                        ",
       "grid_template_columns": "20% 20% 20% 20% 20%",
       "width": "100%"
      }
     },
     "a14868393e5c48b38e3cc91f4170f144": {
      "model_module": "@jupyter-widgets/controls",
      "model_module_version": "1.5.0",
      "model_name": "HTMLModel",
      "state": {
       "layout": "IPY_MODEL_c72a504bafe74e7b9d71430f61328517",
       "style": "IPY_MODEL_eaaee35aa7f54acfaaa6acab33c0bf16",
       "value": "<h5>Job ID</h5>"
      }
     },
     "ba8ea6e838a0404dab7feb33005351f5": {
      "model_module": "@jupyter-widgets/controls",
      "model_module_version": "1.5.0",
      "model_name": "DescriptionStyleModel",
      "state": {
       "description_width": ""
      }
     },
     "beb9c52559834bfc80d479e74e5bcbb5": {
      "model_module": "@jupyter-widgets/controls",
      "model_module_version": "1.5.0",
      "model_name": "HTMLModel",
      "state": {
       "layout": "IPY_MODEL_7bb5b5dc282d4f56bad41ab640e28378",
       "style": "IPY_MODEL_d86ea9aa60a04142a50eeba3275d0394",
       "value": "<h5>Message</h5>"
      }
     },
     "bf714c6d4e444a6fa7401d2561533160": {
      "model_module": "@jupyter-widgets/base",
      "model_module_version": "1.2.0",
      "model_name": "LayoutModel",
      "state": {
       "margin": "0px 0px 10px 0px"
      }
     },
     "c72a504bafe74e7b9d71430f61328517": {
      "model_module": "@jupyter-widgets/base",
      "model_module_version": "1.2.0",
      "model_name": "LayoutModel",
      "state": {
       "width": "190px"
      }
     },
     "cdcd8bfb6aa94b53983a53025a6a39e8": {
      "model_module": "@jupyter-widgets/base",
      "model_module_version": "1.2.0",
      "model_name": "LayoutModel",
      "state": {
       "margin": "0px 0px 0px 37px",
       "width": "600px"
      }
     },
     "d39a011ae89c4ba987b9cf119d7466d6": {
      "model_module": "@jupyter-widgets/controls",
      "model_module_version": "1.5.0",
      "model_name": "ButtonStyleModel",
      "state": {}
     },
     "d86ea9aa60a04142a50eeba3275d0394": {
      "model_module": "@jupyter-widgets/controls",
      "model_module_version": "1.5.0",
      "model_name": "DescriptionStyleModel",
      "state": {
       "description_width": ""
      }
     },
     "eaaee35aa7f54acfaaa6acab33c0bf16": {
      "model_module": "@jupyter-widgets/controls",
      "model_module_version": "1.5.0",
      "model_name": "DescriptionStyleModel",
      "state": {
       "description_width": ""
      }
     }
    },
    "version_major": 2,
    "version_minor": 0
   }
  }
 },
 "nbformat": 4,
 "nbformat_minor": 5
}
