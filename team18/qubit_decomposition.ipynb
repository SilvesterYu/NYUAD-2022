{
 "cells": [
  {
   "cell_type": "code",
   "execution_count": 4,
   "id": "40cab1c5-2a6c-495d-8a9d-8fca1a739f12",
   "metadata": {},
   "outputs": [
    {
     "name": "stderr",
     "output_type": "stream",
     "text": [
      "<frozen importlib._bootstrap>:219: RuntimeWarning: scipy._lib.messagestream.MessageStream size changed, may indicate binary incompatibility. Expected 56 from C header, got 64 from PyObject\n"
     ]
    }
   ],
   "source": [
    "import numpy as np\n",
    "\n",
    "# Importing standard Qiskit libraries\n",
    "from qiskit import QuantumCircuit, transpile, Aer, IBMQ\n",
    "from qiskit.tools.jupyter import *\n",
    "from qiskit.visualization import *\n",
    "from ibm_quantum_widgets import *\n",
    "from qiskit.providers.aer import QasmSimulator\n",
    "\n",
    "# Loading your IBM Quantum account(s)\n",
    "provider = IBMQ.load_account()"
   ]
  },
  {
   "cell_type": "code",
   "execution_count": 5,
   "id": "c00c95a5-cd82-4b5d-b7e8-48de098ca89b",
   "metadata": {},
   "outputs": [],
   "source": [
    "import numpy as np\n",
    "from math import pi, sqrt\n",
    "import random"
   ]
  },
  {
   "cell_type": "code",
   "execution_count": 6,
   "id": "2b006686-e4ef-45db-adaf-47a4b6644680",
   "metadata": {},
   "outputs": [],
   "source": [
    "# the basis gates\n",
    "basis_g = ['id', 'rz', 'sx', 'x', 'cx']"
   ]
  },
  {
   "cell_type": "code",
   "execution_count": 18,
   "id": "97fd2d34-1730-4c05-a112-996a75bfa115",
   "metadata": {},
   "outputs": [
    {
     "name": "stdout",
     "output_type": "stream",
     "text": [
      "0\n",
      "1\n",
      "2\n",
      "1\n",
      "3\n",
      "1\n",
      "1\n",
      "1\n",
      "1\n",
      "1\n",
      "3\n"
     ]
    }
   ],
   "source": [
    "# single qubit gates with no parameters\n",
    "sgle_noparam = [\"i\",\"x\",\"y\",\"z\",\"h\",\"s\",\"sdg\",\"t\",\"tdg\",\"sx\",\"sxdg\"]\n",
    "\n",
    "for gate in sgle_noparam:\n",
    "    circuit = QuantumCircuit(1)\n",
    "    getattr(circuit, gate)(0)\n",
    "    transpile_circuit = transpile(circuit, basis_gates = basis_g)\n",
    "    print(transpile_circuit.size())"
   ]
  },
  {
   "cell_type": "code",
   "execution_count": 19,
   "id": "77acd4e3-e351-40bd-9154-cd89ca92d5cd",
   "metadata": {},
   "outputs": [
    {
     "name": "stdout",
     "output_type": "stream",
     "text": [
      "1\n",
      "5\n",
      "4\n",
      "1\n"
     ]
    }
   ],
   "source": [
    "# single qubit gates with 1 parameter\n",
    "sgle_1_param = [\"p\",\"rx\",\"ry\",\"rz\"]\n",
    "\n",
    "for gate in sgle_1_param:\n",
    "    param = random.uniform(-np.pi, np.pi)\n",
    "    circuit = QuantumCircuit(1)\n",
    "    getattr(circuit, gate)(param,0)\n",
    "    transpile_circuit = transpile(circuit, basis_gates = basis_g)\n",
    "    print(transpile_circuit.size())"
   ]
  },
  {
   "cell_type": "code",
   "execution_count": 20,
   "id": "bfa05255-0503-437f-b690-7919e2295ac9",
   "metadata": {},
   "outputs": [
    {
     "name": "stdout",
     "output_type": "stream",
     "text": [
      "3\n"
     ]
    },
    {
     "name": "stderr",
     "output_type": "stream",
     "text": [
      "/tmp/ipykernel_131/684528647.py:8: DeprecationWarning: The QuantumCircuit.u2 method is deprecated as of 0.16.0. It will be removed no earlier than 3 months after the release date. You can use the general 1-qubit gate QuantumCircuit.u instead: u2(φ,λ) = u(π/2, φ, λ). Alternatively, you can decompose it interms of QuantumCircuit.p and QuantumCircuit.sx: u2(φ,λ) = p(π/2+φ) sx p(λ-π/2) (1 pulse on hardware).\n",
      "  getattr(circuit, gate)(rand_angle1, rand_angle2, 0)\n"
     ]
    }
   ],
   "source": [
    "# single qubit gates with 2 parameters\n",
    "single_2_param = [\"u2\"]\n",
    "\n",
    "for gate in single_2_param:\n",
    "    circuit = QuantumCircuit(1)\n",
    "    rand_angle1 = random.uniform(-np.pi, np.pi)\n",
    "    rand_angle2 = random.uniform(-np.pi, np.pi)\n",
    "    getattr(circuit, gate)(rand_angle1, rand_angle2, 0)\n",
    "    transpile_circuit = transpile(circuit, basis_gates = basis_g)\n",
    "    print(transpile_circuit.size())\n"
   ]
  },
  {
   "cell_type": "code",
   "execution_count": 21,
   "id": "6d07683a-1ef1-4dfb-abfa-f0e0fbaf080c",
   "metadata": {},
   "outputs": [
    {
     "name": "stdout",
     "output_type": "stream",
     "text": [
      "5\n",
      "5\n"
     ]
    },
    {
     "name": "stderr",
     "output_type": "stream",
     "text": [
      "/tmp/ipykernel_131/2798487310.py:9: DeprecationWarning: The QuantumCircuit.u3 method is deprecated as of 0.16.0. It will be removed no earlier than 3 months after the release date. You should use QuantumCircuit.u instead, which acts identically. Alternatively, you can decompose u3 in terms of QuantumCircuit.p and QuantumCircuit.sx: u3(ϴ,φ,λ) = p(φ+π) sx p(ϴ+π) sx p(λ) (2 pulses on hardware).\n",
      "  getattr(circuit, gate)(rand_angle1, rand_angle2, rand_angle3, 0)\n"
     ]
    }
   ],
   "source": [
    "# single qubit gates with 3 parameters\n",
    "single_3_param = [\"u\", \"u3\"]\n",
    "\n",
    "for gate in single_3_param:\n",
    "    circuit = QuantumCircuit(1)\n",
    "    rand_angle1 = random.uniform(-pi, pi)\n",
    "    rand_angle2 = random.uniform(-pi, pi)\n",
    "    rand_angle3 = random.uniform(-pi, pi)\n",
    "    getattr(circuit, gate)(rand_angle1, rand_angle2, rand_angle3, 0)\n",
    "    transpile_circuit = transpile(circuit, basis_gates = basis_g)\n",
    "    print(transpile_circuit.size())"
   ]
  },
  {
   "cell_type": "code",
   "execution_count": null,
   "id": "be329131-d200-4893-944f-364c1585c368",
   "metadata": {},
   "outputs": [],
   "source": []
  },
  {
   "cell_type": "code",
   "execution_count": null,
   "id": "bca86fa9-b855-4cf7-a835-bcc4b87078f1",
   "metadata": {},
   "outputs": [],
   "source": []
  },
  {
   "cell_type": "code",
   "execution_count": null,
   "id": "1858e0ad-c31f-4e43-bde5-0a572a10ec26",
   "metadata": {},
   "outputs": [],
   "source": []
  },
  {
   "cell_type": "code",
   "execution_count": null,
   "id": "c4db6547-8638-4e3f-9224-ed4afe1b6086",
   "metadata": {},
   "outputs": [],
   "source": []
  },
  {
   "cell_type": "code",
   "execution_count": null,
   "id": "86081231-cf33-42bf-9a28-35338f19fcae",
   "metadata": {},
   "outputs": [],
   "source": []
  }
 ],
 "metadata": {
  "kernelspec": {
   "display_name": "Qiskit v0.34.2 (ipykernel)",
   "language": "python",
   "name": "python3"
  },
  "language_info": {
   "codemirror_mode": {
    "name": "ipython",
    "version": 3
   },
   "file_extension": ".py",
   "mimetype": "text/x-python",
   "name": "python",
   "nbconvert_exporter": "python",
   "pygments_lexer": "ipython3",
   "version": "3.8.12"
  },
  "widgets": {
   "application/vnd.jupyter.widget-state+json": {
    "state": {
     "0b62d03ac3884a229dbcdb11a4ca511b": {
      "model_module": "@jupyter-widgets/controls",
      "model_module_version": "1.5.0",
      "model_name": "DescriptionStyleModel",
      "state": {
       "description_width": ""
      }
     },
     "0d99edf37d2c4a04aa12b5380221bd39": {
      "model_module": "@jupyter-widgets/controls",
      "model_module_version": "1.5.0",
      "model_name": "DescriptionStyleModel",
      "state": {
       "description_width": ""
      }
     },
     "118a6c8b367f45efa653ea953b2c668b": {
      "model_module": "@jupyter-widgets/controls",
      "model_module_version": "1.5.0",
      "model_name": "GridBoxModel",
      "state": {
       "children": [
        "IPY_MODEL_4dacf28420f4478d9363b08030693827"
       ],
       "layout": "IPY_MODEL_9cef71fee7674932ac32e5c805e14321"
      }
     },
     "184284e2c4e244358461170e1a640c09": {
      "model_module": "@jupyter-widgets/controls",
      "model_module_version": "1.5.0",
      "model_name": "HTMLModel",
      "state": {
       "layout": "IPY_MODEL_94bda343de5a4f9ca2539d359a40c865",
       "style": "IPY_MODEL_0d99edf37d2c4a04aa12b5380221bd39",
       "value": "<h5>Backend</h5>"
      }
     },
     "18ac4cfa76b642e8bb77405a7bfba036": {
      "model_module": "@jupyter-widgets/controls",
      "model_module_version": "1.5.0",
      "model_name": "HTMLModel",
      "state": {
       "layout": "IPY_MODEL_5092d2a6b3fa4460a763d07f75dc1863",
       "style": "IPY_MODEL_0b62d03ac3884a229dbcdb11a4ca511b",
       "value": "<h5>Status</h5>"
      }
     },
     "1f8aa2f0f6d94d4a8994987f895f2a00": {
      "model_module": "@jupyter-widgets/controls",
      "model_module_version": "1.5.0",
      "model_name": "HTMLModel",
      "state": {
       "layout": "IPY_MODEL_bf714c6d4e444a6fa7401d2561533160",
       "style": "IPY_MODEL_8d94071de2c34c0790b70617f051d2bb",
       "value": "<p style='font-family: IBM Plex Sans, Arial, Helvetica, sans-serif; font-size: 20px; font-weight: medium;'>Circuit Properties</p>"
      }
     },
     "2cf00c29610745c9bc164ada909c117d": {
      "model_module": "@jupyter-widgets/controls",
      "model_module_version": "1.5.0",
      "model_name": "HTMLModel",
      "state": {
       "layout": "IPY_MODEL_73e5961ac6e24afd8d2f2463d09fc608",
       "style": "IPY_MODEL_ba8ea6e838a0404dab7feb33005351f5",
       "value": "<h5>Queue</h5>"
      }
     },
     "3bd16bed5c094f30b270fc97a373864a": {
      "model_module": "@jupyter-widgets/controls",
      "model_module_version": "1.5.0",
      "model_name": "HBoxModel",
      "state": {
       "children": [
        "IPY_MODEL_a14868393e5c48b38e3cc91f4170f144",
        "IPY_MODEL_184284e2c4e244358461170e1a640c09",
        "IPY_MODEL_18ac4cfa76b642e8bb77405a7bfba036",
        "IPY_MODEL_2cf00c29610745c9bc164ada909c117d",
        "IPY_MODEL_beb9c52559834bfc80d479e74e5bcbb5"
       ],
       "layout": "IPY_MODEL_cdcd8bfb6aa94b53983a53025a6a39e8"
      }
     },
     "4677b4a9d3b04fff8ae18b515a789b88": {
      "model_module": "@jupyter-widgets/base",
      "model_module_version": "1.2.0",
      "model_name": "LayoutModel",
      "state": {
       "grid_area": "right",
       "padding": "0px 0px 0px 0px",
       "width": "70px"
      }
     },
     "4dacf28420f4478d9363b08030693827": {
      "model_module": "@jupyter-widgets/controls",
      "model_module_version": "1.5.0",
      "model_name": "ButtonModel",
      "state": {
       "button_style": "primary",
       "description": "Clear",
       "layout": "IPY_MODEL_4677b4a9d3b04fff8ae18b515a789b88",
       "style": "IPY_MODEL_d39a011ae89c4ba987b9cf119d7466d6"
      }
     },
     "5092d2a6b3fa4460a763d07f75dc1863": {
      "model_module": "@jupyter-widgets/base",
      "model_module_version": "1.2.0",
      "model_name": "LayoutModel",
      "state": {
       "width": "95px"
      }
     },
     "73e5961ac6e24afd8d2f2463d09fc608": {
      "model_module": "@jupyter-widgets/base",
      "model_module_version": "1.2.0",
      "model_name": "LayoutModel",
      "state": {
       "width": "70px"
      }
     },
     "7bb5b5dc282d4f56bad41ab640e28378": {
      "model_module": "@jupyter-widgets/base",
      "model_module_version": "1.2.0",
      "model_name": "LayoutModel",
      "state": {}
     },
     "8d94071de2c34c0790b70617f051d2bb": {
      "model_module": "@jupyter-widgets/controls",
      "model_module_version": "1.5.0",
      "model_name": "DescriptionStyleModel",
      "state": {
       "description_width": ""
      }
     },
     "94bda343de5a4f9ca2539d359a40c865": {
      "model_module": "@jupyter-widgets/base",
      "model_module_version": "1.2.0",
      "model_name": "LayoutModel",
      "state": {
       "width": "145px"
      }
     },
     "9cef71fee7674932ac32e5c805e14321": {
      "model_module": "@jupyter-widgets/base",
      "model_module_version": "1.2.0",
      "model_name": "LayoutModel",
      "state": {
       "grid_template_areas": "\n                                       \". . . . right \"\n                                        ",
       "grid_template_columns": "20% 20% 20% 20% 20%",
       "width": "100%"
      }
     },
     "a14868393e5c48b38e3cc91f4170f144": {
      "model_module": "@jupyter-widgets/controls",
      "model_module_version": "1.5.0",
      "model_name": "HTMLModel",
      "state": {
       "layout": "IPY_MODEL_c72a504bafe74e7b9d71430f61328517",
       "style": "IPY_MODEL_eaaee35aa7f54acfaaa6acab33c0bf16",
       "value": "<h5>Job ID</h5>"
      }
     },
     "ba8ea6e838a0404dab7feb33005351f5": {
      "model_module": "@jupyter-widgets/controls",
      "model_module_version": "1.5.0",
      "model_name": "DescriptionStyleModel",
      "state": {
       "description_width": ""
      }
     },
     "beb9c52559834bfc80d479e74e5bcbb5": {
      "model_module": "@jupyter-widgets/controls",
      "model_module_version": "1.5.0",
      "model_name": "HTMLModel",
      "state": {
       "layout": "IPY_MODEL_7bb5b5dc282d4f56bad41ab640e28378",
       "style": "IPY_MODEL_d86ea9aa60a04142a50eeba3275d0394",
       "value": "<h5>Message</h5>"
      }
     },
     "bf714c6d4e444a6fa7401d2561533160": {
      "model_module": "@jupyter-widgets/base",
      "model_module_version": "1.2.0",
      "model_name": "LayoutModel",
      "state": {
       "margin": "0px 0px 10px 0px"
      }
     },
     "c72a504bafe74e7b9d71430f61328517": {
      "model_module": "@jupyter-widgets/base",
      "model_module_version": "1.2.0",
      "model_name": "LayoutModel",
      "state": {
       "width": "190px"
      }
     },
     "cdcd8bfb6aa94b53983a53025a6a39e8": {
      "model_module": "@jupyter-widgets/base",
      "model_module_version": "1.2.0",
      "model_name": "LayoutModel",
      "state": {
       "margin": "0px 0px 0px 37px",
       "width": "600px"
      }
     },
     "d39a011ae89c4ba987b9cf119d7466d6": {
      "model_module": "@jupyter-widgets/controls",
      "model_module_version": "1.5.0",
      "model_name": "ButtonStyleModel",
      "state": {}
     },
     "d86ea9aa60a04142a50eeba3275d0394": {
      "model_module": "@jupyter-widgets/controls",
      "model_module_version": "1.5.0",
      "model_name": "DescriptionStyleModel",
      "state": {
       "description_width": ""
      }
     },
     "eaaee35aa7f54acfaaa6acab33c0bf16": {
      "model_module": "@jupyter-widgets/controls",
      "model_module_version": "1.5.0",
      "model_name": "DescriptionStyleModel",
      "state": {
       "description_width": ""
      }
     }
    },
    "version_major": 2,
    "version_minor": 0
   }
  }
 },
 "nbformat": 4,
 "nbformat_minor": 5
}
