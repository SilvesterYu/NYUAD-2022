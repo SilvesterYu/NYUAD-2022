{
 "cells": [
  {
   "cell_type": "code",
   "execution_count": 1,
   "id": "b042851c",
   "metadata": {},
   "outputs": [
    {
     "name": "stdout",
     "output_type": "stream",
     "text": [
      "Requirement already satisfied: qiskit in /Library/Frameworks/Python.framework/Versions/3.8/lib/python3.8/site-packages (0.34.2)\n",
      "Requirement already satisfied: qiskit-terra==0.19.2 in /Library/Frameworks/Python.framework/Versions/3.8/lib/python3.8/site-packages (from qiskit) (0.19.2)\n",
      "Requirement already satisfied: qiskit-ignis==0.7.0 in /Library/Frameworks/Python.framework/Versions/3.8/lib/python3.8/site-packages (from qiskit) (0.7.0)\n",
      "Requirement already satisfied: qiskit-ibmq-provider==0.18.3 in /Library/Frameworks/Python.framework/Versions/3.8/lib/python3.8/site-packages (from qiskit) (0.18.3)\n",
      "Requirement already satisfied: qiskit-aer==0.10.3 in /Library/Frameworks/Python.framework/Versions/3.8/lib/python3.8/site-packages (from qiskit) (0.10.3)\n",
      "Requirement already satisfied: scipy>=1.0 in /Library/Frameworks/Python.framework/Versions/3.8/lib/python3.8/site-packages (from qiskit-aer==0.10.3->qiskit) (1.8.0)\n",
      "Requirement already satisfied: numpy>=1.16.3 in /Library/Frameworks/Python.framework/Versions/3.8/lib/python3.8/site-packages (from qiskit-aer==0.10.3->qiskit) (1.22.2)\n",
      "Requirement already satisfied: urllib3>=1.21.1 in /Library/Frameworks/Python.framework/Versions/3.8/lib/python3.8/site-packages (from qiskit-ibmq-provider==0.18.3->qiskit) (1.26.8)\n",
      "Requirement already satisfied: requests-ntlm>=1.1.0 in /Library/Frameworks/Python.framework/Versions/3.8/lib/python3.8/site-packages (from qiskit-ibmq-provider==0.18.3->qiskit) (1.1.0)\n",
      "Requirement already satisfied: python-dateutil>=2.8.0 in /Library/Frameworks/Python.framework/Versions/3.8/lib/python3.8/site-packages (from qiskit-ibmq-provider==0.18.3->qiskit) (2.8.1)\n",
      "Requirement already satisfied: websocket-client>=1.0.1 in /Library/Frameworks/Python.framework/Versions/3.8/lib/python3.8/site-packages (from qiskit-ibmq-provider==0.18.3->qiskit) (1.3.2)\n",
      "Requirement already satisfied: requests>=2.19 in /Library/Frameworks/Python.framework/Versions/3.8/lib/python3.8/site-packages (from qiskit-ibmq-provider==0.18.3->qiskit) (2.27.1)\n",
      "Requirement already satisfied: setuptools>=40.1.0 in /Library/Frameworks/Python.framework/Versions/3.8/lib/python3.8/site-packages (from qiskit-ignis==0.7.0->qiskit) (47.1.0)\n",
      "Requirement already satisfied: retworkx>=0.8.0 in /Library/Frameworks/Python.framework/Versions/3.8/lib/python3.8/site-packages (from qiskit-ignis==0.7.0->qiskit) (0.11.0)\n",
      "Requirement already satisfied: sympy>=1.3 in /Library/Frameworks/Python.framework/Versions/3.8/lib/python3.8/site-packages (from qiskit-terra==0.19.2->qiskit) (1.10.1)\n",
      "Requirement already satisfied: dill>=0.3 in /Library/Frameworks/Python.framework/Versions/3.8/lib/python3.8/site-packages (from qiskit-terra==0.19.2->qiskit) (0.3.4)\n",
      "Requirement already satisfied: stevedore>=3.0.0 in /Library/Frameworks/Python.framework/Versions/3.8/lib/python3.8/site-packages (from qiskit-terra==0.19.2->qiskit) (3.5.0)\n",
      "Requirement already satisfied: symengine>=0.8 in /Library/Frameworks/Python.framework/Versions/3.8/lib/python3.8/site-packages (from qiskit-terra==0.19.2->qiskit) (0.9.2)\n",
      "Requirement already satisfied: python-constraint>=1.4 in /Library/Frameworks/Python.framework/Versions/3.8/lib/python3.8/site-packages (from qiskit-terra==0.19.2->qiskit) (1.4.0)\n",
      "Requirement already satisfied: psutil>=5 in /Library/Frameworks/Python.framework/Versions/3.8/lib/python3.8/site-packages (from qiskit-terra==0.19.2->qiskit) (5.9.0)\n",
      "Requirement already satisfied: tweedledum<2.0,>=1.1 in /Library/Frameworks/Python.framework/Versions/3.8/lib/python3.8/site-packages (from qiskit-terra==0.19.2->qiskit) (1.1.1)\n",
      "Requirement already satisfied: ply>=3.10 in /Library/Frameworks/Python.framework/Versions/3.8/lib/python3.8/site-packages (from qiskit-terra==0.19.2->qiskit) (3.11)\n",
      "Requirement already satisfied: six>=1.5 in /Library/Frameworks/Python.framework/Versions/3.8/lib/python3.8/site-packages (from python-dateutil>=2.8.0->qiskit-ibmq-provider==0.18.3->qiskit) (1.15.0)\n",
      "Requirement already satisfied: certifi>=2017.4.17 in /Library/Frameworks/Python.framework/Versions/3.8/lib/python3.8/site-packages (from requests>=2.19->qiskit-ibmq-provider==0.18.3->qiskit) (2021.10.8)\n",
      "Requirement already satisfied: charset-normalizer~=2.0.0 in /Library/Frameworks/Python.framework/Versions/3.8/lib/python3.8/site-packages (from requests>=2.19->qiskit-ibmq-provider==0.18.3->qiskit) (2.0.10)\n",
      "Requirement already satisfied: idna<4,>=2.5 in /Library/Frameworks/Python.framework/Versions/3.8/lib/python3.8/site-packages (from requests>=2.19->qiskit-ibmq-provider==0.18.3->qiskit) (3.3)\n",
      "Requirement already satisfied: cryptography>=1.3 in /Library/Frameworks/Python.framework/Versions/3.8/lib/python3.8/site-packages (from requests-ntlm>=1.1.0->qiskit-ibmq-provider==0.18.3->qiskit) (36.0.2)\n",
      "Requirement already satisfied: ntlm-auth>=1.0.2 in /Library/Frameworks/Python.framework/Versions/3.8/lib/python3.8/site-packages (from requests-ntlm>=1.1.0->qiskit-ibmq-provider==0.18.3->qiskit) (1.5.0)\n",
      "Requirement already satisfied: pbr!=2.1.0,>=2.0.0 in /Library/Frameworks/Python.framework/Versions/3.8/lib/python3.8/site-packages (from stevedore>=3.0.0->qiskit-terra==0.19.2->qiskit) (5.8.1)\n",
      "Requirement already satisfied: mpmath>=0.19 in /Library/Frameworks/Python.framework/Versions/3.8/lib/python3.8/site-packages (from sympy>=1.3->qiskit-terra==0.19.2->qiskit) (1.2.1)\n",
      "Requirement already satisfied: cffi>=1.12 in /Library/Frameworks/Python.framework/Versions/3.8/lib/python3.8/site-packages (from cryptography>=1.3->requests-ntlm>=1.1.0->qiskit-ibmq-provider==0.18.3->qiskit) (1.15.0)\n",
      "Requirement already satisfied: pycparser in /Library/Frameworks/Python.framework/Versions/3.8/lib/python3.8/site-packages (from cffi>=1.12->cryptography>=1.3->requests-ntlm>=1.1.0->qiskit-ibmq-provider==0.18.3->qiskit) (2.21)\n"
     ]
    }
   ],
   "source": [
    "!pip install qiskit"
   ]
  },
  {
   "cell_type": "code",
   "execution_count": 2,
   "id": "40cab1c5-2a6c-495d-8a9d-8fca1a739f12",
   "metadata": {},
   "outputs": [],
   "source": [
    "# Importing standard Qiskit libraries\n",
    "from qiskit import QuantumCircuit, transpile, Aer, IBMQ\n",
    "from qiskit.tools.jupyter import *\n",
    "from qiskit.visualization import *\n",
    "from qiskit.providers.aer import QasmSimulator"
   ]
  },
  {
   "cell_type": "code",
   "execution_count": 3,
   "id": "c00c95a5-cd82-4b5d-b7e8-48de098ca89b",
   "metadata": {},
   "outputs": [],
   "source": [
    "import numpy as np\n",
    "from math import pi, sqrt\n",
    "import random"
   ]
  },
  {
   "cell_type": "code",
   "execution_count": 4,
   "id": "2b006686-e4ef-45db-adaf-47a4b6644680",
   "metadata": {},
   "outputs": [],
   "source": [
    "# PARAMETERS\n",
    "\n",
    "# the basis gates\n",
    "basis_g = ['id', 'rz', 'sx', 'x', 'cx']\n",
    "\n",
    "#creating the gate statistics list\n",
    "gate_stats = []\n",
    "\n",
    "#number of qbits being controlled\n",
    "ctrl_qbits = 0\n",
    "\n",
    "# optimization level\n",
    "optimization_lv = 3"
   ]
  },
  {
   "cell_type": "code",
   "execution_count": 5,
   "id": "97fd2d34-1730-4c05-a112-996a75bfa115",
   "metadata": {},
   "outputs": [],
   "source": [
    "# single qubit gates with no parameters\n",
    "sgle_noparam = [\"i\",\"x\",\"y\",\"z\",\"h\",\"s\",\"sdg\",\"t\",\"tdg\",\"sx\",\"sxdg\"]\n",
    "\n",
    "for gate in sgle_noparam:\n",
    "    circuit = QuantumCircuit(1)\n",
    "    getattr(circuit, gate)(0)\n",
    "    transpile_circuit = transpile(circuit, basis_gates = basis_g, optimization_level = optimization_lv)\n",
    "    gate_stats.append([gate, ctrl_qbits, transpile_circuit.size()])"
   ]
  },
  {
   "cell_type": "code",
   "execution_count": 6,
   "id": "77acd4e3-e351-40bd-9154-cd89ca92d5cd",
   "metadata": {},
   "outputs": [],
   "source": [
    "# single qubit gates with 1 parameter\n",
    "sgle_1_param = [\"p\",\"rx\",\"ry\",\"rz\"]\n",
    "\n",
    "for gate in sgle_1_param:\n",
    "    param = random.uniform(-np.pi, np.pi)\n",
    "    circuit = QuantumCircuit(1)\n",
    "    getattr(circuit, gate)(param,0)\n",
    "    transpile_circuit = transpile(circuit, basis_gates = basis_g, optimization_level = optimization_lv)\n",
    "    gate_stats.append([gate,ctrl_qbits, transpile_circuit.size()])"
   ]
  },
  {
   "cell_type": "code",
   "execution_count": 7,
   "id": "bfa05255-0503-437f-b690-7919e2295ac9",
   "metadata": {},
   "outputs": [
    {
     "name": "stderr",
     "output_type": "stream",
     "text": [
      "/var/folders/7l/z060s3ts4sb0kyt487t13pdw0000gn/T/ipykernel_14124/441393940.py:8: DeprecationWarning: The QuantumCircuit.u2 method is deprecated as of 0.16.0. It will be removed no earlier than 3 months after the release date. You can use the general 1-qubit gate QuantumCircuit.u instead: u2(φ,λ) = u(π/2, φ, λ). Alternatively, you can decompose it interms of QuantumCircuit.p and QuantumCircuit.sx: u2(φ,λ) = p(π/2+φ) sx p(λ-π/2) (1 pulse on hardware).\n",
      "  getattr(circuit, gate)(rand_angle1, rand_angle2, 0)\n"
     ]
    }
   ],
   "source": [
    "# single qubit gates with 2 parameters\n",
    "single_2_param = [\"u2\"]\n",
    "\n",
    "for gate in single_2_param:\n",
    "    circuit = QuantumCircuit(1)\n",
    "    rand_angle1 = random.uniform(-np.pi, np.pi)\n",
    "    rand_angle2 = random.uniform(-np.pi, np.pi)\n",
    "    getattr(circuit, gate)(rand_angle1, rand_angle2, 0)\n",
    "    transpile_circuit = transpile(circuit, basis_gates = basis_g, optimization_level = optimization_lv)\n",
    "    gate_stats.append([gate,ctrl_qbits, transpile_circuit.size()])"
   ]
  },
  {
   "cell_type": "code",
   "execution_count": 8,
   "id": "6d07683a-1ef1-4dfb-abfa-f0e0fbaf080c",
   "metadata": {},
   "outputs": [
    {
     "name": "stderr",
     "output_type": "stream",
     "text": [
      "/var/folders/7l/z060s3ts4sb0kyt487t13pdw0000gn/T/ipykernel_14124/41438004.py:9: DeprecationWarning: The QuantumCircuit.u3 method is deprecated as of 0.16.0. It will be removed no earlier than 3 months after the release date. You should use QuantumCircuit.u instead, which acts identically. Alternatively, you can decompose u3 in terms of QuantumCircuit.p and QuantumCircuit.sx: u3(ϴ,φ,λ) = p(φ+π) sx p(ϴ+π) sx p(λ) (2 pulses on hardware).\n",
      "  getattr(circuit, gate)(rand_angle1, rand_angle2, rand_angle3, 0)\n"
     ]
    }
   ],
   "source": [
    "# single qubit gates with 3 parameters\n",
    "single_3_param = [\"u\", \"u3\"]\n",
    "\n",
    "for gate in single_3_param:\n",
    "    circuit = QuantumCircuit(1)\n",
    "    rand_angle1 = random.uniform(-pi, pi)\n",
    "    rand_angle2 = random.uniform(-pi, pi)\n",
    "    rand_angle3 = random.uniform(-pi, pi)\n",
    "    getattr(circuit, gate)(rand_angle1, rand_angle2, rand_angle3, 0)\n",
    "    transpile_circuit = transpile(circuit, basis_gates = basis_g, optimization_level = optimization_lv)\n",
    "    gate_stats.append([gate,ctrl_qbits, transpile_circuit.size()])"
   ]
  },
  {
   "cell_type": "code",
   "execution_count": 9,
   "id": "be329131-d200-4893-944f-364c1585c368",
   "metadata": {},
   "outputs": [
    {
     "data": {
      "text/plain": [
       "[['i', 0, 0],\n",
       " ['x', 0, 1],\n",
       " ['y', 0, 2],\n",
       " ['z', 0, 1],\n",
       " ['h', 0, 3],\n",
       " ['s', 0, 1],\n",
       " ['sdg', 0, 1],\n",
       " ['t', 0, 1],\n",
       " ['tdg', 0, 1],\n",
       " ['sx', 0, 1],\n",
       " ['sxdg', 0, 3],\n",
       " ['p', 0, 1],\n",
       " ['rx', 0, 5],\n",
       " ['ry', 0, 4],\n",
       " ['rz', 0, 1],\n",
       " ['u2', 0, 3],\n",
       " ['u', 0, 5],\n",
       " ['u3', 0, 5]]"
      ]
     },
     "execution_count": 9,
     "metadata": {},
     "output_type": "execute_result"
    }
   ],
   "source": [
    "gate_stats"
   ]
  },
  {
   "cell_type": "code",
   "execution_count": 10,
   "id": "bca86fa9-b855-4cf7-a835-bcc4b87078f1",
   "metadata": {},
   "outputs": [],
   "source": [
    "# creating a text file to store the gate stats(profiles)\n",
    "import os\n",
    "cd = os.getcwd()\n",
    "path = cd + \"/gate_stats.txt\"\n",
    "f = open(path, 'w')"
   ]
  },
  {
   "cell_type": "code",
   "execution_count": 11,
   "id": "1858e0ad-c31f-4e43-bde5-0a572a10ec26",
   "metadata": {},
   "outputs": [],
   "source": [
    "# writing the profiles to text file\n",
    "f = open(\"gate_stats\" + \"_op_lv_\" + str(optimization_lv) + \".txt\", \"a\")\n",
    "for i in np.arange(len(gate_stats)):\n",
    "    f.writelines([gate_stats[i][0], \" \", str(gate_stats[i][1]), \" \", str(gate_stats[i][2])])\n",
    "    f.writelines(['\\n'])\n",
    "f.close()"
   ]
  }
 ],
 "metadata": {
  "kernelspec": {
   "display_name": "Qiskit v0.34.2 (ipykernel)",
   "language": "python",
   "name": "python3"
  },
  "language_info": {
   "codemirror_mode": {
    "name": "ipython",
    "version": 3
   },
   "file_extension": ".py",
   "mimetype": "text/x-python",
   "name": "python",
   "nbconvert_exporter": "python",
   "pygments_lexer": "ipython3",
   "version": "3.8.5"
  },
  "widgets": {
   "application/vnd.jupyter.widget-state+json": {
    "state": {
     "09e378e3fce4459ab7065a9ba69fb4ae": {
      "model_module": "@jupyter-widgets/controls",
      "model_module_version": "1.5.0",
      "model_name": "ButtonStyleModel",
      "state": {}
     },
     "16449e7b79584eedabf08cae67016f04": {
      "model_module": "@jupyter-widgets/base",
      "model_module_version": "1.2.0",
      "model_name": "LayoutModel",
      "state": {
       "margin": "0px 0px 10px 0px"
      }
     },
     "17a634e614d04f6faebf673f56eebed7": {
      "model_module": "@jupyter-widgets/controls",
      "model_module_version": "1.5.0",
      "model_name": "DescriptionStyleModel",
      "state": {
       "description_width": ""
      }
     },
     "28f0adfb57f249bda0a9c0d8690e1913": {
      "model_module": "@jupyter-widgets/controls",
      "model_module_version": "1.5.0",
      "model_name": "HTMLModel",
      "state": {
       "layout": "IPY_MODEL_b737f845892241a39122d017e740e1d6",
       "style": "IPY_MODEL_2d4427d3c6544c0780f90b997e85c752",
       "value": "<h5>Queue</h5>"
      }
     },
     "2d4427d3c6544c0780f90b997e85c752": {
      "model_module": "@jupyter-widgets/controls",
      "model_module_version": "1.5.0",
      "model_name": "DescriptionStyleModel",
      "state": {
       "description_width": ""
      }
     },
     "31f57f548b3c417db9fa02d89fac6eb5": {
      "model_module": "@jupyter-widgets/base",
      "model_module_version": "1.2.0",
      "model_name": "LayoutModel",
      "state": {
       "width": "95px"
      }
     },
     "3ebecce735ed46a39b5ae8516b68af4b": {
      "model_module": "@jupyter-widgets/base",
      "model_module_version": "1.2.0",
      "model_name": "LayoutModel",
      "state": {
       "width": "190px"
      }
     },
     "3ed29c02a4bb452ca3ef09f147cf4a17": {
      "model_module": "@jupyter-widgets/base",
      "model_module_version": "1.2.0",
      "model_name": "LayoutModel",
      "state": {
       "margin": "0px 0px 0px 37px",
       "width": "600px"
      }
     },
     "41b01af37eee4f259813404ca6de585a": {
      "model_module": "@jupyter-widgets/controls",
      "model_module_version": "1.5.0",
      "model_name": "HTMLModel",
      "state": {
       "layout": "IPY_MODEL_8d255ece08e64d28ba20f0e232263866",
       "style": "IPY_MODEL_ded2a4e4a5fa48b38fae2c9ecd1f8c7e",
       "value": "<h5>Message</h5>"
      }
     },
     "438c5369bf1147d58d1f207ec5c39d52": {
      "model_module": "@jupyter-widgets/controls",
      "model_module_version": "1.5.0",
      "model_name": "DescriptionStyleModel",
      "state": {
       "description_width": ""
      }
     },
     "6d69328ad03249f594f7262c3ec30492": {
      "model_module": "@jupyter-widgets/controls",
      "model_module_version": "1.5.0",
      "model_name": "HTMLModel",
      "state": {
       "layout": "IPY_MODEL_16449e7b79584eedabf08cae67016f04",
       "style": "IPY_MODEL_d1042568922d4986a60b5531cdf1ff20",
       "value": "<p style='font-family: IBM Plex Sans, Arial, Helvetica, sans-serif; font-size: 20px; font-weight: medium;'>Circuit Properties</p>"
      }
     },
     "73b6971af7634c18a24d88e7361ccb3d": {
      "model_module": "@jupyter-widgets/controls",
      "model_module_version": "1.5.0",
      "model_name": "HBoxModel",
      "state": {
       "children": [
        "IPY_MODEL_b87a570a95fc412cb884dbb21436b832",
        "IPY_MODEL_9a392e404506499fb12f5094e68f004e",
        "IPY_MODEL_8072a753a96d4566921988f1c5935d04",
        "IPY_MODEL_28f0adfb57f249bda0a9c0d8690e1913",
        "IPY_MODEL_41b01af37eee4f259813404ca6de585a"
       ],
       "layout": "IPY_MODEL_3ed29c02a4bb452ca3ef09f147cf4a17"
      }
     },
     "8072a753a96d4566921988f1c5935d04": {
      "model_module": "@jupyter-widgets/controls",
      "model_module_version": "1.5.0",
      "model_name": "HTMLModel",
      "state": {
       "layout": "IPY_MODEL_31f57f548b3c417db9fa02d89fac6eb5",
       "style": "IPY_MODEL_17a634e614d04f6faebf673f56eebed7",
       "value": "<h5>Status</h5>"
      }
     },
     "8bbdc2df396c41ba923dac357d365e17": {
      "model_module": "@jupyter-widgets/base",
      "model_module_version": "1.2.0",
      "model_name": "LayoutModel",
      "state": {
       "grid_area": "right",
       "padding": "0px 0px 0px 0px",
       "width": "70px"
      }
     },
     "8d255ece08e64d28ba20f0e232263866": {
      "model_module": "@jupyter-widgets/base",
      "model_module_version": "1.2.0",
      "model_name": "LayoutModel",
      "state": {}
     },
     "9a392e404506499fb12f5094e68f004e": {
      "model_module": "@jupyter-widgets/controls",
      "model_module_version": "1.5.0",
      "model_name": "HTMLModel",
      "state": {
       "layout": "IPY_MODEL_cae3cb9a3d8f40e4b2abf30f3cbd7e39",
       "style": "IPY_MODEL_e73acf34d5ec4c1fa10bb49453bb5042",
       "value": "<h5>Backend</h5>"
      }
     },
     "b737f845892241a39122d017e740e1d6": {
      "model_module": "@jupyter-widgets/base",
      "model_module_version": "1.2.0",
      "model_name": "LayoutModel",
      "state": {
       "width": "70px"
      }
     },
     "b87a570a95fc412cb884dbb21436b832": {
      "model_module": "@jupyter-widgets/controls",
      "model_module_version": "1.5.0",
      "model_name": "HTMLModel",
      "state": {
       "layout": "IPY_MODEL_3ebecce735ed46a39b5ae8516b68af4b",
       "style": "IPY_MODEL_438c5369bf1147d58d1f207ec5c39d52",
       "value": "<h5>Job ID</h5>"
      }
     },
     "cae3cb9a3d8f40e4b2abf30f3cbd7e39": {
      "model_module": "@jupyter-widgets/base",
      "model_module_version": "1.2.0",
      "model_name": "LayoutModel",
      "state": {
       "width": "145px"
      }
     },
     "d1042568922d4986a60b5531cdf1ff20": {
      "model_module": "@jupyter-widgets/controls",
      "model_module_version": "1.5.0",
      "model_name": "DescriptionStyleModel",
      "state": {
       "description_width": ""
      }
     },
     "de1550a14dd9430fabf509e11a5f7be7": {
      "model_module": "@jupyter-widgets/controls",
      "model_module_version": "1.5.0",
      "model_name": "ButtonModel",
      "state": {
       "button_style": "primary",
       "description": "Clear",
       "layout": "IPY_MODEL_8bbdc2df396c41ba923dac357d365e17",
       "style": "IPY_MODEL_09e378e3fce4459ab7065a9ba69fb4ae"
      }
     },
     "ded2a4e4a5fa48b38fae2c9ecd1f8c7e": {
      "model_module": "@jupyter-widgets/controls",
      "model_module_version": "1.5.0",
      "model_name": "DescriptionStyleModel",
      "state": {
       "description_width": ""
      }
     },
     "e04d95f35e034769931332b52cdcc71d": {
      "model_module": "@jupyter-widgets/base",
      "model_module_version": "1.2.0",
      "model_name": "LayoutModel",
      "state": {
       "grid_template_areas": "\n                                       \". . . . right \"\n                                        ",
       "grid_template_columns": "20% 20% 20% 20% 20%",
       "width": "100%"
      }
     },
     "e5261e676cc64dedaad16f56830fa72d": {
      "model_module": "@jupyter-widgets/controls",
      "model_module_version": "1.5.0",
      "model_name": "GridBoxModel",
      "state": {
       "children": [
        "IPY_MODEL_de1550a14dd9430fabf509e11a5f7be7"
       ],
       "layout": "IPY_MODEL_e04d95f35e034769931332b52cdcc71d"
      }
     },
     "e73acf34d5ec4c1fa10bb49453bb5042": {
      "model_module": "@jupyter-widgets/controls",
      "model_module_version": "1.5.0",
      "model_name": "DescriptionStyleModel",
      "state": {
       "description_width": ""
      }
     }
    },
    "version_major": 2,
    "version_minor": 0
   }
  }
 },
 "nbformat": 4,
 "nbformat_minor": 5
}
