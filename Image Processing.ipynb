{
 "cells": [
  {
   "cell_type": "code",
   "execution_count": null,
   "id": "3e4fb538-df37-47e1-9071-e0d75cd3454e",
   "metadata": {},
   "outputs": [],
   "source": [
    "%pip install qiskit"
   ]
  },
  {
   "cell_type": "code",
   "execution_count": null,
   "id": "aba10933-44a6-4666-bf1e-8eb3de74611a",
   "metadata": {},
   "outputs": [
    {
     "ename": "",
     "evalue": "",
     "output_type": "error",
     "traceback": [
      "\u001b[1;31mRunning cells with 'Python 3.8.9 64-bit' requires ipykernel package.\n",
      "Run the following command to install 'ipykernel' into the Python environment. \n",
      "Command: '/usr/bin/python3 -m pip install ipykernel -U --user --force-reinstall'"
     ]
    }
   ],
   "source": [
    "import matplotlib.pyplot as plt \n",
    "import numpy as np\n",
    "import os\n",
    "import glob\n",
    "import pathlib\n",
    "import matplotlib.pyplot as plt\n",
    "%matplotlib inline\n",
    "from tqdm import tqdm\n",
    "import warnings\n",
    "warnings.filterwarnings(\"ignore\")"
   ]
  },
  {
   "cell_type": "code",
   "execution_count": null,
   "id": "41eef6c8-bce8-448f-97fa-eb791cfe2fd5",
   "metadata": {},
   "outputs": [],
   "source": [
    "from PIL import Image\n",
    "\n",
    "#path to the image.\n",
    "def callImage(path):\n",
    "    x1 = Image.open(\n",
    "        path).convert('L');\n",
    "    y1 = np.asarray(x1.getdata(), dtype=np.float64).reshape((x1.size[1], x1.size[0]));\n",
    "    y_dat1 = np.asarray(y1, dtype=np.uint8)     \n",
    "    return y_dat1\n",
    "\n",
    "#Resize image into n x n pixel ( pixel is an int)\n",
    "def imageResize(data,pixel):\n",
    "    image = Image.fromarray(data,'L')\n",
    "    image= image.resize((pixel, pixel))\n",
    "    image=np.asarray(image.getdata(), dtype=np.float64).reshape((image.size[1], image.size[0]))\n",
    "    image=np.asarray(image, dtype=np.uint8)    \n",
    "    return image"
   ]
  },
  {
   "cell_type": "code",
   "execution_count": null,
   "id": "38e3501b-8173-452e-ba80-185719a07460",
   "metadata": {},
   "outputs": [],
   "source": [
    "data_img = callImage(\"image.jpg\")\n",
    "plt.imshow(data_img)"
   ]
  },
  {
   "cell_type": "code",
   "execution_count": null,
   "id": "50ad4b9d-fec1-4c46-9b0a-e037ad8e442d",
   "metadata": {},
   "outputs": [],
   "source": [
    "image = imageResize(data_img,16) # Can be printed with plt.imshow(image)\n",
    "image.flatten()"
   ]
  },
  {
   "cell_type": "code",
   "execution_count": null,
   "id": "2efae6f2-1f4d-4eed-b1eb-238fe9ebff5f",
   "metadata": {},
   "outputs": [],
   "source": [
    "from qiskit import QuantumCircuit, ClassicalRegister, QuantumRegister, execute\n",
    "from qiskit import  Aer, execute\n",
    "from qiskit.quantum_info import state_fidelity\n",
    "from qiskit.visualization import *\n",
    "from qiskit.quantum_info.operators import Operator\n",
    "\n",
    "nqubits=8"
   ]
  },
  {
   "cell_type": "code",
   "execution_count": null,
   "id": "d7a83d1e-fe09-4cdd-92f8-739cbde82383",
   "metadata": {},
   "outputs": [],
   "source": [
    "def phaseFlip(testdata):\n",
    "    arr_data=testdata.flatten()/max(testdata.flatten());\n",
    "    encoding_data= np.array([np.round(x,8) for x in arr_data]);\n",
    "    sum_const=np.sqrt(sum(np.absolute(encoding_data) ** 2))\n",
    "    encoding_norm=encoding_data/sum_const\n",
    "    m=np.diag(np.exp(complex(0,1)*np.pi*encoding_norm))\n",
    "    return m"
   ]
  },
  {
   "cell_type": "code",
   "execution_count": null,
   "id": "bbf71f87-7f23-4457-8ef8-faa4dd671fdf",
   "metadata": {},
   "outputs": [],
   "source": [
    "def convert_to_circuit(image):\n",
    "    qr = QuantumRegister(nqubits)\n",
    "    cr = ClassicalRegister(nqubits)\n",
    "    m = phaseFlip(np.array(image))\n",
    "    #Initilzation\n",
    "    qc = QuantumCircuit(qr, name='UI')\n",
    "    #qc.initialize(desired_vector, [qr[0],qr[1],qr[2],qr[3],qr[4],qr[5]])\n",
    "    qc.unitary(m, range(nqubits), label='UI')\n",
    "    print(qc)\n",
    "    return qc\n",
    "\n",
    "    \n",
    "    "
   ]
  },
  {
   "cell_type": "code",
   "execution_count": null,
   "id": "9dcdd55b-3252-4d1b-9a8a-11f824ef1309",
   "metadata": {},
   "outputs": [],
   "source": [
    "qc= convert_to_circuit(image)\n",
    "qc = qc.decompose()\n"
   ]
  },
  {
   "cell_type": "code",
   "execution_count": null,
   "id": "4ccdb078-7a52-490e-9644-1467ba3ccd82",
   "metadata": {},
   "outputs": [],
   "source": [
    "# GREY_THRESHOLD = 0.33\n",
    "# WHITE_THRESHOLD = 0.66\n",
    "\n",
    "# x_train_bin = np.array([ (math.pi / 2) if x_train > WHITE_THRESHOLD else 0 if x_train<GREY_THRESHOLD else (math.pi / 4) ], dtype=np.float32)\n",
    "# x_test_bin = np.array([0 if x_train > WHITE_THRESHOLD else (math.pi / 2) if x_train<GREY_THRESHOLD else (math.pi / 4) ], dtype=np.float32)"
   ]
  },
  {
   "cell_type": "code",
   "execution_count": null,
   "id": "efd72297-b87c-4b3a-864a-fdcfddac808f",
   "metadata": {},
   "outputs": [],
   "source": [
    "# def convert_to_circuit(image):\n",
    "#     \"\"\"Encode truncated classical image into quantum datapoint.\"\"\"\n",
    "#     values = np.ndarray.flatten(image)\n",
    "#     circuit = Circuit().h(range(9))\n",
    "#     for i, value in enumerate(values):\n",
    "#         circuit.ry(i, value)\n",
    "#         circuit.X(i)\n",
    "#     return circuit\n",
    "%pip install toolz"
   ]
  },
  {
   "cell_type": "code",
   "execution_count": null,
   "id": "0174a403-14b6-4945-9a50-a3c0f07fee0a",
   "metadata": {},
   "outputs": [],
   "source": [
    "from collections import OrderedDict\n",
    "from toolz import partition\n",
    "import numpy as np\n",
    "\n",
    "from qiskit import QuantumCircuit, ClassicalRegister, QuantumRegister, execute\n",
    "from qiskit import  Aer, execute\n",
    "from qiskit.quantum_info import state_fidelity\n",
    "from qiskit.visualization import *\n",
    "from qiskit.quantum_info.operators import Operator\n",
    "\n",
    "nqubits=8\n",
    "\n",
    "def diffuser(nqubits):\n",
    "    qc = QuantumCircuit(nqubits)\n",
    "    # Apply transformation |s> -> |00..0> (H-gates)\n",
    "    for qubit in range(nqubits):\n",
    "        qc.h(qubit)\n",
    "    # Apply transformation |00..0> -> |11..1> (X-gates)\n",
    "    for qubit in range(nqubits):\n",
    "        qc.x(qubit)\n",
    "    # Do multi-controlled-Z gate\n",
    "    qc.h(nqubits-1)\n",
    "    qc.mct(list(range(nqubits-1)), nqubits-1)  # multi-controlled-toffoli\n",
    "    qc.h(nqubits-1)\n",
    "    # Apply transformation |11..1> -> |00..0>\n",
    "    for qubit in range(nqubits):\n",
    "        qc.x(qubit)\n",
    "    # Apply transformation |00..0> -> |s>\n",
    "    for qubit in range(nqubits):\n",
    "        qc.h(qubit)\n",
    "    # We will return the diffuser as a gate\n",
    "    U_s = qc.to_gate()\n",
    "    U_s.name = \"Diffuser\"\n",
    "    return U_s\n",
    "\n",
    "\n",
    "def phaseFlipM(testdata):\n",
    "    arr_data=testdata.flatten()/max(testdata.flatten());\n",
    "    encoding_data= np.array([np.round(x,8) for x in arr_data]);\n",
    "    sum_const=np.sqrt(sum(np.absolute(encoding_data) ** 2))\n",
    "    encoding_norm=encoding_data/sum_const\n",
    "    m=np.diag(np.exp(complex(0,1)*np.pi*encoding_norm))\n",
    "    return m\n",
    "\n",
    "def grover(itr,data):\n",
    "    qr = QuantumRegister(nqubits)\n",
    "    cr = ClassicalRegister(nqubits)\n",
    "    m = phaseFlipM(np.array(data))\n",
    "    #Initilzation\n",
    "    qc = QuantumCircuit(qr, name='UI1')\n",
    "    #qc.initialize(desired_vector, [qr[0],qr[1],qr[2],qr[3],qr[4],qr[5]])\n",
    "    qc.unitary(m, range(nqubits), label='UI2')\n",
    "\n",
    "    my_inst = qc.to_instruction()\n",
    "\n",
    "    #Grover Search\n",
    "    my_circuit = QuantumCircuit(qr,cr)\n",
    "    for qubit in range(nqubits):\n",
    "        my_circuit.h(qubit)\n",
    "\n",
    "    for i in range(itr):\n",
    "        my_circuit.append(my_inst, range(nqubits))\n",
    "        my_circuit.append(diffuser(nqubits), range(nqubits))\n",
    "\n",
    "    my_circuit.measure(qr[:],cr[:])\n",
    "    nshot=100000;\n",
    "    print(my_circuit)\n",
    "    backend = Aer.get_backend('qasm_simulator')\n",
    "    job = execute(my_circuit, backend, shots=nshot)\n",
    "    result = job.result()\n",
    "    count =result.get_counts()\n",
    "    return count\n",
    "\n",
    "def countBitstring(count):\n",
    "    f=[]\n",
    "    for i in range(2**nqubits):\n",
    "        if format(i, '#010b')[2:10] in count:\n",
    "            f.append(count[format(i, '#010b')[2:10]])\n",
    "        else:\n",
    "            f.append(0)\n",
    "    return np.array(list(f))\n",
    "\n",
    "def imigize1(count):\n",
    "    countlist=countBitstring(count)\n",
    "    out_img=np.array(list(partition(16, countlist)))/max(countlist);\n",
    "    return out_img.squeeze()"
   ]
  },
  {
   "cell_type": "code",
   "execution_count": null,
   "id": "5e7021de-320e-47c6-a7f7-202dd86cedbc",
   "metadata": {},
   "outputs": [],
   "source": [
    "grover(5, image)\n"
   ]
  },
  {
   "cell_type": "code",
   "execution_count": null,
   "id": "c650a15f-fc1b-41b2-9718-b1b67e973df0",
   "metadata": {},
   "outputs": [],
   "source": [
    "plot_histogram(grover(5,image), color='midnightblue', title=\"New Histogram\",bar_labels =False,sort = 'desc')"
   ]
  },
  {
   "cell_type": "code",
   "execution_count": null,
   "id": "0a4cdf63-44d0-42f1-ae8b-97776db05e45",
   "metadata": {},
   "outputs": [],
   "source": [
    "n_samples_show = 10\n",
    "fig, axes = plt.subplots(nrows=2, ncols=n_samples_show, figsize=(20, 6))\n",
    "\n",
    "for i in range(10):\n",
    "\n",
    "    axes[0,i].imshow(image, cmap='gray')\n",
    "    axes[0,i].set_xticks([])\n",
    "    axes[0,i].set_yticks([])\n",
    "\n",
    "    axes[1,i].imshow(imigize1(grover(i,image)), cmap='gray')\n",
    "    axes[1,i].set_xticks([])\n",
    "    axes[1,i].set_yticks([])"
   ]
  },
  {
   "cell_type": "code",
   "execution_count": null,
   "id": "3e25bf18",
   "metadata": {},
   "outputs": [],
   "source": []
  },
  {
   "cell_type": "code",
   "execution_count": null,
   "id": "b225ce64",
   "metadata": {},
   "outputs": [],
   "source": []
  }
 ],
 "metadata": {
  "interpreter": {
   "hash": "ec904e16ece6b6ba2f7d56358c1f2ce47ecbe11922637a11fd08f09ca8ee2968"
  },
  "kernelspec": {
   "display_name": "Python 3 [Qiskit]",
   "language": "python",
   "name": "python3"
  },
  "language_info": {
   "codemirror_mode": {
    "name": "ipython",
    "version": 3
   },
   "file_extension": ".py",
   "mimetype": "text/x-python",
   "name": "python",
   "nbconvert_exporter": "python",
   "pygments_lexer": "ipython3",
   "version": "3.8.9"
  }
 },
 "nbformat": 4,
 "nbformat_minor": 5
}
